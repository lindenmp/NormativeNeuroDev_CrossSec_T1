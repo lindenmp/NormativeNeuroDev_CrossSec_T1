{
 "cells": [
  {
   "cell_type": "code",
   "execution_count": 1,
   "metadata": {},
   "outputs": [],
   "source": [
    "# Essentials\n",
    "import os, sys, glob\n",
    "import pandas as pd\n",
    "import numpy as np\n",
    "import nibabel as nib\n",
    "import scipy.io as sio\n",
    "\n",
    "# Stats\n",
    "import scipy as sp\n",
    "from scipy import stats\n",
    "import statsmodels.api as sm\n",
    "import pingouin as pg\n",
    "\n",
    "# Plotting\n",
    "import seaborn as sns\n",
    "import matplotlib.pyplot as plt\n",
    "plt.rcParams['svg.fonttype'] = 'none'"
   ]
  },
  {
   "cell_type": "code",
   "execution_count": 2,
   "metadata": {},
   "outputs": [],
   "source": [
    "sys.path.append('/Users/lindenmp/Google-Drive-Penn/work/research_projects/normative_neurodev_cs_t1/1_code/')\n",
    "from func import set_proj_env, my_get_cmap, rank_int"
   ]
  },
  {
   "cell_type": "code",
   "execution_count": 3,
   "metadata": {},
   "outputs": [],
   "source": [
    "train_test_str = 'squeakycleanExclude'\n",
    "exclude_str = 't1Exclude' # 't1Exclude' 'fsFinalExclude'\n",
    "parc_str = 'schaefer' # 'schaefer' 'lausanne'\n",
    "parc_scale = 400 # 200 400 | 60 125 250\n",
    "_ = set_proj_env(train_test_str = train_test_str, exclude_str = exclude_str, parc_str = parc_str, parc_scale = parc_scale)"
   ]
  },
  {
   "cell_type": "code",
   "execution_count": 4,
   "metadata": {},
   "outputs": [
    {
     "data": {
      "text/plain": [
       "'t1Exclude_'"
      ]
     },
     "execution_count": 4,
     "metadata": {},
     "output_type": "execute_result"
    }
   ],
   "source": [
    "# output file prefix\n",
    "outfile_prefix = exclude_str+'_'\n",
    "outfile_prefix"
   ]
  },
  {
   "cell_type": "markdown",
   "metadata": {},
   "source": [
    "### Setup directory variables"
   ]
  },
  {
   "cell_type": "code",
   "execution_count": 5,
   "metadata": {},
   "outputs": [
    {
     "name": "stdout",
     "output_type": "stream",
     "text": [
      "/Users/lindenmp/Google-Drive-Penn/work/research_projects/normative_neurodev_cs_t1/2_pipeline\n"
     ]
    }
   ],
   "source": [
    "print(os.environ['PIPELINEDIR'])\n",
    "if not os.path.exists(os.environ['PIPELINEDIR']): os.makedirs(os.environ['PIPELINEDIR'])"
   ]
  },
  {
   "cell_type": "code",
   "execution_count": 6,
   "metadata": {},
   "outputs": [
    {
     "name": "stdout",
     "output_type": "stream",
     "text": [
      "/Users/lindenmp/Google-Drive-Penn/work/research_projects/normative_neurodev_cs_t1/2_pipeline/0_get_sample/out\n"
     ]
    }
   ],
   "source": [
    "outputdir = os.path.join(os.environ['PIPELINEDIR'], '0_get_sample', 'out')\n",
    "print(outputdir)\n",
    "if not os.path.exists(outputdir): os.makedirs(outputdir)"
   ]
  },
  {
   "cell_type": "code",
   "execution_count": 7,
   "metadata": {},
   "outputs": [
    {
     "name": "stdout",
     "output_type": "stream",
     "text": [
      "/Users/lindenmp/Google-Drive-Penn/work/research_projects/normative_neurodev_cs_t1/3_output/figs\n"
     ]
    }
   ],
   "source": [
    "figdir = os.path.join(os.environ['OUTPUTDIR'], 'figs')\n",
    "print(figdir)\n",
    "if not os.path.exists(figdir): os.makedirs(figdir)"
   ]
  },
  {
   "cell_type": "markdown",
   "metadata": {},
   "source": [
    "# Load in demographic and symptom data"
   ]
  },
  {
   "cell_type": "code",
   "execution_count": 8,
   "metadata": {},
   "outputs": [
    {
     "name": "stdout",
     "output_type": "stream",
     "text": [
      "1599\n"
     ]
    }
   ],
   "source": [
    "# LTN and Health Status\n",
    "health = pd.read_csv(os.path.join(os.environ['DATADIR'], 'external/pncDataFreeze20170905/n1601_dataFreeze/health/n1601_health_20170421.csv'))\n",
    "# Protocol\n",
    "prot = pd.read_csv(os.path.join(os.environ['DATADIR'], 'external/pncDataFreeze20170905/n1601_dataFreeze/neuroimaging/n1601_pnc_protocol_validation_params_status_20161220.csv'))\n",
    "# T1 QA\n",
    "t1_qa = pd.read_csv(os.path.join(os.environ['DATADIR'], 'external/pncDataFreeze20170905/n1601_dataFreeze/neuroimaging/t1struct/n1601_t1QaData_20170306.csv'))\n",
    "# Demographics\n",
    "demog = pd.read_csv(os.path.join(os.environ['DATADIR'], 'external/pncDataFreeze20170905/n1601_dataFreeze/demographics/n1601_demographics_go1_20161212.csv'))\n",
    "# Brain volume\n",
    "brain_vol = pd.read_csv(os.path.join(os.environ['DATADIR'], 'external/pncDataFreeze20170905/n1601_dataFreeze/neuroimaging/t1struct/n1601_ctVol20170412.csv'))\n",
    "\n",
    "# GOASSESS Bifactor scores\n",
    "goassess = pd.read_csv(os.path.join(os.environ['DATADIR'], 'external/GO1_clinical_factor_scores_psychosis_split_BIFACTOR.csv'))\n",
    "# Clinical diagnostic \n",
    "clinical = pd.read_csv(os.path.join(os.environ['DATADIR'], 'external/pncDataFreeze20170905/n1601_dataFreeze/clinical/n1601_goassess_psych_summary_vars_20131014.csv'))\n",
    "# Psychosis summary\n",
    "clinical_psychosis = pd.read_csv(os.path.join(os.environ['DATADIR'], 'external/pncDataFreeze20170905/n1601_dataFreeze/clinical/n1601_diagnosis_dxpmr_20170509.csv'))\n",
    "\n",
    "# merge\n",
    "df = health\n",
    "df = pd.merge(df, prot, on=['scanid', 'bblid']) # prot\n",
    "df = pd.merge(df, t1_qa, on=['scanid', 'bblid']) # t1_qa\n",
    "df = pd.merge(df, demog, on=['scanid', 'bblid']) # demog\n",
    "df = pd.merge(df, brain_vol, on=['scanid', 'bblid']) # brain_vol\n",
    "df = pd.merge(df, clinical, on=['scanid', 'bblid']) # clinical\n",
    "df = pd.merge(df, clinical_psychosis, on=['scanid', 'bblid']) # clinical\n",
    "df = pd.merge(df, goassess, on=['bblid']) # goassess\n",
    "\n",
    "print(df.shape[0])\n",
    "df.set_index(['bblid', 'scanid'], inplace = True)"
   ]
  },
  {
   "cell_type": "code",
   "execution_count": 9,
   "metadata": {},
   "outputs": [
    {
     "data": {
      "text/html": [
       "<div>\n",
       "<style scoped>\n",
       "    .dataframe tbody tr th:only-of-type {\n",
       "        vertical-align: middle;\n",
       "    }\n",
       "\n",
       "    .dataframe tbody tr th {\n",
       "        vertical-align: top;\n",
       "    }\n",
       "\n",
       "    .dataframe thead th {\n",
       "        text-align: right;\n",
       "    }\n",
       "</style>\n",
       "<table border=\"1\" class=\"dataframe\">\n",
       "  <thead>\n",
       "    <tr style=\"text-align: right;\">\n",
       "      <th></th>\n",
       "      <th></th>\n",
       "      <th>timepoint_x</th>\n",
       "      <th>smrytrt_psychinpt</th>\n",
       "      <th>psychoactiveMedPsychv2</th>\n",
       "      <th>psychoactiveMedMedicalv2</th>\n",
       "      <th>incidentalFindingExclude</th>\n",
       "      <th>medicalratingExcludev1</th>\n",
       "      <th>healthExcludev2</th>\n",
       "      <th>ltnExcludev2</th>\n",
       "      <th>squeakycleanExclude</th>\n",
       "      <th>psychoactiveMedMedical</th>\n",
       "      <th>...</th>\n",
       "      <th>goassessDxpmr4</th>\n",
       "      <th>goassessDxpmSep15</th>\n",
       "      <th>goassessDxpmr6</th>\n",
       "      <th>goassessDxpmr7</th>\n",
       "      <th>Overall_Psychopathology</th>\n",
       "      <th>Psychosis_Positive</th>\n",
       "      <th>Psychosis_NegativeDisorg</th>\n",
       "      <th>AnxiousMisery</th>\n",
       "      <th>Externalizing</th>\n",
       "      <th>Fear</th>\n",
       "    </tr>\n",
       "    <tr>\n",
       "      <th>bblid</th>\n",
       "      <th>scanid</th>\n",
       "      <th></th>\n",
       "      <th></th>\n",
       "      <th></th>\n",
       "      <th></th>\n",
       "      <th></th>\n",
       "      <th></th>\n",
       "      <th></th>\n",
       "      <th></th>\n",
       "      <th></th>\n",
       "      <th></th>\n",
       "      <th></th>\n",
       "      <th></th>\n",
       "      <th></th>\n",
       "      <th></th>\n",
       "      <th></th>\n",
       "      <th></th>\n",
       "      <th></th>\n",
       "      <th></th>\n",
       "      <th></th>\n",
       "      <th></th>\n",
       "      <th></th>\n",
       "    </tr>\n",
       "  </thead>\n",
       "  <tbody>\n",
       "    <tr>\n",
       "      <th>80961</th>\n",
       "      <th>2632</th>\n",
       "      <td>1</td>\n",
       "      <td>0</td>\n",
       "      <td>1</td>\n",
       "      <td>0</td>\n",
       "      <td>0</td>\n",
       "      <td>0</td>\n",
       "      <td>0</td>\n",
       "      <td>1</td>\n",
       "      <td>1</td>\n",
       "      <td>0</td>\n",
       "      <td>...</td>\n",
       "      <td>4PS</td>\n",
       "      <td>PS</td>\n",
       "      <td>PS</td>\n",
       "      <td>PS</td>\n",
       "      <td>1.946241</td>\n",
       "      <td>1.250946</td>\n",
       "      <td>1.375173</td>\n",
       "      <td>-0.737588</td>\n",
       "      <td>0.845164</td>\n",
       "      <td>-2.437746</td>\n",
       "    </tr>\n",
       "    <tr>\n",
       "      <th>80199</th>\n",
       "      <th>2637</th>\n",
       "      <td>1</td>\n",
       "      <td>0</td>\n",
       "      <td>0</td>\n",
       "      <td>0</td>\n",
       "      <td>0</td>\n",
       "      <td>0</td>\n",
       "      <td>0</td>\n",
       "      <td>0</td>\n",
       "      <td>0</td>\n",
       "      <td>0</td>\n",
       "      <td>...</td>\n",
       "      <td>3PC</td>\n",
       "      <td>Healthy</td>\n",
       "      <td>TD</td>\n",
       "      <td>PS</td>\n",
       "      <td>1.854055</td>\n",
       "      <td>0.370510</td>\n",
       "      <td>-0.925523</td>\n",
       "      <td>-0.883597</td>\n",
       "      <td>0.130829</td>\n",
       "      <td>0.742890</td>\n",
       "    </tr>\n",
       "    <tr>\n",
       "      <th>80179</th>\n",
       "      <th>2643</th>\n",
       "      <td>1</td>\n",
       "      <td>1</td>\n",
       "      <td>1</td>\n",
       "      <td>0</td>\n",
       "      <td>0</td>\n",
       "      <td>0</td>\n",
       "      <td>0</td>\n",
       "      <td>1</td>\n",
       "      <td>1</td>\n",
       "      <td>0</td>\n",
       "      <td>...</td>\n",
       "      <td>3PC</td>\n",
       "      <td>NaN</td>\n",
       "      <td>TD</td>\n",
       "      <td>TD</td>\n",
       "      <td>0.495788</td>\n",
       "      <td>-0.824844</td>\n",
       "      <td>1.762409</td>\n",
       "      <td>1.037908</td>\n",
       "      <td>0.622578</td>\n",
       "      <td>0.950200</td>\n",
       "    </tr>\n",
       "    <tr>\n",
       "      <th>81005</th>\n",
       "      <th>2644</th>\n",
       "      <td>1</td>\n",
       "      <td>0</td>\n",
       "      <td>0</td>\n",
       "      <td>0</td>\n",
       "      <td>0</td>\n",
       "      <td>1</td>\n",
       "      <td>1</td>\n",
       "      <td>1</td>\n",
       "      <td>1</td>\n",
       "      <td>0</td>\n",
       "      <td>...</td>\n",
       "      <td>1TD</td>\n",
       "      <td>NaN</td>\n",
       "      <td>TD</td>\n",
       "      <td>TD</td>\n",
       "      <td>0.059965</td>\n",
       "      <td>-1.015043</td>\n",
       "      <td>1.395996</td>\n",
       "      <td>0.373101</td>\n",
       "      <td>1.358093</td>\n",
       "      <td>0.982293</td>\n",
       "    </tr>\n",
       "    <tr>\n",
       "      <th>80812</th>\n",
       "      <th>2646</th>\n",
       "      <td>1</td>\n",
       "      <td>0</td>\n",
       "      <td>0</td>\n",
       "      <td>0</td>\n",
       "      <td>0</td>\n",
       "      <td>0</td>\n",
       "      <td>0</td>\n",
       "      <td>0</td>\n",
       "      <td>1</td>\n",
       "      <td>0</td>\n",
       "      <td>...</td>\n",
       "      <td>4PS</td>\n",
       "      <td>PS</td>\n",
       "      <td>PS</td>\n",
       "      <td>PS</td>\n",
       "      <td>2.080370</td>\n",
       "      <td>0.274750</td>\n",
       "      <td>-1.888498</td>\n",
       "      <td>0.261131</td>\n",
       "      <td>-1.500084</td>\n",
       "      <td>1.584978</td>\n",
       "    </tr>\n",
       "  </tbody>\n",
       "</table>\n",
       "<p>5 rows × 149 columns</p>\n",
       "</div>"
      ],
      "text/plain": [
       "              timepoint_x  smrytrt_psychinpt  psychoactiveMedPsychv2  \\\n",
       "bblid scanid                                                           \n",
       "80961 2632              1                  0                       1   \n",
       "80199 2637              1                  0                       0   \n",
       "80179 2643              1                  1                       1   \n",
       "81005 2644              1                  0                       0   \n",
       "80812 2646              1                  0                       0   \n",
       "\n",
       "              psychoactiveMedMedicalv2  incidentalFindingExclude  \\\n",
       "bblid scanid                                                       \n",
       "80961 2632                           0                         0   \n",
       "80199 2637                           0                         0   \n",
       "80179 2643                           0                         0   \n",
       "81005 2644                           0                         0   \n",
       "80812 2646                           0                         0   \n",
       "\n",
       "              medicalratingExcludev1  healthExcludev2  ltnExcludev2  \\\n",
       "bblid scanid                                                          \n",
       "80961 2632                         0                0             1   \n",
       "80199 2637                         0                0             0   \n",
       "80179 2643                         0                0             1   \n",
       "81005 2644                         1                1             1   \n",
       "80812 2646                         0                0             0   \n",
       "\n",
       "              squeakycleanExclude  psychoactiveMedMedical  ...  \\\n",
       "bblid scanid                                               ...   \n",
       "80961 2632                      1                       0  ...   \n",
       "80199 2637                      0                       0  ...   \n",
       "80179 2643                      1                       0  ...   \n",
       "81005 2644                      1                       0  ...   \n",
       "80812 2646                      1                       0  ...   \n",
       "\n",
       "              goassessDxpmr4  goassessDxpmSep15  goassessDxpmr6  \\\n",
       "bblid scanid                                                      \n",
       "80961 2632               4PS                 PS              PS   \n",
       "80199 2637               3PC            Healthy              TD   \n",
       "80179 2643               3PC                NaN              TD   \n",
       "81005 2644               1TD                NaN              TD   \n",
       "80812 2646               4PS                 PS              PS   \n",
       "\n",
       "              goassessDxpmr7  Overall_Psychopathology  Psychosis_Positive  \\\n",
       "bblid scanid                                                                \n",
       "80961 2632                PS                 1.946241            1.250946   \n",
       "80199 2637                PS                 1.854055            0.370510   \n",
       "80179 2643                TD                 0.495788           -0.824844   \n",
       "81005 2644                TD                 0.059965           -1.015043   \n",
       "80812 2646                PS                 2.080370            0.274750   \n",
       "\n",
       "              Psychosis_NegativeDisorg  AnxiousMisery  Externalizing      Fear  \n",
       "bblid scanid                                                                    \n",
       "80961 2632                    1.375173      -0.737588       0.845164 -2.437746  \n",
       "80199 2637                   -0.925523      -0.883597       0.130829  0.742890  \n",
       "80179 2643                    1.762409       1.037908       0.622578  0.950200  \n",
       "81005 2644                    1.395996       0.373101       1.358093  0.982293  \n",
       "80812 2646                   -1.888498       0.261131      -1.500084  1.584978  \n",
       "\n",
       "[5 rows x 149 columns]"
      ]
     },
     "execution_count": 9,
     "metadata": {},
     "output_type": "execute_result"
    }
   ],
   "source": [
    "df.head()"
   ]
  },
  {
   "cell_type": "markdown",
   "metadata": {},
   "source": [
    "# Filter subjects"
   ]
  },
  {
   "cell_type": "code",
   "execution_count": 10,
   "metadata": {},
   "outputs": [
    {
     "name": "stdout",
     "output_type": "stream",
     "text": [
      "N after initial exclusion: 1445\n",
      "N after T1 exclusion: 1394\n"
     ]
    }
   ],
   "source": [
    "# 1) Primary sample filter\n",
    "df = df[df['healthExcludev2'] == 0]\n",
    "print('N after initial exclusion:', df.shape[0])\n",
    "\n",
    "# 2) T1 exclusion\n",
    "df = df[df[exclude_str] == 0]\n",
    "print('N after T1 exclusion:', df.shape[0])"
   ]
  },
  {
   "cell_type": "code",
   "execution_count": 11,
   "metadata": {},
   "outputs": [
    {
     "data": {
      "text/plain": [
       "array([2.   , 1.667, 1.333, 1.   ])"
      ]
     },
     "execution_count": 11,
     "metadata": {},
     "output_type": "execute_result"
    }
   ],
   "source": [
    "df['averageManualRating'].unique()"
   ]
  },
  {
   "cell_type": "code",
   "execution_count": 12,
   "metadata": {},
   "outputs": [
    {
     "data": {
      "text/plain": [
       "1155"
      ]
     },
     "execution_count": 12,
     "metadata": {},
     "output_type": "execute_result"
    }
   ],
   "source": [
    "np.sum(df['averageManualRating'] == 2)"
   ]
  },
  {
   "cell_type": "code",
   "execution_count": 13,
   "metadata": {},
   "outputs": [],
   "source": [
    "# Convert age to years\n",
    "df['ageAtScan1_Years'] = np.round(df.ageAtScan1/12, decimals=1)"
   ]
  },
  {
   "cell_type": "markdown",
   "metadata": {},
   "source": [
    "# Define train/test split"
   ]
  },
  {
   "cell_type": "code",
   "execution_count": 14,
   "metadata": {},
   "outputs": [
    {
     "name": "stdout",
     "output_type": "stream",
     "text": [
      "Train:  410 Test: 984\n"
     ]
    }
   ],
   "source": [
    "if train_test_str == 'squeakycleanExclude':\n",
    "    # 1) Use squeakycleanExclude\n",
    "    # For PNC, the train/test split is based upon the 'squeakycleanExclude' criteria. From the wiki:\n",
    "    # \"This category excludes all subjects with any screening diagnosis as found by the GOASSESS clinical screening instrument.\n",
    "    # Note that this is NOT a commonly used criteria except for sensitivity analysis, and in general we would prefer to not\n",
    "    # have studies use this without a strong rationale; would discuss with your BBL liaison.\"\n",
    "    # train = squeakycleanExclude == 0 --> retain those WITHOUT any lifetime psychopathology \n",
    "    # test = squeakycleanExclude == 1 --> retain those WITH lifetime psychopathology\n",
    "    print('Train: ', np.sum(df[train_test_str] == 0), 'Test:', np.sum(df[train_test_str] == 1))"
   ]
  },
  {
   "cell_type": "markdown",
   "metadata": {},
   "source": [
    "# Characterise train/test split"
   ]
  },
  {
   "cell_type": "markdown",
   "metadata": {},
   "source": [
    "## Train/Test split"
   ]
  },
  {
   "cell_type": "code",
   "execution_count": 15,
   "metadata": {},
   "outputs": [
    {
     "name": "stdout",
     "output_type": "stream",
     "text": [
      "There are 149 unique age points\n",
      "All unique age points are represented in the training set\n",
      "All unique age points are represented in the testing set\n"
     ]
    }
   ],
   "source": [
    "# find unique ages\n",
    "age_unique = np.unique(df.ageAtScan1_Years)\n",
    "print('There are', age_unique.shape[0], 'unique age points')\n",
    "\n",
    "# Check if train and test represent the full unique age space\n",
    "train_diff = np.setdiff1d(df[df[train_test_str] == 0].ageAtScan1_Years,age_unique)\n",
    "test_diff = np.setdiff1d(df[df[train_test_str] == 1].ageAtScan1_Years,age_unique)\n",
    "\n",
    "if train_diff.size == 0:\n",
    "    print('All unique age points are represented in the training set')\n",
    "elif train_diff.size != 0:\n",
    "    print('All unique age points ARE NOT represented in the training set')\n",
    "    \n",
    "if test_diff.size == 0:\n",
    "    print('All unique age points are represented in the testing set')\n",
    "elif test_diff.size != 0:\n",
    "    print('All unique age points ARE NOT represented in the testing set')"
   ]
  },
  {
   "cell_type": "markdown",
   "metadata": {},
   "source": [
    "## Export"
   ]
  },
  {
   "cell_type": "code",
   "execution_count": 16,
   "metadata": {},
   "outputs": [
    {
     "name": "stdout",
     "output_type": "stream",
     "text": [
      "['Overall_Psychopathology', 'Psychosis_Positive', 'Psychosis_NegativeDisorg', 'AnxiousMisery', 'Externalizing', 'Fear']\n"
     ]
    }
   ],
   "source": [
    "phenos = ['Overall_Psychopathology','Psychosis_Positive','Psychosis_NegativeDisorg','AnxiousMisery','Externalizing','Fear']\n",
    "print(phenos)"
   ]
  },
  {
   "cell_type": "code",
   "execution_count": 17,
   "metadata": {},
   "outputs": [],
   "source": [
    "for pheno in phenos:\n",
    "    if df.loc[:,pheno].isna().any():\n",
    "        print('NaN replacement: ', pheno)\n",
    "        x = np.nanmedian(df.loc[:,pheno])\n",
    "        df.loc[df.loc[:,pheno].isna(),pheno] = x"
   ]
  },
  {
   "cell_type": "code",
   "execution_count": 18,
   "metadata": {},
   "outputs": [
    {
     "name": "stdout",
     "output_type": "stream",
     "text": [
      "0\n"
     ]
    }
   ],
   "source": [
    "# Normalize\n",
    "rank_r = np.zeros(len(phenos),)\n",
    "\n",
    "for i, pheno in enumerate(phenos):\n",
    "    # normalize regional metric\n",
    "#     x = sp.stats.yeojohnson(df.loc[:,pheno])[0]\n",
    "    x = rank_int(df.loc[:,pheno])\n",
    "    # check if rank order is preserved\n",
    "    rank_r[i] = sp.stats.spearmanr(df.loc[:,pheno],x)[0]\n",
    "    # store normalized version\n",
    "    df.loc[:,pheno] = x\n",
    "\n",
    "print(np.sum(rank_r < 1))"
   ]
  },
  {
   "cell_type": "code",
   "execution_count": 19,
   "metadata": {},
   "outputs": [
    {
     "data": {
      "text/plain": [
       "Overall_Psychopathology     0.982594\n",
       "Psychosis_Positive          0.997561\n",
       "Psychosis_NegativeDisorg    0.997561\n",
       "AnxiousMisery               0.997561\n",
       "Externalizing               0.997556\n",
       "Fear                        0.997551\n",
       "dtype: float64"
      ]
     },
     "execution_count": 19,
     "metadata": {},
     "output_type": "execute_result"
    }
   ],
   "source": [
    "df.loc[:,phenos].var()"
   ]
  },
  {
   "cell_type": "code",
   "execution_count": 20,
   "metadata": {},
   "outputs": [],
   "source": [
    "header = [train_test_str, 'ageAtScan1', 'ageAtScan1_Years','sex','race2','handednessv2',\n",
    "          'mprage_antsCT_vol_TBV', 'averageManualRating',\n",
    "          'Overall_Psychopathology','Psychosis_Positive','Psychosis_NegativeDisorg','AnxiousMisery','Externalizing','Fear',\n",
    "          'goassessSmryMood', 'goassessSmryMan', 'goassessSmryDep', 'goassessSmryEat', 'goassessSmryBul',\n",
    "          'goassessSmryAno', 'goassessSmryAnx', 'goassessSmryGad', 'goassessSmrySep', 'goassessSmryPhb', 'goassessSmrySoc',\n",
    "          'goassessSmryPan', 'goassessSmryAgr', 'goassessSmryOcd', 'goassessSmryPtd', 'goassessSmryPsy', 'goassessSmryDel',\n",
    "          'goassessSmryHal', 'goassessSmryHalAv', 'goassessSmryHalAs', 'goassessSmryHalVh', 'goassessSmryHalOh', 'goassessSmryHalTh',\n",
    "          'goassessSmryBeh', 'goassessSmryAdd', 'goassessSmryOdd', 'goassessSmryCon', 'goassessSmryPrimePos1', 'goassessSmryPrimeTot',\n",
    "          'goassessSmryPrimePos2', 'goassessSmryPsychOverallRtg', 'goassessDxpmr7']\n",
    "df.to_csv(os.path.join(outputdir, outfile_prefix+'df.csv'), columns = header)"
   ]
  },
  {
   "cell_type": "markdown",
   "metadata": {},
   "source": [
    "# Plots"
   ]
  },
  {
   "cell_type": "code",
   "execution_count": 21,
   "metadata": {},
   "outputs": [],
   "source": [
    "if not os.path.exists(figdir): os.makedirs(figdir)\n",
    "os.chdir(figdir)\n",
    "sns.set(style='white', context = 'paper', font_scale = 1)\n",
    "cmap = my_get_cmap('pair')\n",
    "\n",
    "labels = ['Train', 'Test']\n",
    "phenos_label_short = ['Ov. Psych.', 'Psy. (pos.)', 'Psy. (neg.)', 'Anx.-mis.', 'Ext.', 'Fear']\n",
    "phenos_label = ['Overall Psychopathology','Psychosis (Positive)','Psychosis (Negative)','Anxious-Misery','Externalizing','Fear']"
   ]
  },
  {
   "cell_type": "markdown",
   "metadata": {},
   "source": [
    "Figure 2A"
   ]
  },
  {
   "cell_type": "code",
   "execution_count": 22,
   "metadata": {},
   "outputs": [
    {
     "name": "stderr",
     "output_type": "stream",
     "text": [
      "/Users/lindenmp/opt/anaconda3/envs/normative_neurodev_cs_t1/lib/python3.7/site-packages/seaborn/distributions.py:2551: FutureWarning: `distplot` is a deprecated function and will be removed in a future version. Please adapt your code to use either `displot` (a figure-level function with similar flexibility) or `histplot` (an axes-level function for histograms).\n",
      "  warnings.warn(msg, FutureWarning)\n",
      "/Users/lindenmp/opt/anaconda3/envs/normative_neurodev_cs_t1/lib/python3.7/site-packages/seaborn/distributions.py:2551: FutureWarning: `distplot` is a deprecated function and will be removed in a future version. Please adapt your code to use either `displot` (a figure-level function with similar flexibility) or `histplot` (an axes-level function for histograms).\n",
      "  warnings.warn(msg, FutureWarning)\n"
     ]
    },
    {
     "data": {
      "image/png": "[encoded data removed]",
      "text/plain": [
       "<Figure size 468x180 with 2 Axes>"
      ]
     },
     "metadata": {},
     "output_type": "display_data"
    }
   ],
   "source": [
    "f, axes = plt.subplots(1,2)\n",
    "f.set_figwidth(6.5)\n",
    "f.set_figheight(2.5)\n",
    "colormap = sns.color_palette(\"pastel\", 2)\n",
    "\n",
    "sns.distplot(df.loc[df[train_test_str] == 0,'ageAtScan1_Years'], bins=20, hist=True, kde=False, rug=False, label = labels[0],\n",
    "             hist_kws={\"histtype\": \"step\", \"linewidth\": 2, \"alpha\": 1}, color=list(cmap[0]), ax = axes[0]);\n",
    "sns.distplot(df.loc[df[train_test_str] == 1,'ageAtScan1_Years'], bins=20, hist=True, kde=False, rug=False, label = labels[1],\n",
    "             hist_kws={\"histtype\": \"step\", \"linewidth\": 2, \"alpha\": 1}, color=list(cmap[1]), ax = axes[0]);\n",
    "axes[0].set_xlabel('Age (years)');\n",
    "axes[0].set_ylabel('Number of participants');\n",
    "axes[0].set_xticks(np.arange(np.min(np.round(age_unique,0)), np.max(np.round(age_unique,0)), 2))\n",
    "\n",
    "# set width of bar\n",
    "barWidth = 0.25\n",
    "\n",
    "# Sex\n",
    "y_train = [np.sum(df.loc[df[train_test_str] == 0,'sex'] == 1), np.sum(df.loc[df[train_test_str] == 0,'sex'] == 2)]\n",
    "y_test = [np.sum(df.loc[df[train_test_str] == 1,'sex'] == 1), np.sum(df.loc[df[train_test_str] == 1,'sex'] == 2)]\n",
    "r1 = np.arange(len(y_train))+barWidth/2\n",
    "r2 = [x + barWidth for x in r1]\n",
    "axes[1].bar(r1, y_train, width = barWidth, color = cmap[0], label = labels[0])\n",
    "axes[1].bar(r2, y_test, width = barWidth, color = cmap[1], label = labels[1])\n",
    "axes[1].set_xlabel('Sex')\n",
    "# axes[1].set_ylabel('Number of participants')\n",
    "axes[1].set_xticks([r + barWidth for r in range(len(y_train))])\n",
    "axes[1].set_xticklabels(['Male', 'Female'])\n",
    "\n",
    "f.savefig(outfile_prefix+'age_distributions.svg', dpi = 300, bbox_inches = 'tight', pad_inches = 0)"
   ]
  },
  {
   "cell_type": "markdown",
   "metadata": {},
   "source": [
    "## Phenotype distributions over train/test"
   ]
  },
  {
   "cell_type": "markdown",
   "metadata": {},
   "source": [
    "Figure 2B"
   ]
  },
  {
   "cell_type": "code",
   "execution_count": 23,
   "metadata": {},
   "outputs": [
    {
     "data": {
      "image/png": "[encoded data removed]",
      "text/plain": [
       "<Figure size 180x288 with 1 Axes>"
      ]
     },
     "metadata": {},
     "output_type": "display_data"
    }
   ],
   "source": [
    "df_rc = pd.melt(df, id_vars = train_test_str, value_vars = phenos)\n",
    "\n",
    "f, ax = plt.subplots()\n",
    "f.set_figwidth(2.5)\n",
    "f.set_figheight(4)\n",
    "ax = sns.violinplot(y='variable', x='value', hue=train_test_str, data=df_rc, palette = cmap, split=True, scale='width', inner = 'quartile', orient = 'h')\n",
    "ax.get_legend().remove()\n",
    "ax.set_yticklabels(phenos_label_short)\n",
    "ax.set_ylabel('Psychopathology phenotypes')\n",
    "ax.set_xlabel('Phenotype score')\n",
    "f.savefig(outfile_prefix+'phenos_distributions.svg', dpi = 300, bbox_inches = 'tight', pad_inches = 0)"
   ]
  }
 ],
 "metadata": {
  "kernelspec": {
   "display_name": "Python 3",
   "language": "python",
   "name": "python3"
  },
  "language_info": {
   "codemirror_mode": {
    "name": "ipython",
    "version": 3
   },
   "file_extension": ".py",
   "mimetype": "text/x-python",
   "name": "python",
   "nbconvert_exporter": "python",
   "pygments_lexer": "ipython3",
   "version": "3.7.9"
  }
 },
 "nbformat": 4,
 "nbformat_minor": 4
}
