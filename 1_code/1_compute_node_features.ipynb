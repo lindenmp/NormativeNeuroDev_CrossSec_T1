{
 "cells": [
  {
   "cell_type": "code",
   "execution_count": 1,
   "metadata": {},
   "outputs": [],
   "source": [
    "# Essentials\n",
    "import os, sys, glob\n",
    "import pandas as pd\n",
    "import numpy as np\n",
    "import nibabel as nib\n",
    "import scipy.io as sio\n",
    "\n",
    "# Stats\n",
    "import scipy as sp\n",
    "from scipy import stats\n",
    "import statsmodels.api as sm\n",
    "import pingouin as pg\n",
    "\n",
    "# Plotting\n",
    "import seaborn as sns\n",
    "import matplotlib.pyplot as plt\n",
    "plt.rcParams['svg.fonttype'] = 'none'"
   ]
  },
  {
   "cell_type": "code",
   "execution_count": 2,
   "metadata": {},
   "outputs": [],
   "source": [
    "sys.path.append('/Users/lindenmp/Google-Drive-Penn/work/research_projects/normative_neurodev_cs_t1/1_code/')\n",
    "from func import set_proj_env"
   ]
  },
  {
   "cell_type": "code",
   "execution_count": 3,
   "metadata": {},
   "outputs": [],
   "source": [
    "train_test_str = 'train_test'\n",
    "exclude_str = 't1Exclude' # 't1Exclude' 'fsFinalExclude'\n",
    "parc_str = 'schaefer' # 'schaefer' 'lausanne'\n",
    "parc_scale = 400 # 200 400 | 60 125 250\n",
    "parcel_names, parcel_loc, drop_parcels, num_parcels, yeo_idx, yeo_labels = set_proj_env(exclude_str = exclude_str, parc_str = parc_str, parc_scale = parc_scale)"
   ]
  },
  {
   "cell_type": "code",
   "execution_count": 4,
   "metadata": {},
   "outputs": [
    {
     "data": {
      "text/plain": [
       "'t1Exclude_schaefer_400_'"
      ]
     },
     "execution_count": 4,
     "metadata": {},
     "output_type": "execute_result"
    }
   ],
   "source": [
    "# output file prefix\n",
    "outfile_prefix = exclude_str+'_'+parc_str+'_'+str(parc_scale)+'_'\n",
    "outfile_prefix"
   ]
  },
  {
   "cell_type": "markdown",
   "metadata": {},
   "source": [
    "### Setup directory variables"
   ]
  },
  {
   "cell_type": "code",
   "execution_count": 5,
   "metadata": {},
   "outputs": [
    {
     "name": "stdout",
     "output_type": "stream",
     "text": [
      "/Users/lindenmp/Google-Drive-Penn/work/research_projects/normative_neurodev_cs_t1/2_pipeline/1_compute_node_features/out\n"
     ]
    }
   ],
   "source": [
    "outputdir = os.path.join(os.environ['PIPELINEDIR'], '1_compute_node_features', 'out')\n",
    "print(outputdir)\n",
    "if not os.path.exists(outputdir): os.makedirs(outputdir)"
   ]
  },
  {
   "cell_type": "code",
   "execution_count": 6,
   "metadata": {},
   "outputs": [
    {
     "name": "stdout",
     "output_type": "stream",
     "text": [
      "/Users/lindenmp/Google-Drive-Penn/work/research_projects/normative_neurodev_cs_t1/3_output/figs\n"
     ]
    }
   ],
   "source": [
    "figdir = os.path.join(os.environ['OUTPUTDIR'], 'figs')\n",
    "print(figdir)\n",
    "if not os.path.exists(figdir): os.makedirs(figdir)"
   ]
  },
  {
   "cell_type": "markdown",
   "metadata": {},
   "source": [
    "## Load data"
   ]
  },
  {
   "cell_type": "code",
   "execution_count": 7,
   "metadata": {},
   "outputs": [
    {
     "name": "stdout",
     "output_type": "stream",
     "text": [
      "(1377, 48)\n"
     ]
    }
   ],
   "source": [
    "# Load data\n",
    "df = pd.read_csv(os.path.join(os.environ['PIPELINEDIR'], '0_get_sample', 'out', exclude_str+'_df.csv'))\n",
    "df.set_index(['bblid', 'scanid'], inplace = True)\n",
    "print(df.shape)"
   ]
  },
  {
   "cell_type": "code",
   "execution_count": 8,
   "metadata": {},
   "outputs": [
    {
     "name": "stdout",
     "output_type": "stream",
     "text": [
      "(1377, 801)\n"
     ]
    }
   ],
   "source": [
    "# output dataframe\n",
    "ct_labels = ['ct_' + str(i) for i in range(num_parcels)]\n",
    "vol_labels = ['vol_' + str(i) for i in range(num_parcels)]\n",
    "\n",
    "df_node = pd.DataFrame(index = df.index, columns = ct_labels + vol_labels)\n",
    "df_node.insert(0, train_test_str, df[train_test_str])\n",
    "\n",
    "print(df_node.shape)"
   ]
  },
  {
   "cell_type": "markdown",
   "metadata": {},
   "source": [
    "## Load in cortical thickness"
   ]
  },
  {
   "cell_type": "code",
   "execution_count": 9,
   "metadata": {},
   "outputs": [],
   "source": [
    "# subject filter\n",
    "subj_filt = np.zeros((df.shape[0],)).astype(bool)"
   ]
  },
  {
   "cell_type": "code",
   "execution_count": 10,
   "metadata": {},
   "outputs": [
    {
     "name": "stdout",
     "output_type": "stream",
     "text": [
      "['/Volumes/work_ssd/research_data/PNC/processedData/antsCorticalThickness/80961/20091119x2632/ct_schaefer400_17.txt']\n"
     ]
    }
   ],
   "source": [
    "CT = np.zeros((df.shape[0], num_parcels))\n",
    "\n",
    "for (i, (index, row)) in enumerate(df.iterrows()):\n",
    "    file_name = os.environ['CT_NAME_TMP'].replace(\"bblid\", str(index[0]))\n",
    "    file_name = file_name.replace(\"scanid\", str(index[1]))\n",
    "    full_path = glob.glob(os.path.join(os.environ['CTDIR'], file_name))\n",
    "    if i == 0: print(full_path)\n",
    "        \n",
    "    if len(full_path) > 0:\n",
    "        ct = np.loadtxt(full_path[0])\n",
    "        CT[i,:] = ct\n",
    "    elif len(full_path) == 0:\n",
    "        subj_filt[i] = True\n",
    "    \n",
    "df_node.loc[:,ct_labels] = CT"
   ]
  },
  {
   "cell_type": "code",
   "execution_count": 11,
   "metadata": {},
   "outputs": [
    {
     "data": {
      "text/plain": [
       "0"
      ]
     },
     "execution_count": 11,
     "metadata": {},
     "output_type": "execute_result"
    }
   ],
   "source": [
    "np.sum(subj_filt)"
   ]
  },
  {
   "cell_type": "code",
   "execution_count": 12,
   "metadata": {},
   "outputs": [],
   "source": [
    "if any(subj_filt):\n",
    "    df = df.loc[~subj_filt]\n",
    "    df_node = df_node.loc[~subj_filt]"
   ]
  },
  {
   "cell_type": "markdown",
   "metadata": {},
   "source": [
    "## Load in cortical volume"
   ]
  },
  {
   "cell_type": "code",
   "execution_count": 13,
   "metadata": {},
   "outputs": [],
   "source": [
    "# subject filter\n",
    "subj_filt = np.zeros((df.shape[0],)).astype(bool)"
   ]
  },
  {
   "cell_type": "code",
   "execution_count": 14,
   "metadata": {},
   "outputs": [
    {
     "name": "stdout",
     "output_type": "stream",
     "text": [
      "['/Volumes/work_ssd/research_data/PNC/processedData/gm_vol_masks_native/80961/20091119x2632/Schaefer2018_400_17Networks_native_gm.nii.gz']\n",
      "(80265, 3145). Warning: not all parcels present\n"
     ]
    }
   ],
   "source": [
    "VOL = np.zeros((df.shape[0], num_parcels))\n",
    "\n",
    "for (i, (index, row)) in enumerate(df.iterrows()):\n",
    "    file_name = os.environ['VOL_NAME_TMP'].replace(\"bblid\", str(index[0]))\n",
    "    file_name = file_name.replace(\"scanid\", str(index[1]))\n",
    "    full_path = glob.glob(os.path.join(os.environ['VOLDIR'], file_name))\n",
    "    if i == 0: print(full_path)    \n",
    "    \n",
    "    if len(full_path) > 0:\n",
    "        img = nib.load(full_path[0])\n",
    "        v = np.array(img.dataobj)\n",
    "        v = v[v != 0]\n",
    "        unique_elements, counts_elements = np.unique(v, return_counts=True)\n",
    "        if len(unique_elements) == num_parcels:\n",
    "            VOL[i,:] = counts_elements\n",
    "        else:\n",
    "            print(str(index) + '. Warning: not all parcels present')\n",
    "            subj_filt[i] = True\n",
    "    elif len(full_path) == 0:\n",
    "        subj_filt[i] = True\n",
    "    \n",
    "df_node.loc[:,vol_labels] = VOL"
   ]
  },
  {
   "cell_type": "code",
   "execution_count": 15,
   "metadata": {},
   "outputs": [
    {
     "data": {
      "text/plain": [
       "1"
      ]
     },
     "execution_count": 15,
     "metadata": {},
     "output_type": "execute_result"
    }
   ],
   "source": [
    "np.sum(subj_filt)"
   ]
  },
  {
   "cell_type": "code",
   "execution_count": 16,
   "metadata": {},
   "outputs": [],
   "source": [
    "if any(subj_filt):\n",
    "    df = df.loc[~subj_filt]\n",
    "    df_node = df_node.loc[~subj_filt]"
   ]
  },
  {
   "cell_type": "markdown",
   "metadata": {},
   "source": [
    "# Save out raw data"
   ]
  },
  {
   "cell_type": "code",
   "execution_count": 17,
   "metadata": {},
   "outputs": [
    {
     "name": "stdout",
     "output_type": "stream",
     "text": [
      "False\n"
     ]
    }
   ],
   "source": [
    "print(df_node.isna().any().any())"
   ]
  },
  {
   "cell_type": "code",
   "execution_count": 18,
   "metadata": {},
   "outputs": [],
   "source": [
    "df_node.to_csv(os.path.join(outputdir, outfile_prefix+'df_node.csv'))\n",
    "df.to_csv(os.path.join(outputdir, outfile_prefix+'df.csv'))"
   ]
  }
 ],
 "metadata": {
  "kernelspec": {
   "display_name": "Python 3",
   "language": "python",
   "name": "python3"
  },
  "language_info": {
   "codemirror_mode": {
    "name": "ipython",
    "version": 3
   },
   "file_extension": ".py",
   "mimetype": "text/x-python",
   "name": "python",
   "nbconvert_exporter": "python",
   "pygments_lexer": "ipython3",
   "version": "3.7.9"
  }
 },
 "nbformat": 4,
 "nbformat_minor": 4
}
