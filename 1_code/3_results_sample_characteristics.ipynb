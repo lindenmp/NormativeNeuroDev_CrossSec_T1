{
 "cells": [
  {
   "cell_type": "code",
   "execution_count": 1,
   "metadata": {},
   "outputs": [],
   "source": [
    "# Essentials\n",
    "import os, sys, glob\n",
    "import pandas as pd\n",
    "import numpy as np\n",
    "import nibabel as nib\n",
    "import scipy.io as sio\n",
    "\n",
    "# Stats\n",
    "import scipy as sp\n",
    "from scipy import stats\n",
    "import statsmodels.api as sm\n",
    "import pingouin as pg\n",
    "\n",
    "# Plotting\n",
    "import seaborn as sns\n",
    "import matplotlib.pyplot as plt\n",
    "plt.rcParams['svg.fonttype'] = 'none'"
   ]
  },
  {
   "cell_type": "code",
   "execution_count": 2,
   "metadata": {},
   "outputs": [],
   "source": [
    "sys.path.append('/Users/lindenmp/Google-Drive-Penn/work/research_projects/normative_neurodev_cs_t1/1_code/')\n",
    "from func import set_proj_env, my_get_cmap, get_fdr_p"
   ]
  },
  {
   "cell_type": "code",
   "execution_count": 3,
   "metadata": {},
   "outputs": [],
   "source": [
    "train_test_str = 'train_test'\n",
    "exclude_str = 't1Exclude' # 't1Exclude' 'fsFinalExclude'\n",
    "parc_str = 'schaefer' # 'schaefer' 'lausanne'\n",
    "parc_scale = 400 # 200 400 | 60 125 250\n",
    "parcel_names, parcel_loc, drop_parcels, num_parcels, yeo_idx, yeo_labels = set_proj_env(exclude_str = exclude_str, parc_str = parc_str, parc_scale = parc_scale)"
   ]
  },
  {
   "cell_type": "code",
   "execution_count": 4,
   "metadata": {},
   "outputs": [
    {
     "data": {
      "text/plain": [
       "'t1Exclude_schaefer_400_'"
      ]
     },
     "execution_count": 4,
     "metadata": {},
     "output_type": "execute_result"
    }
   ],
   "source": [
    "# output file prefix\n",
    "outfile_prefix = exclude_str+'_'+parc_str+'_'+str(parc_scale)+'_'\n",
    "outfile_prefix"
   ]
  },
  {
   "cell_type": "markdown",
   "metadata": {},
   "source": [
    "### Setup directory variables"
   ]
  },
  {
   "cell_type": "code",
   "execution_count": 5,
   "metadata": {},
   "outputs": [
    {
     "name": "stdout",
     "output_type": "stream",
     "text": [
      "/Users/lindenmp/Google-Drive-Penn/work/research_projects/normative_neurodev_cs_t1/3_output/figs\n"
     ]
    }
   ],
   "source": [
    "figdir = os.path.join(os.environ['OUTPUTDIR'], 'figs')\n",
    "print(figdir)\n",
    "if not os.path.exists(figdir): os.makedirs(figdir)"
   ]
  },
  {
   "cell_type": "code",
   "execution_count": 6,
   "metadata": {},
   "outputs": [],
   "source": [
    "labels = ['Train', 'Test']\n",
    "phenos = ['Overall_Psychopathology','Psychosis_Positive','Psychosis_NegativeDisorg','AnxiousMisery','Externalizing','Fear']\n",
    "phenos_label_short = ['Ov. Psych.', 'Psy. (pos.)', 'Psy. (neg.)', 'Anx.-mis.', 'Ext.', 'Fear']\n",
    "phenos_label = ['Overall Psychopathology','Psychosis (positive)','Psychosis (negative)','Anxious-misery','Externalizing','Fear']"
   ]
  },
  {
   "cell_type": "markdown",
   "metadata": {},
   "source": [
    "## Setup plots"
   ]
  },
  {
   "cell_type": "code",
   "execution_count": 7,
   "metadata": {},
   "outputs": [],
   "source": [
    "if not os.path.exists(figdir): os.makedirs(figdir)\n",
    "os.chdir(figdir)\n",
    "sns.set(style='white', context = 'paper', font_scale = 0.8)\n",
    "cmap = my_get_cmap('pair')"
   ]
  },
  {
   "cell_type": "markdown",
   "metadata": {},
   "source": [
    "## Load data"
   ]
  },
  {
   "cell_type": "code",
   "execution_count": 8,
   "metadata": {},
   "outputs": [
    {
     "name": "stdout",
     "output_type": "stream",
     "text": [
      "(1376, 48)\n"
     ]
    }
   ],
   "source": [
    "df = pd.read_csv(os.path.join(os.environ['PIPELINEDIR'], '1_compute_node_features', 'out', outfile_prefix+'df.csv'))\n",
    "df.set_index(['bblid', 'scanid'], inplace = True)\n",
    "print(df.shape)"
   ]
  },
  {
   "cell_type": "code",
   "execution_count": 9,
   "metadata": {},
   "outputs": [
    {
     "data": {
      "text/plain": [
       "14.975290697674419"
      ]
     },
     "execution_count": 9,
     "metadata": {},
     "output_type": "execute_result"
    }
   ],
   "source": [
    "df['ageAtScan1_Years'].mean()"
   ]
  },
  {
   "cell_type": "code",
   "execution_count": 10,
   "metadata": {},
   "outputs": [
    {
     "data": {
      "text/plain": [
       "3.638227328968269"
      ]
     },
     "execution_count": 10,
     "metadata": {},
     "output_type": "execute_result"
    }
   ],
   "source": [
    "df['ageAtScan1_Years'].std()"
   ]
  },
  {
   "cell_type": "code",
   "execution_count": 11,
   "metadata": {},
   "outputs": [
    {
     "data": {
      "text/plain": [
       "array([1, 2])"
      ]
     },
     "execution_count": 11,
     "metadata": {},
     "output_type": "execute_result"
    }
   ],
   "source": [
    "df['sex'].unique()"
   ]
  },
  {
   "cell_type": "code",
   "execution_count": 12,
   "metadata": {},
   "outputs": [
    {
     "name": "stdout",
     "output_type": "stream",
     "text": [
      "654\n",
      "47.53\n"
     ]
    }
   ],
   "source": [
    "print(np.sum(df.loc[:,'sex'] == 1))\n",
    "print(np.round((np.sum(df.loc[:,'sex'] == 1)/df.shape[0]) * 100,2))"
   ]
  },
  {
   "cell_type": "code",
   "execution_count": 13,
   "metadata": {},
   "outputs": [
    {
     "name": "stdout",
     "output_type": "stream",
     "text": [
      "722\n",
      "52.47\n"
     ]
    }
   ],
   "source": [
    "print(np.sum(df.loc[:,'sex'] == 2))\n",
    "print(np.round((np.sum(df.loc[:,'sex'] == 2)/df.shape[0]) * 100,2))"
   ]
  },
  {
   "cell_type": "code",
   "execution_count": 14,
   "metadata": {},
   "outputs": [
    {
     "data": {
      "text/plain": [
       "1139"
      ]
     },
     "execution_count": 14,
     "metadata": {},
     "output_type": "execute_result"
    }
   ],
   "source": [
    "np.sum(df.loc[:,'averageManualRating'] == 2)"
   ]
  },
  {
   "cell_type": "code",
   "execution_count": 15,
   "metadata": {},
   "outputs": [
    {
     "name": "stdout",
     "output_type": "stream",
     "text": [
      "SpearmanrResult(correlation=0.044831903932345776, pvalue=0.09644455101775931)\n",
      "SpearmanrResult(correlation=-0.054836323328827645, pvalue=0.04197112938052458)\n",
      "SpearmanrResult(correlation=-0.04143078607961845, pvalue=0.12450991600442735)\n",
      "SpearmanrResult(correlation=0.054701579459443046, pvalue=0.04247853070713916)\n",
      "SpearmanrResult(correlation=-0.0488443388701072, pvalue=0.07009603884658773)\n",
      "SpearmanrResult(correlation=0.015387256948274253, pvalue=0.5684761184910897)\n"
     ]
    }
   ],
   "source": [
    "for pheno in phenos:\n",
    "    print(sp.stats.spearmanr(df.loc[:,'averageManualRating'],df.loc[:,pheno]))"
   ]
  },
  {
   "cell_type": "code",
   "execution_count": 16,
   "metadata": {},
   "outputs": [
    {
     "name": "stdout",
     "output_type": "stream",
     "text": [
      "train N: 308\n",
      "14.36\n",
      "3.92\n"
     ]
    }
   ],
   "source": [
    "# train/test proportion\n",
    "print('train N:', np.sum(df.loc[:,train_test_str] == 0))\n",
    "print(np.round(df.loc[df.loc[:,train_test_str] == 0,'ageAtScan1_Years'].mean(),2))\n",
    "print(np.round(df.loc[df.loc[:,train_test_str] == 0,'ageAtScan1_Years'].std(),2))"
   ]
  },
  {
   "cell_type": "code",
   "execution_count": 17,
   "metadata": {},
   "outputs": [
    {
     "name": "stdout",
     "output_type": "stream",
     "text": [
      "test N: 1068\n",
      "15.15\n",
      "3.53\n"
     ]
    }
   ],
   "source": [
    "print('test N:', np.sum(df.loc[:,train_test_str] == 1))\n",
    "print(np.round(df.loc[df.loc[:,train_test_str] == 1,'ageAtScan1_Years'].mean(),2))\n",
    "print(np.round(df.loc[df.loc[:,train_test_str] == 1,'ageAtScan1_Years'].std(),2))"
   ]
  },
  {
   "cell_type": "markdown",
   "metadata": {},
   "source": [
    "0 = Male, 1 = Female"
   ]
  },
  {
   "cell_type": "code",
   "execution_count": 18,
   "metadata": {},
   "outputs": [
    {
     "name": "stdout",
     "output_type": "stream",
     "text": [
      "train, sex = 1, N: 153\n",
      "49.68\n",
      "train, sex = 2, N: 155\n",
      "50.32\n",
      "test, sex = 1, N: 501\n",
      "46.91\n",
      "test, sex = 2, N: 567\n",
      "53.09\n"
     ]
    }
   ],
   "source": [
    "# train/test proportion\n",
    "print('train, sex = 1, N:', np.sum(df.loc[df.loc[:,train_test_str] == 0,'sex'] == 1))\n",
    "print(np.round((np.sum(df.loc[df.loc[:,train_test_str] == 0,'sex'] == 1)/np.sum(df.loc[:,train_test_str] == 0)) * 100,2))\n",
    "print('train, sex = 2, N:',np.sum(df.loc[df.loc[:,train_test_str] == 0,'sex'] == 2))\n",
    "print(np.round((np.sum(df.loc[df.loc[:,train_test_str] == 0,'sex'] == 2)/np.sum(df.loc[:,train_test_str] == 0)) * 100,2))\n",
    "\n",
    "print('test, sex = 1, N:', np.sum(df.loc[df.loc[:,train_test_str] == 1,'sex'] == 1))\n",
    "print(np.round((np.sum(df.loc[df.loc[:,train_test_str] == 1,'sex'] == 1)/np.sum(df.loc[:,train_test_str] == 1)) * 100,2))\n",
    "print('test, sex = 2, N:',np.sum(df.loc[df.loc[:,train_test_str] == 1,'sex'] == 2))\n",
    "print(np.round((np.sum(df.loc[df.loc[:,train_test_str] == 1,'sex'] == 2)/np.sum(df.loc[:,train_test_str] == 1)) * 100,2))"
   ]
  },
  {
   "cell_type": "markdown",
   "metadata": {},
   "source": [
    "### Sex"
   ]
  },
  {
   "cell_type": "code",
   "execution_count": 19,
   "metadata": {},
   "outputs": [
    {
     "data": {
      "text/html": [
       "<div>\n",
       "<style scoped>\n",
       "    .dataframe tbody tr th:only-of-type {\n",
       "        vertical-align: middle;\n",
       "    }\n",
       "\n",
       "    .dataframe tbody tr th {\n",
       "        vertical-align: top;\n",
       "    }\n",
       "\n",
       "    .dataframe thead th {\n",
       "        text-align: right;\n",
       "    }\n",
       "</style>\n",
       "<table border=\"1\" class=\"dataframe\">\n",
       "  <thead>\n",
       "    <tr style=\"text-align: right;\">\n",
       "      <th></th>\n",
       "      <th>test_stat</th>\n",
       "      <th>pval</th>\n",
       "      <th>pval_corr</th>\n",
       "      <th>sig</th>\n",
       "    </tr>\n",
       "  </thead>\n",
       "  <tbody>\n",
       "    <tr>\n",
       "      <th>Overall_Psychopathology</th>\n",
       "      <td>-1.50</td>\n",
       "      <td>0.13</td>\n",
       "      <td>0.13</td>\n",
       "      <td>0.0</td>\n",
       "    </tr>\n",
       "    <tr>\n",
       "      <th>Psychosis_Positive</th>\n",
       "      <td>2.05</td>\n",
       "      <td>0.04</td>\n",
       "      <td>0.05</td>\n",
       "      <td>1.0</td>\n",
       "    </tr>\n",
       "    <tr>\n",
       "      <th>Psychosis_NegativeDisorg</th>\n",
       "      <td>4.23</td>\n",
       "      <td>0.00</td>\n",
       "      <td>0.00</td>\n",
       "      <td>1.0</td>\n",
       "    </tr>\n",
       "    <tr>\n",
       "      <th>AnxiousMisery</th>\n",
       "      <td>-4.57</td>\n",
       "      <td>0.00</td>\n",
       "      <td>0.00</td>\n",
       "      <td>1.0</td>\n",
       "    </tr>\n",
       "    <tr>\n",
       "      <th>Externalizing</th>\n",
       "      <td>5.44</td>\n",
       "      <td>0.00</td>\n",
       "      <td>0.00</td>\n",
       "      <td>1.0</td>\n",
       "    </tr>\n",
       "    <tr>\n",
       "      <th>Fear</th>\n",
       "      <td>-6.25</td>\n",
       "      <td>0.00</td>\n",
       "      <td>0.00</td>\n",
       "      <td>1.0</td>\n",
       "    </tr>\n",
       "  </tbody>\n",
       "</table>\n",
       "</div>"
      ],
      "text/plain": [
       "                          test_stat  pval  pval_corr  sig\n",
       "Overall_Psychopathology       -1.50  0.13       0.13  0.0\n",
       "Psychosis_Positive             2.05  0.04       0.05  1.0\n",
       "Psychosis_NegativeDisorg       4.23  0.00       0.00  1.0\n",
       "AnxiousMisery                 -4.57  0.00       0.00  1.0\n",
       "Externalizing                  5.44  0.00       0.00  1.0\n",
       "Fear                          -6.25  0.00       0.00  1.0"
      ]
     },
     "execution_count": 19,
     "metadata": {},
     "output_type": "execute_result"
    }
   ],
   "source": [
    "stats = pd.DataFrame(index = phenos, columns = ['test_stat', 'pval'])\n",
    "\n",
    "for i, pheno in enumerate(phenos):\n",
    "    x = df.loc[df.loc[:,'sex'] == 1,pheno]\n",
    "#     x = df.loc[np.logical_and(df[train_test_str] == 1,df['sex'] == 1),pheno]\n",
    "    y = df.loc[df.loc[:,'sex'] == 2,pheno]\n",
    "#     y = df.loc[np.logical_and(df[train_test_str] == 1,df['sex'] == 2),pheno]\n",
    "    \n",
    "    test_output = sp.stats.ttest_ind(x,y)\n",
    "    stats.loc[pheno,'test_stat'] = test_output[0]\n",
    "    stats.loc[pheno,'pval'] = test_output[1]\n",
    "    \n",
    "stats.loc[:,'pval_corr'] = get_fdr_p(stats.loc[:,'pval'])\n",
    "stats.loc[:,'sig'] = stats.loc[:,'pval_corr'] < 0.05\n",
    "\n",
    "np.round(stats.astype(float),2)"
   ]
  },
  {
   "cell_type": "code",
   "execution_count": 20,
   "metadata": {},
   "outputs": [
    {
     "data": {
      "image/png": "[encoded data removed]",
      "text/plain": [
       "<Figure size 604.8x90 with 6 Axes>"
      ]
     },
     "metadata": {},
     "output_type": "display_data"
    }
   ],
   "source": [
    "sns.set(style='white', context = 'paper', font_scale = 0.8)\n",
    "f, ax = plt.subplots(1,len(phenos))\n",
    "f.set_figwidth(len(phenos)*1.4)\n",
    "f.set_figheight(1.25)\n",
    "\n",
    "# sex: 1=male, 2=female\n",
    "for i, pheno in enumerate(phenos):\n",
    "    x = df.loc[df.loc[:,'sex'] == 1,pheno]\n",
    "#     x = df.loc[np.logical_and(df[train_test_str] == 1,df['sex'] == 1),pheno]\n",
    "    sns.kdeplot(x, ax = ax[i], label = 'male', color = 'b')\n",
    "\n",
    "    y = df.loc[df.loc[:,'sex'] == 2,pheno]\n",
    "#     y = df.loc[np.logical_and(df[train_test_str] == 1,df['sex'] == 2),pheno]\n",
    "    sns.kdeplot(y, ax = ax[i], label = 'female', color = 'r')\n",
    "    \n",
    "    ax[i].set_xlabel('')\n",
    "    ax[i].set_title(phenos_label[i])\n",
    "#     if stats.loc[pheno,'sig']:\n",
    "#         ax[i].set_title('t-stat:' + str(np.round(stats.loc[pheno,'test_stat'],2)) + ', p-value: ' + str(np.round(stats.loc[pheno,'pval_corr'],4)), fontweight=\"bold\")\n",
    "#     else:\n",
    "#         ax[i].set_title('t-stat:' + str(np.round(stats.loc[pheno,'test_stat'],2)) + ', p-value: ' + str(np.round(stats.loc[pheno,'pval_corr'],4)))\n",
    "    ax[i].tick_params(pad = -2)\n",
    "    ax[i].set_ylim([0,0.5])\n",
    "    if i == 0:\n",
    "        ax[i].set_ylabel('Counts')\n",
    "    else:\n",
    "        ax[i].set_ylabel('')\n",
    "        \n",
    "    if i != 0:\n",
    "        ax[i].set_yticklabels('')\n",
    "#     if i == 0:\n",
    "#         ax[i].legend()\n",
    "\n",
    "    if stats.loc[pheno,'sig']:\n",
    "        textstr = 't = {:.2f} \\np < 0.05'.format(stats.loc[pheno,'test_stat'])\n",
    "    else:\n",
    "        textstr = 't = {:.2f} \\np = {:.2f}'.format(stats.loc[pheno,'test_stat'], stats.loc[pheno,'pval_corr'])\n",
    "    ax[i].text(0.05, 0.95, textstr, transform=ax[i].transAxes,\n",
    "            verticalalignment='top')\n",
    "        \n",
    "f.savefig(outfile_prefix+'symptoms_distributions_sex.svg', dpi = 300, bbox_inches = 'tight', pad_inches = 0)"
   ]
  },
  {
   "cell_type": "markdown",
   "metadata": {},
   "source": [
    "### nuisance correlations"
   ]
  },
  {
   "cell_type": "code",
   "execution_count": 21,
   "metadata": {},
   "outputs": [
    {
     "data": {
      "image/png": "[encoded data removed]",
      "text/plain": [
       "<Figure size 604.8x90 with 6 Axes>"
      ]
     },
     "metadata": {},
     "output_type": "display_data"
    },
    {
     "data": {
      "image/png": "[encoded data removed]",
      "text/plain": [
       "<Figure size 604.8x90 with 6 Axes>"
      ]
     },
     "metadata": {},
     "output_type": "display_data"
    }
   ],
   "source": [
    "sns.set(style='white', context = 'paper', font_scale = 0.8)\n",
    "stats = pd.DataFrame(index = phenos, columns = ['r', 'pval'])\n",
    "# covs = ['ageAtScan1_Years', 'mprage_antsCT_vol_TBV', 'medu1', 'averageManualRating']\n",
    "covs = ['ageAtScan1_Years', 'medu1']\n",
    "# covs_label = ['Age',]\n",
    "covs_label = ['Age (yrs)', 'Maternal education \\n(yrs)']\n",
    "for c, cov in enumerate(covs):\n",
    "    x = df[cov]\n",
    "    for i, pheno in enumerate(phenos):\n",
    "        y = df[pheno]\n",
    "        r,p = sp.stats.pearsonr(x,y)\n",
    "\n",
    "        stats.loc[pheno,'r'] = r\n",
    "        stats.loc[pheno,'pval'] = p\n",
    "\n",
    "    stats.loc[:,'pval_corr'] = get_fdr_p(stats.loc[:,'pval'])\n",
    "    stats.loc[:,'sig'] = stats.loc[:,'pval_corr'] < 0.05\n",
    "\n",
    "    f, ax = plt.subplots(1,len(phenos))\n",
    "    f.set_figwidth(len(phenos)*1.4)\n",
    "    f.set_figheight(1.25)\n",
    "\n",
    "    x = df[cov]\n",
    "    for i, pheno in enumerate(phenos):\n",
    "        y = df[pheno]\n",
    "        plot_data = pd.merge(x,y, on=['bblid','scanid'])\n",
    "        sns.kdeplot(x = cov, y = pheno, data = plot_data, ax=ax[i], color='gray')\n",
    "        sns.regplot(x = cov, y = pheno, data = plot_data, ax=ax[i], scatter=False)\n",
    "\n",
    "        ax[i].set_ylabel(phenos_label[i], labelpad=-1)\n",
    "        ax[i].set_xlabel(covs_label[c])\n",
    "        ax[i].tick_params(pad = -2.5)\n",
    "        \n",
    "        if stats.loc[pheno,'sig']:\n",
    "            textstr = 'r = {:.2f} \\np < 0.05'.format(stats.loc[pheno,'r'])\n",
    "        else:\n",
    "            textstr = 'r = {:.2f} \\np = {:.2f}'.format(stats.loc[pheno,'r'], stats.loc[pheno,'pval_corr'])\n",
    "\n",
    "        ax[i].text(0.05, 0.975, textstr, transform=ax[i].transAxes,\n",
    "                verticalalignment='top')\n",
    "\n",
    "    f.subplots_adjust(wspace=0.5)\n",
    "    f.savefig(outfile_prefix+'symptoms_correlations_'+cov+'.svg', dpi = 300, bbox_inches = 'tight', pad_inches = 0)"
   ]
  },
  {
   "cell_type": "markdown",
   "metadata": {},
   "source": [
    "### Diagnostic table"
   ]
  },
  {
   "cell_type": "code",
   "execution_count": 22,
   "metadata": {},
   "outputs": [],
   "source": [
    "df['goassessDxpmr4_bin'] = df.loc[:,'goassessDxpmr4'] == '4PS'\n",
    "df['goassessDxpmr4_bin'] = df['goassessDxpmr4_bin'].astype(int)*4"
   ]
  },
  {
   "cell_type": "code",
   "execution_count": 23,
   "metadata": {},
   "outputs": [
    {
     "name": "stdout",
     "output_type": "stream",
     "text": [
      "goassessDxpmr4_bin    389\n",
      "goassessSmryMan        14\n",
      "goassessSmryDep       191\n",
      "goassessSmryBul         5\n",
      "goassessSmryAno        16\n",
      "goassessSmrySoc       318\n",
      "goassessSmryPan        14\n",
      "goassessSmryAgr        77\n",
      "goassessSmryOcd        43\n",
      "goassessSmryPtd       168\n",
      "goassessSmryAdd       226\n",
      "goassessSmryOdd       448\n",
      "goassessSmryCon       114\n",
      "dtype: int64\n",
      "goassessDxpmr4_bin    28.27\n",
      "goassessSmryMan        1.02\n",
      "goassessSmryDep       13.88\n",
      "goassessSmryBul        0.36\n",
      "goassessSmryAno        1.16\n",
      "goassessSmrySoc       23.11\n",
      "goassessSmryPan        1.02\n",
      "goassessSmryAgr        5.60\n",
      "goassessSmryOcd        3.12\n",
      "goassessSmryPtd       12.21\n",
      "goassessSmryAdd       16.42\n",
      "goassessSmryOdd       32.56\n",
      "goassessSmryCon        8.28\n",
      "dtype: float64\n"
     ]
    }
   ],
   "source": [
    "to_screen = ['goassessDxpmr4_bin','goassessSmryMan', 'goassessSmryDep', 'goassessSmryBul', 'goassessSmryAno', 'goassessSmrySoc',\n",
    "             'goassessSmryPan', 'goassessSmryAgr', 'goassessSmryOcd', 'goassessSmryPtd', 'goassessSmryAdd',\n",
    "            'goassessSmryOdd', 'goassessSmryCon']\n",
    "# counts = np.sum(df.loc[:,to_screen] == 4)\n",
    "# counts = np.sum(df.loc[df.loc[:,train_test_str] == 0,to_screen] == 4)\n",
    "counts = np.sum(df.loc[df.loc[:,train_test_str] == 1,to_screen] == 4)\n",
    "print(counts)\n",
    "print(np.round(counts/df.shape[0]*100,2))"
   ]
  },
  {
   "cell_type": "code",
   "execution_count": 24,
   "metadata": {},
   "outputs": [
    {
     "data": {
      "text/plain": [
       "['goassessDxpmr4_bin',\n",
       " 'goassessSmryDep',\n",
       " 'goassessSmrySoc',\n",
       " 'goassessSmryAgr',\n",
       " 'goassessSmryPtd',\n",
       " 'goassessSmryAdd',\n",
       " 'goassessSmryOdd',\n",
       " 'goassessSmryCon']"
      ]
     },
     "execution_count": 24,
     "metadata": {},
     "output_type": "execute_result"
    }
   ],
   "source": [
    "to_keep = counts[counts >= 50].index\n",
    "list(to_keep)"
   ]
  },
  {
   "cell_type": "code",
   "execution_count": 25,
   "metadata": {},
   "outputs": [
    {
     "data": {
      "text/plain": [
       "goassessDxpmr4_bin    389\n",
       "goassessSmryDep       191\n",
       "goassessSmrySoc       318\n",
       "goassessSmryAgr        77\n",
       "goassessSmryPtd       168\n",
       "goassessSmryAdd       226\n",
       "goassessSmryOdd       448\n",
       "goassessSmryCon       114\n",
       "dtype: int64"
      ]
     },
     "execution_count": 25,
     "metadata": {},
     "output_type": "execute_result"
    }
   ],
   "source": [
    "counts[counts >= 50]"
   ]
  },
  {
   "cell_type": "code",
   "execution_count": 26,
   "metadata": {},
   "outputs": [],
   "source": [
    "my_xticklabels = ['Psychosis spectrum (n=389)',\n",
    "                 'Depression (n=191)',\n",
    "                 'Social anxiety disorder (n=318)',\n",
    "                 'Agoraphobia (n=77)',\n",
    "                 'PTSD (n=168)',\n",
    "                 'ADHD (n=226)',\n",
    "                 'ODD (n=448)',\n",
    "                 'Conduct disorder (n=114)']"
   ]
  },
  {
   "cell_type": "code",
   "execution_count": 27,
   "metadata": {},
   "outputs": [
    {
     "data": {
      "image/png": "[encoded data removed]",
      "text/plain": [
       "<Figure size 604.8x144 with 6 Axes>"
      ]
     },
     "metadata": {},
     "output_type": "display_data"
    }
   ],
   "source": [
    "sns.set(style='white', context = 'paper', font_scale = 0.8)\n",
    "f, ax = plt.subplots(1,len(phenos))\n",
    "f.set_figwidth(len(phenos)*1.4)\n",
    "f.set_figheight(2)\n",
    "\n",
    "for i, pheno in enumerate(phenos):\n",
    "    mean_scores = np.zeros(len(to_keep))\n",
    "    for j, diagnostic_score in enumerate(to_keep):\n",
    "        idx = df.loc[:,diagnostic_score] == 4\n",
    "        mean_scores[j] = df.loc[idx,pheno].mean()\n",
    "    \n",
    "    ax[i].bar(x = np.arange(0,len(mean_scores)), height = mean_scores, color = 'w', edgecolor = 'k', linewidth = 1.5)\n",
    "    ax[i].set_ylim([-.2,1.2])\n",
    "    ax[i].set_xticks(np.arange(0,len(mean_scores)))\n",
    "    ax[i].set_xticklabels(my_xticklabels, rotation = 90)\n",
    "    ax[i].tick_params(pad = -2)\n",
    "    ax[i].set_title(phenos_label[i])\n",
    "#     if i == 1:\n",
    "#         ax[i].set_xlabel('Diagnostic group')\n",
    "    if i == 0:\n",
    "        ax[i].set_ylabel('Factor score (z)')\n",
    "    if i != 0:\n",
    "        ax[i].set_yticklabels('')\n",
    "    \n",
    "f.savefig(outfile_prefix+'symptom_dimensions_groups.svg', dpi = 300, bbox_inches = 'tight', pad_inches = 0)"
   ]
  }
 ],
 "metadata": {
  "kernelspec": {
   "display_name": "Python 3",
   "language": "python",
   "name": "python3"
  },
  "language_info": {
   "codemirror_mode": {
    "name": "ipython",
    "version": 3
   },
   "file_extension": ".py",
   "mimetype": "text/x-python",
   "name": "python",
   "nbconvert_exporter": "python",
   "pygments_lexer": "ipython3",
   "version": "3.7.9"
  }
 },
 "nbformat": 4,
 "nbformat_minor": 4
}
