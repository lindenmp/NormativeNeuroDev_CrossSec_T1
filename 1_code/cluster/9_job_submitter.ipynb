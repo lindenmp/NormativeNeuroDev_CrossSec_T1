{
 "cells": [
  {
   "cell_type": "markdown",
   "metadata": {},
   "source": [
    "# Submit jobs to cubic"
   ]
  },
  {
   "cell_type": "code",
   "execution_count": null,
   "metadata": {},
   "outputs": [],
   "source": [
    "import os\n",
    "import numpy as np\n",
    "import subprocess\n",
    "import json\n",
    "\n",
    "py_exec = '/cbica/home/parkesl/miniconda3/envs/neurodev_cs_predictive/bin/python'\n",
    "\n",
    "my_str = 't1Exclude_schaefer_400'\n",
    "# my_str = 't1Exclude_schaefer_200'\n",
    "# my_str = 'fsFinalExclude_lausanne_250'\n",
    "# my_str = 'fsFinalExclude_lausanne_125'\n",
    "\n",
    "indir = '/cbica/home/parkesl/research_projects/normative_neurodev_cs_t1/2_pipeline/8_prediction_fixedpcs/store/'+my_str+'_'\n",
    "outdir = '/cbica/home/parkesl/research_projects/normative_neurodev_cs_t1/2_pipeline/8_prediction_fixedpcs/out/'+my_str+'_'\n",
    "\n",
    "phenos = ['Overall_Psychopathology','Psychosis_Positive','Psychosis_NegativeDisorg','AnxiousMisery','Externalizing','Fear']\n",
    "\n",
    "print(indir)\n",
    "print(phenos)\n",
    "\n",
    "metrics = ['vol', 'ct']\n",
    "algs = ['rr',]\n",
    "scores = ['corr', 'rmse', 'mae']\n",
    "\n",
    "num_algs = len(algs)\n",
    "num_metrics = len(metrics)\n",
    "num_phenos = len(phenos)\n",
    "num_scores = len(scores)\n",
    "\n",
    "print(num_algs * num_metrics * num_phenos * num_scores * 2)"
   ]
  },
  {
   "cell_type": "markdown",
   "metadata": {},
   "source": [
    "## Nuisance regression"
   ]
  },
  {
   "cell_type": "code",
   "execution_count": null,
   "metadata": {},
   "outputs": [],
   "source": [
    "covs = ['ageAtScan1_Years', 'sex_adj']\n",
    "# covs = ['ageAtScan1_Years', 'sex_adj', 'medu1']\n",
    "\n",
    "#########\n",
    "for metric in metrics:\n",
    "    if metric == 'vol':\n",
    "        py_script = '/cbica/home/parkesl/research_projects/normative_neurodev_cs_t1/1_code/cluster/predict_symptoms_rcv_nuis_vol.py'\n",
    "    elif metric == 'ct':\n",
    "        py_script = '/cbica/home/parkesl/research_projects/normative_neurodev_cs_t1/1_code/cluster/predict_symptoms_rcv_nuis_ct.py'\n",
    "\n",
    "    for alg in algs:\n",
    "        for pheno in phenos:\n",
    "            for score in scores:\n",
    "                modeldir = outdir+'predict_symptoms_rcv_nuis_'+'_'.join(covs)\n",
    "                subprocess_str = '{0} {1} -x {2}X.csv -y {2}y.csv -c {2}c_{3}.csv -alg {4} -metric {5} -pheno {6} -score {7} -runpca 3 -runperm 1 -o {8}'.format(py_exec, py_script, indir, '_'.join(covs), alg, metric, pheno, score, modeldir)\n",
    "                \n",
    "                name = 'raw_' + metric[0] + '_' + alg + '_' + pheno[0] + '_' + score[0]\n",
    "                qsub_call = 'qsub -N {0} -l h_vmem=1G,s_vmem=1G -pe threaded 2 -j y -b y -o /cbica/home/parkesl/sge/ -e /cbica/home/parkesl/sge/ '.format(name)\n",
    "\n",
    "                os.system(qsub_call + subprocess_str)\n",
    "                \n",
    "                #########\n",
    "                modeldir = outdir+'predict_symptoms_rcv_nuis_'+'_'.join(covs)+'_z'\n",
    "                subprocess_str = '{0} {1} -x {2}X_z.csv -y {2}y.csv -c {2}c_{3}.csv -alg {4} -metric {5} -pheno {6} -score {7} -runpca 3 -runperm 1 -o {8}'.format(py_exec, py_script, indir, '_'.join(covs), alg, metric, pheno, score, modeldir)\n",
    "\n",
    "                name = 'z_' + metric[0] + '_' + alg + '_' + pheno[0] + '_' + score[0]\n",
    "                qsub_call = 'qsub -N {0} -l h_vmem=1G,s_vmem=1G -pe threaded 2 -j y -b y -o /cbica/home/parkesl/sge/ -e /cbica/home/parkesl/sge/ '.format(name)\n",
    "\n",
    "                os.system(qsub_call + subprocess_str)"
   ]
  }
 ],
 "metadata": {
  "kernelspec": {
   "display_name": "Python 3",
   "language": "python",
   "name": "python3"
  },
  "language_info": {
   "codemirror_mode": {
    "name": "ipython",
    "version": 3
   },
   "file_extension": ".py",
   "mimetype": "text/x-python",
   "name": "python",
   "nbconvert_exporter": "python",
   "pygments_lexer": "ipython3",
   "version": "3.7.9"
  }
 },
 "nbformat": 4,
 "nbformat_minor": 4
}
