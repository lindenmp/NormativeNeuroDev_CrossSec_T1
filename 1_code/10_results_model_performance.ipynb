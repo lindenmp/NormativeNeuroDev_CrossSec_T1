{
 "cells": [
  {
   "cell_type": "code",
   "execution_count": 1,
   "metadata": {},
   "outputs": [],
   "source": [
    "# Essentials\n",
    "import os, sys, glob\n",
    "import pandas as pd\n",
    "import numpy as np\n",
    "import nibabel as nib\n",
    "import scipy.io as sio\n",
    "\n",
    "# Stats\n",
    "import scipy as sp\n",
    "from scipy import stats\n",
    "import statsmodels.api as sm\n",
    "import pingouin as pg\n",
    "\n",
    "# Plotting\n",
    "import seaborn as sns\n",
    "import matplotlib.pyplot as plt\n",
    "plt.rcParams['svg.fonttype'] = 'none'"
   ]
  },
  {
   "cell_type": "code",
   "execution_count": 2,
   "metadata": {},
   "outputs": [],
   "source": [
    "from matplotlib.ticker import FormatStrFormatter"
   ]
  },
  {
   "cell_type": "code",
   "execution_count": 3,
   "metadata": {},
   "outputs": [],
   "source": [
    "sys.path.append('/Users/lindenmp/Google-Drive-Penn/work/research_projects/normative_neurodev_cs_t1/1_code/')\n",
    "from func import set_proj_env, my_get_cmap, get_fdr_p, get_exact_p, get_fdr_p_df"
   ]
  },
  {
   "cell_type": "code",
   "execution_count": 4,
   "metadata": {},
   "outputs": [],
   "source": [
    "train_test_str = 'train_test'\n",
    "exclude_str = 't1Exclude' # 't1Exclude' 'fsFinalExclude'\n",
    "parc_str = 'schaefer' # 'schaefer' 'lausanne'\n",
    "parc_scale = 400 # 200 400 | 60 125 250\n",
    "parcel_names, parcel_loc, drop_parcels, num_parcels, yeo_idx, yeo_labels = set_proj_env(exclude_str = exclude_str, parc_str = parc_str, parc_scale = parc_scale)"
   ]
  },
  {
   "cell_type": "code",
   "execution_count": 5,
   "metadata": {},
   "outputs": [
    {
     "data": {
      "text/plain": [
       "'t1Exclude_schaefer_400_'"
      ]
     },
     "execution_count": 5,
     "metadata": {},
     "output_type": "execute_result"
    }
   ],
   "source": [
    "# output file prefix\n",
    "outfile_prefix = exclude_str+'_'+parc_str+'_'+str(parc_scale)+'_'\n",
    "outfile_prefix"
   ]
  },
  {
   "cell_type": "markdown",
   "metadata": {},
   "source": [
    "### Setup directory variables"
   ]
  },
  {
   "cell_type": "code",
   "execution_count": 6,
   "metadata": {},
   "outputs": [
    {
     "name": "stdout",
     "output_type": "stream",
     "text": [
      "/Users/lindenmp/Google-Drive-Penn/work/research_projects/normative_neurodev_cs_t1/2_pipeline\n"
     ]
    }
   ],
   "source": [
    "print(os.environ['PIPELINEDIR'])\n",
    "if not os.path.exists(os.environ['PIPELINEDIR']): os.makedirs(os.environ['PIPELINEDIR'])"
   ]
  },
  {
   "cell_type": "code",
   "execution_count": 7,
   "metadata": {},
   "outputs": [
    {
     "name": "stdout",
     "output_type": "stream",
     "text": [
      "/Users/lindenmp/Google-Drive-Penn/work/research_projects/normative_neurodev_cs_t1/3_output/figs\n"
     ]
    }
   ],
   "source": [
    "figdir = os.path.join(os.environ['OUTPUTDIR'], 'figs')\n",
    "print(figdir)\n",
    "if not os.path.exists(figdir): os.makedirs(figdir)"
   ]
  },
  {
   "cell_type": "code",
   "execution_count": 8,
   "metadata": {},
   "outputs": [
    {
     "name": "stdout",
     "output_type": "stream",
     "text": [
      "['Overall_Psychopathology', 'Psychosis_Positive', 'Psychosis_NegativeDisorg', 'AnxiousMisery', 'Externalizing', 'Fear']\n"
     ]
    }
   ],
   "source": [
    "phenos = ['Overall_Psychopathology','Psychosis_Positive','Psychosis_NegativeDisorg','AnxiousMisery','Externalizing','Fear']\n",
    "phenos_short = ['Ov. Psych.', 'Psy. (pos.)', 'Psy. (neg.)', 'Anx.-mis.', 'Ext.', 'Fear']\n",
    "phenos_label = ['Overall psychopathology','Psychosis (positive)','Psychosis (negative)','Anxious-misery','Externalizing','Fear']\n",
    "\n",
    "print(phenos)\n",
    "\n",
    "metrics = ['ct', 'vol']\n",
    "metrics_label = ['Thickness', 'Volume']\n",
    "\n",
    "algs = ['rr',]\n",
    "scores = ['corr', 'rmse', 'mae']\n",
    "seeds = np.arange(0,100)"
   ]
  },
  {
   "cell_type": "code",
   "execution_count": 9,
   "metadata": {},
   "outputs": [],
   "source": [
    "num_algs = len(algs)\n",
    "num_metrics = len(metrics)\n",
    "num_phenos = len(phenos)\n",
    "num_scores = len(scores)"
   ]
  },
  {
   "cell_type": "markdown",
   "metadata": {},
   "source": [
    "## Setup plots"
   ]
  },
  {
   "cell_type": "code",
   "execution_count": 10,
   "metadata": {},
   "outputs": [],
   "source": [
    "if not os.path.exists(figdir): os.makedirs(figdir)\n",
    "os.chdir(figdir)\n",
    "sns.set(style='white', context = 'paper', font_scale = 0.8)\n",
    "cmap = my_get_cmap('psych_phenos')"
   ]
  },
  {
   "cell_type": "markdown",
   "metadata": {},
   "source": [
    "## Load data"
   ]
  },
  {
   "cell_type": "code",
   "execution_count": 11,
   "metadata": {},
   "outputs": [],
   "source": [
    "def load_data(indir, phenos, alg, score, metric):\n",
    "\n",
    "    accuracy_mean = np.zeros((100, len(phenos)))\n",
    "    accuracy_std = np.zeros((100, len(phenos)))\n",
    "    y_pred_var = np.zeros((100, len(phenos)))\n",
    "    p_vals = pd.DataFrame(columns = phenos)\n",
    "    sig_points = pd.DataFrame(columns = phenos)\n",
    "\n",
    "    for p, pheno in enumerate(phenos):\n",
    "        accuracy_mean[:,p] = np.loadtxt(os.path.join(indir, alg + '_' + score + '_' + metric + '_' + pheno, 'accuracy_mean.txt'))\n",
    "        accuracy_std[:,p] = np.loadtxt(os.path.join(indir, alg + '_' + score + '_' + metric + '_' + pheno, 'accuracy_std.txt'))\n",
    "\n",
    "        y_pred_out_repeats = np.loadtxt(os.path.join(indir, alg + '_' + score + '_' + metric + '_' + pheno, 'y_pred_out_repeats.txt'))\n",
    "        y_pred_var[:,p] = y_pred_out_repeats.var(axis = 0)\n",
    "\n",
    "        in_file = os.path.join(indir, alg + '_' + score + '_' + metric + '_' + pheno, 'permuted_acc.txt')\n",
    "        if os.path.isfile(in_file):\n",
    "            permuted_acc = np.loadtxt(in_file)\n",
    "            acc = np.mean(accuracy_mean[:,p])\n",
    "            p_vals.loc[metric,pheno] = np.sum(permuted_acc >= acc) / len(permuted_acc)\n",
    "            sig_points.loc[metric,pheno] = np.percentile(permuted_acc,95)\n",
    "\n",
    "#     if score == 'rmse' or score == 'mae':\n",
    "#         accuracy_mean = np.abs(accuracy_mean)\n",
    "#         accuracy_std = np.abs(accuracy_std)\n",
    "\n",
    "    return accuracy_mean, accuracy_std, y_pred_var, p_vals, sig_points"
   ]
  },
  {
   "cell_type": "code",
   "execution_count": 12,
   "metadata": {},
   "outputs": [
    {
     "name": "stdout",
     "output_type": "stream",
     "text": [
      "corr\n",
      "rr\n",
      "vol\n"
     ]
    }
   ],
   "source": [
    "s = 0; score = scores[s]; print(score)\n",
    "a = 0; alg = algs[a]; print(alg)\n",
    "m = 1; metric = metrics[m]; print(metric)"
   ]
  },
  {
   "cell_type": "code",
   "execution_count": 13,
   "metadata": {},
   "outputs": [
    {
     "name": "stdout",
     "output_type": "stream",
     "text": [
      "/Users/lindenmp/Google-Drive-Penn/work/research_projects/normative_neurodev_cs_t1/2_pipeline/8_prediction_fixedpcs/out/t1Exclude_schaefer_400_\n",
      "/Users/lindenmp/Google-Drive-Penn/work/research_projects/normative_neurodev_cs_t1/2_pipeline/8_prediction_fixedpcs/out/t1Exclude_schaefer_400_predict_symptoms_rcv_nuis_ageAtScan1_Years_sex_adj\n"
     ]
    }
   ],
   "source": [
    "covs = ['ageAtScan1_Years', 'sex_adj']\n",
    "# covs = ['ageAtScan1_Years', 'sex_adj', 'medu1']\n",
    "\n",
    "# predictiondir = os.path.join(os.environ['PIPELINEDIR'], '8_prediction', 'out', outfile_prefix)\n",
    "predictiondir = os.path.join(os.environ['PIPELINEDIR'], '8_prediction_fixedpcs', 'out', outfile_prefix)\n",
    "print(predictiondir)\n",
    "\n",
    "modeldir = predictiondir+'predict_symptoms_rcv_nuis_'+'_'.join(covs)\n",
    "print(modeldir)"
   ]
  },
  {
   "cell_type": "markdown",
   "metadata": {},
   "source": [
    "## Load whole-brain results"
   ]
  },
  {
   "cell_type": "code",
   "execution_count": 14,
   "metadata": {},
   "outputs": [
    {
     "data": {
      "text/html": [
       "<div>\n",
       "<style scoped>\n",
       "    .dataframe tbody tr th:only-of-type {\n",
       "        vertical-align: middle;\n",
       "    }\n",
       "\n",
       "    .dataframe tbody tr th {\n",
       "        vertical-align: top;\n",
       "    }\n",
       "\n",
       "    .dataframe thead th {\n",
       "        text-align: right;\n",
       "    }\n",
       "</style>\n",
       "<table border=\"1\" class=\"dataframe\">\n",
       "  <thead>\n",
       "    <tr style=\"text-align: right;\">\n",
       "      <th></th>\n",
       "      <th>Overall_Psychopathology</th>\n",
       "      <th>Psychosis_Positive</th>\n",
       "      <th>Psychosis_NegativeDisorg</th>\n",
       "      <th>AnxiousMisery</th>\n",
       "      <th>Externalizing</th>\n",
       "      <th>Fear</th>\n",
       "    </tr>\n",
       "  </thead>\n",
       "  <tbody>\n",
       "    <tr>\n",
       "      <th>vol</th>\n",
       "      <td>0.0374</td>\n",
       "      <td>0.02094</td>\n",
       "      <td>NaN</td>\n",
       "      <td>NaN</td>\n",
       "      <td>NaN</td>\n",
       "      <td>0.02094</td>\n",
       "    </tr>\n",
       "  </tbody>\n",
       "</table>\n",
       "</div>"
      ],
      "text/plain": [
       "    Overall_Psychopathology Psychosis_Positive Psychosis_NegativeDisorg  \\\n",
       "vol                  0.0374            0.02094                      NaN   \n",
       "\n",
       "    AnxiousMisery Externalizing     Fear  \n",
       "vol           NaN           NaN  0.02094  "
      ]
     },
     "execution_count": 14,
     "metadata": {},
     "output_type": "execute_result"
    }
   ],
   "source": [
    "accuracy_mean, accuracy_std, _, p_vals, sig_points = load_data(modeldir, phenos, alg, score, metric)\n",
    "p_vals = get_fdr_p_df(p_vals)\n",
    "p_vals[p_vals < 0.05]"
   ]
  },
  {
   "cell_type": "code",
   "execution_count": 15,
   "metadata": {},
   "outputs": [
    {
     "data": {
      "text/html": [
       "<div>\n",
       "<style scoped>\n",
       "    .dataframe tbody tr th:only-of-type {\n",
       "        vertical-align: middle;\n",
       "    }\n",
       "\n",
       "    .dataframe tbody tr th {\n",
       "        vertical-align: top;\n",
       "    }\n",
       "\n",
       "    .dataframe thead th {\n",
       "        text-align: right;\n",
       "    }\n",
       "</style>\n",
       "<table border=\"1\" class=\"dataframe\">\n",
       "  <thead>\n",
       "    <tr style=\"text-align: right;\">\n",
       "      <th></th>\n",
       "      <th>Overall_Psychopathology</th>\n",
       "      <th>Psychosis_Positive</th>\n",
       "      <th>Psychosis_NegativeDisorg</th>\n",
       "      <th>AnxiousMisery</th>\n",
       "      <th>Externalizing</th>\n",
       "      <th>Fear</th>\n",
       "    </tr>\n",
       "  </thead>\n",
       "  <tbody>\n",
       "    <tr>\n",
       "      <th>vol</th>\n",
       "      <td>0.01167</td>\n",
       "      <td>0.01167</td>\n",
       "      <td>NaN</td>\n",
       "      <td>NaN</td>\n",
       "      <td>NaN</td>\n",
       "      <td>0.012</td>\n",
       "    </tr>\n",
       "  </tbody>\n",
       "</table>\n",
       "</div>"
      ],
      "text/plain": [
       "    Overall_Psychopathology Psychosis_Positive Psychosis_NegativeDisorg  \\\n",
       "vol                 0.01167            0.01167                      NaN   \n",
       "\n",
       "    AnxiousMisery Externalizing   Fear  \n",
       "vol           NaN           NaN  0.012  "
      ]
     },
     "execution_count": 15,
     "metadata": {},
     "output_type": "execute_result"
    }
   ],
   "source": [
    "accuracy_mean_z, accuracy_std_z, _, p_vals_z, sig_points_z = load_data(modeldir+'_z', phenos, alg, score, metric)\n",
    "p_vals_z = get_fdr_p_df(p_vals_z)\n",
    "p_vals_z[p_vals_z < 0.05]"
   ]
  },
  {
   "cell_type": "markdown",
   "metadata": {},
   "source": [
    "### Plot"
   ]
  },
  {
   "cell_type": "code",
   "execution_count": 16,
   "metadata": {},
   "outputs": [
    {
     "data": {
      "text/html": [
       "<div>\n",
       "<style scoped>\n",
       "    .dataframe tbody tr th:only-of-type {\n",
       "        vertical-align: middle;\n",
       "    }\n",
       "\n",
       "    .dataframe tbody tr th {\n",
       "        vertical-align: top;\n",
       "    }\n",
       "\n",
       "    .dataframe thead th {\n",
       "        text-align: right;\n",
       "    }\n",
       "</style>\n",
       "<table border=\"1\" class=\"dataframe\">\n",
       "  <thead>\n",
       "    <tr style=\"text-align: right;\">\n",
       "      <th></th>\n",
       "      <th>meanx</th>\n",
       "      <th>meany</th>\n",
       "      <th>test_stat</th>\n",
       "      <th>pval</th>\n",
       "      <th>pval_corr</th>\n",
       "      <th>sig</th>\n",
       "    </tr>\n",
       "  </thead>\n",
       "  <tbody>\n",
       "    <tr>\n",
       "      <th>Overall_Psychopathology</th>\n",
       "      <td>0.082</td>\n",
       "      <td>0.108</td>\n",
       "      <td>-0.026</td>\n",
       "      <td>0</td>\n",
       "      <td>0</td>\n",
       "      <td>True</td>\n",
       "    </tr>\n",
       "    <tr>\n",
       "      <th>Psychosis_Positive</th>\n",
       "      <td>0.1</td>\n",
       "      <td>0.103</td>\n",
       "      <td>-0.003</td>\n",
       "      <td>0.14</td>\n",
       "      <td>0.21</td>\n",
       "      <td>False</td>\n",
       "    </tr>\n",
       "    <tr>\n",
       "      <th>Psychosis_NegativeDisorg</th>\n",
       "      <td>-0.009</td>\n",
       "      <td>0.01</td>\n",
       "      <td>-0.019</td>\n",
       "      <td>0.03</td>\n",
       "      <td>0.06</td>\n",
       "      <td>False</td>\n",
       "    </tr>\n",
       "    <tr>\n",
       "      <th>AnxiousMisery</th>\n",
       "      <td>-0.006</td>\n",
       "      <td>-0.006</td>\n",
       "      <td>0</td>\n",
       "      <td>0.46</td>\n",
       "      <td>0.46</td>\n",
       "      <td>False</td>\n",
       "    </tr>\n",
       "    <tr>\n",
       "      <th>Externalizing</th>\n",
       "      <td>0.04</td>\n",
       "      <td>0.057</td>\n",
       "      <td>-0.017</td>\n",
       "      <td>0</td>\n",
       "      <td>0</td>\n",
       "      <td>True</td>\n",
       "    </tr>\n",
       "    <tr>\n",
       "      <th>Fear</th>\n",
       "      <td>0.095</td>\n",
       "      <td>0.097</td>\n",
       "      <td>-0.002</td>\n",
       "      <td>0.34</td>\n",
       "      <td>0.408</td>\n",
       "      <td>False</td>\n",
       "    </tr>\n",
       "  </tbody>\n",
       "</table>\n",
       "</div>"
      ],
      "text/plain": [
       "                          meanx  meany test_stat  pval pval_corr    sig\n",
       "Overall_Psychopathology   0.082  0.108    -0.026     0         0   True\n",
       "Psychosis_Positive          0.1  0.103    -0.003  0.14      0.21  False\n",
       "Psychosis_NegativeDisorg -0.009   0.01    -0.019  0.03      0.06  False\n",
       "AnxiousMisery            -0.006 -0.006         0  0.46      0.46  False\n",
       "Externalizing              0.04  0.057    -0.017     0         0   True\n",
       "Fear                      0.095  0.097    -0.002  0.34     0.408  False"
      ]
     },
     "execution_count": 16,
     "metadata": {},
     "output_type": "execute_result"
    }
   ],
   "source": [
    "stats = pd.DataFrame(index = phenos, columns = ['meanx', 'meany', 'test_stat', 'pval'])\n",
    "for i, pheno in enumerate(phenos): \n",
    "\n",
    "    df = pd.DataFrame(columns = ['model','pheno'])\n",
    "    for model in ['wb','wbz']:\n",
    "        df_tmp = pd.DataFrame(columns = df.columns)\n",
    "        if model == 'wb':\n",
    "            df_tmp.loc[:,'score'] = accuracy_mean[:,i]\n",
    "        elif model == 'wbz':\n",
    "            df_tmp.loc[:,'score'] = accuracy_mean_z[:,i]\n",
    "        df_tmp.loc[:,'pheno'] = pheno\n",
    "        df_tmp.loc[:,'model'] = model\n",
    "\n",
    "        df = pd.concat((df, df_tmp), axis = 0)\n",
    "    \n",
    "    x = df.loc[df.loc[:,'model'] == 'wb','score']\n",
    "    y = df.loc[df.loc[:,'model'] == 'wbz','score']\n",
    "    stats.loc[pheno,'meanx'] = np.round(np.mean(x),3)\n",
    "    stats.loc[pheno,'meany'] = np.round(np.mean(y),3)\n",
    "    stats.loc[pheno,'test_stat'] = stats.loc[pheno,'meanx']-stats.loc[pheno,'meany']\n",
    "    stats.loc[pheno,'pval'] = get_exact_p(x, y)\n",
    "    \n",
    "stats.loc[:,'pval_corr'] = get_fdr_p(stats.loc[:,'pval'])\n",
    "stats.loc[:,'sig'] = stats.loc[:,'pval_corr'] < 0.05\n",
    "\n",
    "stats"
   ]
  },
  {
   "cell_type": "code",
   "execution_count": 17,
   "metadata": {},
   "outputs": [
    {
     "data": {
      "image/png": "[encoded data removed]",
      "text/plain": [
       "<Figure size 162x288 with 6 Axes>"
      ]
     },
     "metadata": {},
     "output_type": "display_data"
    }
   ],
   "source": [
    "sig_points_plot = (sig_points + sig_points_z)/2\n",
    "idx = np.argsort(accuracy_mean_z.mean(axis = 0))[::-1][:]\n",
    "if metric == 'ct':\n",
    "    idx = np.array([5, 1, 0, 3, 4, 2])\n",
    "elif metric == 'vol':\n",
    "    idx = np.array([0, 1, 5, 4, 2, 3])\n",
    "\n",
    "f, ax = plt.subplots(len(phenos),1)\n",
    "f.set_figwidth(2.25)\n",
    "f.set_figheight(4)\n",
    "\n",
    "# for i, pheno in enumerate(phenos):\n",
    "for i, ii in enumerate(idx):\n",
    "    pheno = phenos[ii]\n",
    "    for model in ['wb','wbz']:\n",
    "#         ax[i].axvline(x=sig_points_plot.values.mean(), ymax=1.2, clip_on=False, color='gray', alpha=0.5, linestyle='--', linewidth=1.5)\n",
    "#         if i == 0:\n",
    "#             ax[i].text(sig_points_plot.values.mean(), 40, '$p$ < 0.05', fontweight=\"regular\", color='gray',\n",
    "#                     ha=\"left\", va=\"center\", rotation=270)\n",
    "\n",
    "        if model == 'wb':\n",
    "            if p_vals.loc[:,pheno].values[0]<.05:\n",
    "                sns.kdeplot(x=accuracy_mean[:,ii], ax=ax[i], bw_adjust=.75, clip_on=False, color=cmap[ii], alpha=0.5, linewidth=2)\n",
    "                # add point estimate\n",
    "                ax[i].axvline(x=accuracy_mean[:,ii].mean(), ymax=0.25, clip_on=False, color=cmap[ii], linewidth=2)\n",
    "            else:\n",
    "                sns.kdeplot(x=accuracy_mean[:,ii], ax=ax[i], bw_adjust=.75, clip_on=False, color=cmap[ii], linewidth=.25)\n",
    "                # add point estimate\n",
    "                ax[i].axvline(x=accuracy_mean[:,ii].mean(), ymax=0.25, clip_on=False, color=cmap[ii], linewidth=0.5)\n",
    "            \n",
    "#             ax[i].axvline(x=sig_points.loc[:,pheno].values[0], ymax=1, clip_on=False, color='gray', alpha=0.5, linestyle='--', linewidth=1.5)\n",
    "        elif model == 'wbz':\n",
    "            if p_vals_z.loc[:,pheno].values[0]<.05:\n",
    "                sns.kdeplot(x=accuracy_mean_z[:,ii], ax=ax[i], bw_adjust=.75, clip_on=False, color=cmap[ii], alpha=0.75, linewidth=0, fill=True)\n",
    "#                 sns.kdeplot(x=accuracy_mean_z[:,ii], ax=ax[i], bw_adjust=.75, clip_on=False, color=\"w\", alpha=1, linewidth=1)\n",
    "                # add point estimate\n",
    "                ax[i].axvline(x=accuracy_mean_z[:,ii].mean(), ymax=0.25, clip_on=False, color='w', linewidth=2)\n",
    "            else:\n",
    "                sns.kdeplot(x=accuracy_mean_z[:,ii], ax=ax[i], bw_adjust=.75, clip_on=False, color=cmap[ii], alpha=0.2, linewidth=0, fill=True)\n",
    "#                 sns.kdeplot(x=accuracy_mean_z[:,ii], ax=ax[i], bw_adjust=.75, clip_on=False, color=\"w\", alpha=1, linewidth=1)\n",
    "                # add point estimate\n",
    "                ax[i].axvline(x=accuracy_mean_z[:,ii].mean(), ymax=0.25, clip_on=False, color='w', linewidth=1)\n",
    "#             ax[i].axvline(x=sig_points_z.loc[:,pheno].values[0], ymax=1, clip_on=False, color='gray', alpha=0.5, linestyle='--', linewidth=1.5)\n",
    "#             ax[i].text(sig_points_z.loc[:,pheno].values[0], 40, '$p$<.05', fontweight=\"regular\", color='gray',\n",
    "#                        ha=\"left\", va=\"bottom\", rotation=270)\n",
    "\n",
    "    # note between model significant performance difference\n",
    "    if stats.loc[pheno,'sig']:\n",
    "        ax[i].plot([accuracy_mean[:,ii].mean(),accuracy_mean_z[:,ii].mean()],[ax[i].get_ylim()[1],ax[i].get_ylim()[1]], color='gray', linewidth=1)\n",
    "#         ax[i].text(accuracy_mean[:,ii].mean()+[accuracy_mean_z[:,ii].mean()-accuracy_mean[:,ii].mean()],\n",
    "#                    ax[i].get_ylim()[1], '$p$<.05', fontweight=\"regular\", color='gray', ha=\"left\", va=\"center\")\n",
    "#         ax[i].axvline(x=accuracy_mean[:,ii].mean(), ymin=ax[i].get_ylim()[1], clip_on=False, color='gray', linewidth=1)\n",
    "#         ax[i].axvline(x=accuracy_mean_z[:,ii].mean(), ymin=ax[i].get_ylim()[1], clip_on=False, color='gray', linewidth=1)\n",
    "#         ax[i].axhline(y=25, linewidth=2, xmin=accuracy_mean[:,ii].mean(), xmax=accuracy_mean_z[:,ii].mean(), color = 'gray')\n",
    "#         ax[i].axhline(y=25, linewidth=2, color = 'black')\n",
    "\n",
    "    if score == 'corr':\n",
    "        ax[i].set_xlim([accuracy_mean_z.min(),\n",
    "                        accuracy_mean_z.max()])\n",
    "\n",
    "    ax[i].axhline(y=0, linewidth=2, clip_on=False, color=cmap[ii])\n",
    "\n",
    "    for spine in ax[i].spines.values():\n",
    "        spine.set_visible(False)\n",
    "    ax[i].set_ylabel('')\n",
    "    ax[i].set_yticklabels([])\n",
    "    ax[i].set_yticks([])\n",
    "#     if score == 'corr':\n",
    "#         if i != len(idx)-1:\n",
    "#             ax[i].set_xticklabels([])\n",
    "\n",
    "    if i == len(idx)-1:\n",
    "        if score == 'corr': ax[i].set_xlabel('corr(y_true,y_pred)')\n",
    "        elif score == 'rmse': ax[i].set_xlabel('neg[RMSE] (higher = better)')\n",
    "        elif score == 'mae': ax[i].set_xlabel('neg[MAE] (higher = better)')\n",
    "\n",
    "    ax[i].tick_params(pad = -2)\n",
    "\n",
    "    if score == 'corr':\n",
    "        ax[i].text(0, 0.75, phenos_label[ii], fontweight=\"regular\", color=cmap[ii],\n",
    "                ha=\"left\", va=\"center\", transform=ax[i].transAxes)\n",
    "\n",
    "f.subplots_adjust(hspace=1)\n",
    "# f.suptitle(alg+'_'+score+'_'+metric+' | '+'_'.join(covs))\n",
    "f.savefig(outfile_prefix+'performance_comparison_'+alg+'_'+score+'_'+metric+'.svg', dpi = 600, bbox_inches = 'tight')"
   ]
  }
 ],
 "metadata": {
  "kernelspec": {
   "display_name": "Python 3",
   "language": "python",
   "name": "python3"
  },
  "language_info": {
   "codemirror_mode": {
    "name": "ipython",
    "version": 3
   },
   "file_extension": ".py",
   "mimetype": "text/x-python",
   "name": "python",
   "nbconvert_exporter": "python",
   "pygments_lexer": "ipython3",
   "version": "3.7.9"
  }
 },
 "nbformat": 4,
 "nbformat_minor": 4
}
