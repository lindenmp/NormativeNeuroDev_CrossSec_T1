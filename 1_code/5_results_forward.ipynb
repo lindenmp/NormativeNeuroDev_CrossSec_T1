{
 "cells": [
  {
   "cell_type": "code",
   "execution_count": 1,
   "metadata": {},
   "outputs": [],
   "source": [
    "# Essentials\n",
    "import os, sys, glob\n",
    "import pandas as pd\n",
    "import numpy as np\n",
    "import nibabel as nib\n",
    "import scipy.io as sio\n",
    "\n",
    "# Stats\n",
    "import scipy as sp\n",
    "from scipy import stats\n",
    "import statsmodels.api as sm\n",
    "import pingouin as pg\n",
    "\n",
    "# Plotting\n",
    "import seaborn as sns\n",
    "import matplotlib.pyplot as plt\n",
    "plt.rcParams['svg.fonttype'] = 'none'"
   ]
  },
  {
   "cell_type": "code",
   "execution_count": 2,
   "metadata": {},
   "outputs": [],
   "source": [
    "sys.path.append('/Users/lindenmp/Google-Drive-Penn/work/research_projects/normative_neurodev_cs_t1/1_code/')\n",
    "from func import set_proj_env, my_get_cmap, get_fdr_p"
   ]
  },
  {
   "cell_type": "code",
   "execution_count": 3,
   "metadata": {},
   "outputs": [],
   "source": [
    "train_test_str = 'train_test'\n",
    "exclude_str = 't1Exclude' # 't1Exclude' 'fsFinalExclude'\n",
    "parc_str = 'schaefer' # 'schaefer' 'lausanne'\n",
    "parc_scale = 400 # 200 400 | 60 125 250\n",
    "parcel_names, parcel_loc, drop_parcels, num_parcels, yeo_idx, yeo_labels = set_proj_env(exclude_str = exclude_str, parc_str = parc_str, parc_scale = parc_scale)"
   ]
  },
  {
   "cell_type": "code",
   "execution_count": 4,
   "metadata": {},
   "outputs": [
    {
     "data": {
      "text/plain": [
       "'t1Exclude_schaefer_400_'"
      ]
     },
     "execution_count": 4,
     "metadata": {},
     "output_type": "execute_result"
    }
   ],
   "source": [
    "# output file prefix\n",
    "outfile_prefix = exclude_str+'_'+parc_str+'_'+str(parc_scale)+'_'\n",
    "outfile_prefix"
   ]
  },
  {
   "cell_type": "markdown",
   "metadata": {},
   "source": [
    "### Setup directory variables"
   ]
  },
  {
   "cell_type": "code",
   "execution_count": 5,
   "metadata": {},
   "outputs": [
    {
     "name": "stdout",
     "output_type": "stream",
     "text": [
      "/Users/lindenmp/Google-Drive-Penn/work/research_projects/normative_neurodev_cs_t1/3_output_nosibs/figs\n"
     ]
    }
   ],
   "source": [
    "figdir = os.path.join(os.environ['OUTPUTDIR'], 'figs')\n",
    "print(figdir)\n",
    "if not os.path.exists(figdir): os.makedirs(figdir)"
   ]
  },
  {
   "cell_type": "markdown",
   "metadata": {},
   "source": [
    "## Load data pre-nispat data"
   ]
  },
  {
   "cell_type": "code",
   "execution_count": 6,
   "metadata": {},
   "outputs": [],
   "source": [
    "df = pd.read_csv(os.path.join(os.environ['PIPELINEDIR'], '1_compute_node_features', 'out', outfile_prefix+'df.csv'))"
   ]
  },
  {
   "cell_type": "code",
   "execution_count": 7,
   "metadata": {},
   "outputs": [
    {
     "name": "stdout",
     "output_type": "stream",
     "text": [
      "(1271, 57)\n",
      "(1271, 800)\n"
     ]
    }
   ],
   "source": [
    "# Train\n",
    "df_train = pd.read_csv(os.path.join(os.environ['PIPELINEDIR'], '2_prepare_normative', 'out', outfile_prefix+'train.csv'))\n",
    "df_train.set_index(['bblid', 'scanid'], inplace = True)\n",
    "df_node_train = pd.read_csv(os.path.join(os.environ['PIPELINEDIR'], '2_prepare_normative', 'out', outfile_prefix+'resp_train.csv'))\n",
    "df_node_train.set_index(['bblid', 'scanid'], inplace = True)\n",
    "\n",
    "# Test\n",
    "df_test = pd.read_csv(os.path.join(os.environ['PIPELINEDIR'], '2_prepare_normative', 'out', outfile_prefix+'test.csv'))\n",
    "df_test.set_index(['bblid', 'scanid'], inplace = True)\n",
    "df_node_test = pd.read_csv(os.path.join(os.environ['PIPELINEDIR'], '2_prepare_normative', 'out', outfile_prefix+'resp_test.csv'))\n",
    "df_node_test.set_index(['bblid', 'scanid'], inplace = True)\n",
    "\n",
    "# concat\n",
    "df = pd.concat((df_train, df_test), axis = 0); print(df.shape)\n",
    "df_node = pd.concat((df_node_train, df_node_test), axis = 0); print(df_node.shape)"
   ]
  },
  {
   "cell_type": "code",
   "execution_count": 8,
   "metadata": {},
   "outputs": [],
   "source": [
    "smse = np.loadtxt(os.path.join(os.environ['PIPELINEDIR'], '4_run_normative', outfile_prefix+'out', 'smse.txt'), delimiter = ' ').transpose()\n",
    "df_smse = pd.DataFrame(data = smse, index = df_node.columns)\n",
    "\n",
    "expv = np.loadtxt(os.path.join(os.environ['PIPELINEDIR'], '4_run_normative', outfile_prefix+'out', 'expv.txt'), delimiter = ' ').transpose()\n",
    "df_expv = pd.DataFrame(data = expv, index = df_node.columns)"
   ]
  },
  {
   "cell_type": "code",
   "execution_count": 9,
   "metadata": {},
   "outputs": [
    {
     "data": {
      "image/png": "[encoded data removed]",
      "text/plain": [
       "<Figure size 252x126 with 2 Axes>"
      ]
     },
     "metadata": {},
     "output_type": "display_data"
    }
   ],
   "source": [
    "sns.set(style='white', context = 'paper', font_scale = 0.8)\n",
    "sns.set_style({'font.family':'sans-serif', 'font.sans-serif':['Public Sans']})\n",
    "\n",
    "f, ax = plt.subplots(1,2)\n",
    "f.set_figwidth(3.5)\n",
    "f.set_figheight(1.75)\n",
    "\n",
    "sns.histplot(smse, ax=ax[0])\n",
    "ax[0].set_xlabel('Standardized \\nmean squared error')\n",
    "ax[0].tick_params(pad = -2)\n",
    "ax[0].set_ylabel('Count', labelpad=-1)\n",
    "ax[0].set_ylim([0,120])\n",
    "\n",
    "sns.histplot(expv, ax=ax[1])\n",
    "ax[1].set_xlabel('Explained variance')\n",
    "ax[1].tick_params(pad = -2)\n",
    "ax[1].set_ylabel('')\n",
    "ax[1].set_ylim([0,120])\n",
    "ax[1].set_yticklabels('')\n",
    "\n",
    "f.savefig(outfile_prefix+'nm_diagnostics.svg', dpi = 300, bbox_inches = 'tight', pad_inches = 0)"
   ]
  },
  {
   "cell_type": "markdown",
   "metadata": {},
   "source": [
    "## Load nispat outputs"
   ]
  },
  {
   "cell_type": "code",
   "execution_count": 10,
   "metadata": {},
   "outputs": [],
   "source": [
    "# Forward model\n",
    "synth_cov_test = pd.read_csv(os.path.join(os.environ['PIPELINEDIR'], '2_prepare_normative', 'out', outfile_prefix+'cov_test_forward.txt'),\n",
    "                             delim_whitespace = True, names=['ageAtScan1_Years', 'sex_adj'])\n",
    "\n",
    "yhat_forward = np.loadtxt(os.path.join(os.environ['PIPELINEDIR'], '4_run_normative', outfile_prefix+'out_forward', 'yhat.txt'), delimiter = ' ').transpose()\n",
    "df_yhat_forward = pd.DataFrame(data = yhat_forward, index = synth_cov_test.index, columns = df_node.columns)\n",
    "\n",
    "ys2_forward = np.loadtxt(os.path.join(os.environ['PIPELINEDIR'], '4_run_normative', outfile_prefix+'out_forward', 'ys2.txt'), delimiter = ' ').transpose()\n",
    "df_ys2_forward = pd.DataFrame(data = ys2_forward, index = synth_cov_test.index, columns = df_node.columns)"
   ]
  },
  {
   "cell_type": "code",
   "execution_count": 11,
   "metadata": {},
   "outputs": [
    {
     "name": "stdout",
     "output_type": "stream",
     "text": [
      "False\n",
      "15.000000000000002\n"
     ]
    },
    {
     "data": {
      "text/html": [
       "<div>\n",
       "<style scoped>\n",
       "    .dataframe tbody tr th:only-of-type {\n",
       "        vertical-align: middle;\n",
       "    }\n",
       "\n",
       "    .dataframe tbody tr th {\n",
       "        vertical-align: top;\n",
       "    }\n",
       "\n",
       "    .dataframe thead th {\n",
       "        text-align: right;\n",
       "    }\n",
       "</style>\n",
       "<table border=\"1\" class=\"dataframe\">\n",
       "  <thead>\n",
       "    <tr style=\"text-align: right;\">\n",
       "      <th></th>\n",
       "      <th>0</th>\n",
       "      <th>1</th>\n",
       "    </tr>\n",
       "  </thead>\n",
       "  <tbody>\n",
       "    <tr>\n",
       "      <th>ct_0</th>\n",
       "      <td>-0.241677</td>\n",
       "      <td>-0.243400</td>\n",
       "    </tr>\n",
       "    <tr>\n",
       "      <th>ct_1</th>\n",
       "      <td>-0.332627</td>\n",
       "      <td>-0.336701</td>\n",
       "    </tr>\n",
       "    <tr>\n",
       "      <th>ct_2</th>\n",
       "      <td>-0.231961</td>\n",
       "      <td>-0.232917</td>\n",
       "    </tr>\n",
       "    <tr>\n",
       "      <th>ct_3</th>\n",
       "      <td>-0.582120</td>\n",
       "      <td>-0.587253</td>\n",
       "    </tr>\n",
       "    <tr>\n",
       "      <th>ct_4</th>\n",
       "      <td>0.110161</td>\n",
       "      <td>0.081579</td>\n",
       "    </tr>\n",
       "  </tbody>\n",
       "</table>\n",
       "</div>"
      ],
      "text/plain": [
       "             0         1\n",
       "ct_0 -0.241677 -0.243400\n",
       "ct_1 -0.332627 -0.336701\n",
       "ct_2 -0.231961 -0.232917\n",
       "ct_3 -0.582120 -0.587253\n",
       "ct_4  0.110161  0.081579"
      ]
     },
     "execution_count": 11,
     "metadata": {},
     "output_type": "execute_result"
    }
   ],
   "source": [
    "df_yhat_forward_tmp = df_yhat_forward + (df_yhat_forward.abs().max()+1)\n",
    "print((df_yhat_forward_tmp<0).any().any())\n",
    "\n",
    "annualized = True\n",
    "if annualized:\n",
    "    elapsed_time = synth_cov_test.loc[synth_cov_test['sex_adj'] == 0,'ageAtScan1_Years'].iloc[-1] - synth_cov_test.loc[synth_cov_test['sex_adj'] == 0,'ageAtScan1_Years'].iloc[0]\n",
    "    print(elapsed_time)\n",
    "    x = (df_yhat_forward_tmp[synth_cov_test['sex_adj'] == 0].iloc[-1,:] / df_yhat_forward_tmp[synth_cov_test['sex_adj'] == 0].iloc[0,:]) - 1\n",
    "    df_yhat_tmp1 = (np.power(1+x.abs(),1/elapsed_time)-1)*100\n",
    "    df_yhat_tmp1[x<0] = df_yhat_tmp1[x<0]*-1\n",
    "\n",
    "    x = (df_yhat_forward_tmp[synth_cov_test['sex_adj'] == 1].iloc[-1,:] / df_yhat_forward_tmp[synth_cov_test['sex_adj'] == 1].iloc[0,:]) - 1\n",
    "    df_yhat_tmp2 = (np.power(1+x.abs(),1/elapsed_time)-1)*100\n",
    "    df_yhat_tmp2[x<0] = df_yhat_tmp2[x<0]*-1\n",
    "else:\n",
    "    df_yhat_tmp1 = ((df_yhat_forward_tmp[synth_cov_test['sex_adj'] == 0].iloc[-1,:] / df_yhat_forward_tmp[synth_cov_test['sex_adj'] == 0].iloc[0,:]) - 1) * 100\n",
    "    df_yhat_tmp2 = ((df_yhat_forward_tmp[synth_cov_test['sex_adj'] == 1].iloc[-1,:] / df_yhat_forward_tmp[synth_cov_test['sex_adj'] == 1].iloc[0,:]) - 1) * 100\n",
    "\n",
    "df_yhat_diff = pd.concat((df_yhat_tmp1, df_yhat_tmp2), axis = 1)\n",
    "df_yhat_diff.head()"
   ]
  },
  {
   "cell_type": "code",
   "execution_count": 12,
   "metadata": {},
   "outputs": [
    {
     "data": {
      "text/plain": [
       "0    0.951261\n",
       "1    0.903523\n",
       "dtype: float64"
      ]
     },
     "execution_count": 12,
     "metadata": {},
     "output_type": "execute_result"
    }
   ],
   "source": [
    "df_yhat_diff.filter(regex = 'ct', axis = 0).abs().max()"
   ]
  },
  {
   "cell_type": "code",
   "execution_count": 13,
   "metadata": {},
   "outputs": [
    {
     "data": {
      "text/plain": [
       "0    0.836055\n",
       "1    0.975688\n",
       "dtype: float64"
      ]
     },
     "execution_count": 13,
     "metadata": {},
     "output_type": "execute_result"
    }
   ],
   "source": [
    "df_yhat_diff.filter(regex = 'vol', axis = 0).abs().max()"
   ]
  },
  {
   "cell_type": "markdown",
   "metadata": {},
   "source": [
    "## Setup plots"
   ]
  },
  {
   "cell_type": "code",
   "execution_count": 14,
   "metadata": {},
   "outputs": [
    {
     "name": "stdout",
     "output_type": "stream",
     "text": [
      "['vol']\n"
     ]
    }
   ],
   "source": [
    "if not os.path.exists(figdir): os.makedirs(figdir)\n",
    "os.chdir(figdir)\n",
    "sns.set(style='white', context = 'paper', font_scale = 1)\n",
    "cmap = my_get_cmap('pair')\n",
    "\n",
    "# metrics = ['ct', 'vol']\n",
    "# metrics_label_short = ['Thickness', 'Volume']\n",
    "# metrics_label = ['Thickness', 'Volume']\n",
    "metrics = ['vol',]\n",
    "metrics_label_short = ['Volume',]\n",
    "metrics_label = ['Volume',]\n",
    "print(metrics)"
   ]
  },
  {
   "cell_type": "markdown",
   "metadata": {},
   "source": [
    "## Brain plots nispat"
   ]
  },
  {
   "cell_type": "code",
   "execution_count": 15,
   "metadata": {},
   "outputs": [
    {
     "name": "stdout",
     "output_type": "stream",
     "text": [
      "Notebook initialized with png backend.\n"
     ]
    }
   ],
   "source": [
    "import matplotlib.image as mpimg\n",
    "from brain_plot_func import roi_to_vtx, brain_plot"
   ]
  },
  {
   "cell_type": "code",
   "execution_count": 16,
   "metadata": {},
   "outputs": [],
   "source": [
    "if parc_str == 'schaefer':\n",
    "    subject_id = 'fsaverage'\n",
    "elif parc_str == 'lausanne':\n",
    "    subject_id = 'lausanne125'"
   ]
  },
  {
   "cell_type": "markdown",
   "metadata": {},
   "source": [
    "0 = Male, 1 = Female"
   ]
  },
  {
   "cell_type": "code",
   "execution_count": 17,
   "metadata": {},
   "outputs": [
    {
     "name": "stdout",
     "output_type": "stream",
     "text": [
      "1\n",
      "1\n",
      "1\n",
      "1\n"
     ]
    }
   ],
   "source": [
    "figs_to_delete = []\n",
    "\n",
    "for metric in metrics:\n",
    "    for hemi in ('lh', 'rh'):\n",
    "        for sx in ('sex0','sex1'):\n",
    "            # Plots of age correlation\n",
    "            fig_str = hemi + '_' + metric + '_age_' + sx + '_frwd'\n",
    "            figs_to_delete.append('ventral_'+fig_str)\n",
    "            figs_to_delete.append('med_'+fig_str)\n",
    "            figs_to_delete.append('lat_'+fig_str)\n",
    "            \n",
    "            if sx == 'sex0':\n",
    "                roi_data = df_yhat_diff.loc[:,0].filter(regex = metric, axis = 0).values\n",
    "            elif sx == 'sex1':\n",
    "                roi_data = df_yhat_diff.loc[:,1].filter(regex = metric, axis = 0).values\n",
    "            \n",
    "            center_anchor = 1\n",
    "\n",
    "            if subject_id == 'lausanne125':\n",
    "                parc_file = os.path.join('/Applications/freesurfer/subjects/', subject_id, 'label', hemi + '.myaparc_' + str(parc_scale) + '.annot')\n",
    "            elif subject_id == 'fsaverage':\n",
    "                parc_file = os.path.join('/Users/lindenmp/Google-Drive-Penn/work/research_projects/normative_neurodev_cs_t1/figs_support/Parcellations/FreeSurfer5.3/fsaverage/label/',\n",
    "                                         hemi + '.Schaefer2018_' + str(parc_scale) + 'Parcels_17Networks_order.annot')\n",
    "\n",
    "            brain_plot(roi_data, parcel_names, parc_file, fig_str, subject_id = subject_id, hemi = hemi, color = 'coolwarm', center_anchor = center_anchor)"
   ]
  },
  {
   "cell_type": "markdown",
   "metadata": {},
   "source": [
    "# Figures"
   ]
  },
  {
   "cell_type": "code",
   "execution_count": 18,
   "metadata": {},
   "outputs": [
    {
     "data": {
      "image/png": "[encoded data removed]",
      "text/plain": [
       "<Figure size 72x72 with 2 Axes>"
      ]
     },
     "metadata": {},
     "output_type": "display_data"
    }
   ],
   "source": [
    "f, ax = plt.subplots(1)\n",
    "f.set_figwidth(1)\n",
    "f.set_figheight(1)\n",
    "\n",
    "limit = 3\n",
    "sns.heatmap(np.zeros((1,1)), annot = False, xticklabels = [\"\"], yticklabels = [\"\"], center = 0, vmax = limit, vmin = -limit, ax = ax, square = True, cmap = 'coolwarm', cbar_kws={\"orientation\": \"horizontal\"})\n",
    "f.savefig('colorbar_'+str(limit)+'.svg', dpi = 300, bbox_inches = 'tight', pad_inches = 0)"
   ]
  },
  {
   "cell_type": "markdown",
   "metadata": {},
   "source": [
    "Figure 2C"
   ]
  },
  {
   "cell_type": "code",
   "execution_count": 19,
   "metadata": {},
   "outputs": [
    {
     "data": {
      "image/png": "[encoded data removed]",
      "text/plain": [
       "<Figure size 288x144 with 8 Axes>"
      ]
     },
     "metadata": {},
     "output_type": "display_data"
    }
   ],
   "source": [
    "# Age effects\n",
    "f, axes = plt.subplots(2, 4)\n",
    "f.set_figwidth(4)\n",
    "f.set_figheight(2)\n",
    "plt.subplots_adjust(wspace=0, hspace=0)\n",
    "\n",
    "\n",
    "# column 0:\n",
    "fig_str = 'lh_vol_age_sex0_frwd.png'\n",
    "try:\n",
    "    image = mpimg.imread('lat_' + fig_str); axes[0,0].imshow(image); axes[0,0].axis('off')\n",
    "except FileNotFoundError: axes[0,0].axis('off')\n",
    "try:\n",
    "    image = mpimg.imread('med_' + fig_str); axes[1,0].imshow(image); axes[1,0].axis('off')\n",
    "except FileNotFoundError: axes[1,0].axis('off')\n",
    "\n",
    "# column 1:\n",
    "fig_str = 'rh_vol_age_sex0_frwd.png'\n",
    "try:\n",
    "    image = mpimg.imread('lat_' + fig_str); axes[0,1].imshow(image); axes[0,1].axis('off')\n",
    "except FileNotFoundError: axes[0,1].axis('off')\n",
    "try:\n",
    "    image = mpimg.imread('med_' + fig_str); axes[1,1].imshow(image); axes[1,1].axis('off')\n",
    "except FileNotFoundError: axes[1,1].axis('off')\n",
    "\n",
    "# column 2:\n",
    "fig_str = 'lh_vol_age_sex1_frwd.png'\n",
    "try:\n",
    "    image = mpimg.imread('lat_' + fig_str); axes[0,2].imshow(image); axes[0,2].axis('off')\n",
    "except FileNotFoundError: axes[0,2].axis('off')\n",
    "try:\n",
    "    image = mpimg.imread('med_' + fig_str); axes[1,2].imshow(image); axes[1,2].axis('off')\n",
    "except FileNotFoundError: axes[1,2].axis('off')\n",
    "\n",
    "# column 3:\n",
    "fig_str = 'rh_vol_age_sex1_frwd.png'\n",
    "try:\n",
    "    image = mpimg.imread('lat_' + fig_str); axes[0,3].imshow(image); axes[0,3].axis('off')\n",
    "except FileNotFoundError: axes[0,3].axis('off')\n",
    "try:\n",
    "    image = mpimg.imread('med_' + fig_str); axes[1,3].imshow(image); axes[1,3].axis('off')\n",
    "except FileNotFoundError: axes[1,3].axis('off')\n",
    "\n",
    "plt.show()\n",
    "f.savefig(outfile_prefix+'brain_age.svg', dpi = 1000, bbox_inches = 'tight', pad_inches = 0)"
   ]
  },
  {
   "cell_type": "code",
   "execution_count": 20,
   "metadata": {},
   "outputs": [],
   "source": [
    "# for my_str in ('_sex0_frwd', '_sex1_frwd'):\n",
    "#     # Age effects\n",
    "#     f, axes = plt.subplots(2, 4)\n",
    "#     f.set_figwidth(4)\n",
    "#     f.set_figheight(2)\n",
    "#     plt.subplots_adjust(wspace=0, hspace=0)\n",
    "\n",
    "\n",
    "#     # column 0:\n",
    "#     fig_str = 'lh_ct_age'+my_str+'.png'\n",
    "#     try:\n",
    "#         image = mpimg.imread('lat_' + fig_str); axes[0,0].imshow(image); axes[0,0].axis('off')\n",
    "#     except FileNotFoundError: axes[0,0].axis('off')\n",
    "#     try:\n",
    "#         image = mpimg.imread('med_' + fig_str); axes[1,0].imshow(image); axes[1,0].axis('off')\n",
    "#     except FileNotFoundError: axes[1,0].axis('off')\n",
    "\n",
    "#     # column 1:\n",
    "#     fig_str = 'rh_ct_age'+my_str+'.png'\n",
    "#     try:\n",
    "#         image = mpimg.imread('lat_' + fig_str); axes[0,1].imshow(image); axes[0,1].axis('off')\n",
    "#     except FileNotFoundError: axes[0,1].axis('off')\n",
    "#     try:\n",
    "#         image = mpimg.imread('med_' + fig_str); axes[1,1].imshow(image); axes[1,1].axis('off')\n",
    "#     except FileNotFoundError: axes[1,1].axis('off')\n",
    "\n",
    "#     # column 2:\n",
    "#     fig_str = 'lh_vol_age'+my_str+'.png'\n",
    "#     try:\n",
    "#         image = mpimg.imread('lat_' + fig_str); axes[0,2].imshow(image); axes[0,2].axis('off')\n",
    "#     except FileNotFoundError: axes[0,2].axis('off')\n",
    "#     try:\n",
    "#         image = mpimg.imread('med_' + fig_str); axes[1,2].imshow(image); axes[1,2].axis('off')\n",
    "#     except FileNotFoundError: axes[1,2].axis('off')\n",
    "\n",
    "#     # column 3:\n",
    "#     fig_str = 'rh_vol_age'+my_str+'.png'\n",
    "#     try:\n",
    "#         image = mpimg.imread('lat_' + fig_str); axes[0,3].imshow(image); axes[0,3].axis('off')\n",
    "#     except FileNotFoundError: axes[0,3].axis('off')\n",
    "#     try:\n",
    "#         image = mpimg.imread('med_' + fig_str); axes[1,3].imshow(image); axes[1,3].axis('off')\n",
    "#     except FileNotFoundError: axes[1,3].axis('off')\n",
    "\n",
    "#     plt.show()\n",
    "#     f.savefig(outfile_prefix+'brain_age'+my_str+'.svg', dpi = 1000, bbox_inches = 'tight', pad_inches = 0)\n",
    "# #     f.savefig('brain_age'+my_str+'.png', dpi = 300, bbox_inches = 'tight', pad_inches = 0)"
   ]
  },
  {
   "cell_type": "code",
   "execution_count": 21,
   "metadata": {},
   "outputs": [],
   "source": [
    "for file in figs_to_delete:\n",
    "    try:\n",
    "        os.remove(os.path.join(figdir,file+'.png'))\n",
    "    except:\n",
    "        print(file, 'not found')"
   ]
  }
 ],
 "metadata": {
  "kernelspec": {
   "display_name": "Python 3",
   "language": "python",
   "name": "python3"
  },
  "language_info": {
   "codemirror_mode": {
    "name": "ipython",
    "version": 3
   },
   "file_extension": ".py",
   "mimetype": "text/x-python",
   "name": "python",
   "nbconvert_exporter": "python",
   "pygments_lexer": "ipython3",
   "version": "3.7.9"
  }
 },
 "nbformat": 4,
 "nbformat_minor": 4
}
