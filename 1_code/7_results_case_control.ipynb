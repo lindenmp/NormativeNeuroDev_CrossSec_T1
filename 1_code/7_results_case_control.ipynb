{
 "cells": [
  {
   "cell_type": "code",
   "execution_count": 1,
   "metadata": {},
   "outputs": [],
   "source": [
    "# Essentials\n",
    "import os, sys, glob\n",
    "import pandas as pd\n",
    "import numpy as np\n",
    "import nibabel as nib\n",
    "import scipy.io as sio\n",
    "\n",
    "# Stats\n",
    "import scipy as sp\n",
    "from scipy import stats\n",
    "import statsmodels.api as sm\n",
    "import pingouin as pg\n",
    "\n",
    "# Plotting\n",
    "import seaborn as sns\n",
    "import matplotlib.pyplot as plt\n",
    "plt.rcParams['svg.fonttype'] = 'none'"
   ]
  },
  {
   "cell_type": "code",
   "execution_count": 2,
   "metadata": {},
   "outputs": [],
   "source": [
    "from mpl_toolkits.axes_grid1 import make_axes_locatable"
   ]
  },
  {
   "cell_type": "code",
   "execution_count": 3,
   "metadata": {},
   "outputs": [],
   "source": [
    "sys.path.append('/Users/lindenmp/Google-Drive-Penn/work/research_projects/normative_neurodev_cs_t1/1_code/')\n",
    "from func import set_proj_env, my_get_cmap, get_fdr_p, run_pheno_correlations, get_fdr_p_df, get_sys_prop, run_ttest, get_cohend, create_dummy_vars"
   ]
  },
  {
   "cell_type": "code",
   "execution_count": 4,
   "metadata": {},
   "outputs": [],
   "source": [
    "train_test_str = 'train_test'\n",
    "exclude_str = 't1Exclude' # 't1Exclude' 'fsFinalExclude'\n",
    "parc_str = 'schaefer' # 'schaefer' 'lausanne'\n",
    "parc_scale = 400 # 200 400 | 60 125 250\n",
    "parcel_names, parcel_loc, drop_parcels, num_parcels, yeo_idx, yeo_labels = set_proj_env(exclude_str = exclude_str, parc_str = parc_str, parc_scale = parc_scale)"
   ]
  },
  {
   "cell_type": "code",
   "execution_count": 5,
   "metadata": {},
   "outputs": [
    {
     "data": {
      "text/plain": [
       "'t1Exclude_schaefer_400_'"
      ]
     },
     "execution_count": 5,
     "metadata": {},
     "output_type": "execute_result"
    }
   ],
   "source": [
    "# output file prefix\n",
    "outfile_prefix = exclude_str+'_'+parc_str+'_'+str(parc_scale)+'_'\n",
    "outfile_prefix"
   ]
  },
  {
   "cell_type": "markdown",
   "metadata": {},
   "source": [
    "### Setup directory variables"
   ]
  },
  {
   "cell_type": "code",
   "execution_count": 6,
   "metadata": {},
   "outputs": [
    {
     "name": "stdout",
     "output_type": "stream",
     "text": [
      "/Users/lindenmp/Google-Drive-Penn/work/research_projects/normative_neurodev_cs_t1/3_output/figs\n"
     ]
    }
   ],
   "source": [
    "figdir = os.path.join(os.environ['OUTPUTDIR'], 'figs')\n",
    "print(figdir)\n",
    "if not os.path.exists(figdir): os.makedirs(figdir)"
   ]
  },
  {
   "cell_type": "markdown",
   "metadata": {},
   "source": [
    "## Setup plots"
   ]
  },
  {
   "cell_type": "code",
   "execution_count": 7,
   "metadata": {},
   "outputs": [],
   "source": [
    "if not os.path.exists(figdir): os.makedirs(figdir)\n",
    "os.chdir(figdir)\n",
    "sns.set(style='white', context = 'paper', font_scale = 1)\n",
    "cmap = my_get_cmap('pair')\n",
    "\n",
    "phenos = ['Overall_Psychopathology','Psychosis_Positive','Psychosis_NegativeDisorg','AnxiousMisery','Externalizing','Fear']\n",
    "phenos_label_short = ['Ov. Psych.', 'Psy. (pos.)', 'Psy. (neg.)', 'Anx.-mis.', 'Ext.', 'Fear']\n",
    "phenos_label = ['Overall Psychopathology','Psychosis (Positive)','Psychosis (Negative)','Anxious-Misery','Externalizing','Fear']\n",
    "metrics = ['ct', 'vol']\n",
    "metrics_label_short = ['Thickness', 'Volume']\n",
    "metrics_label = ['Thickness', 'Volume']"
   ]
  },
  {
   "cell_type": "markdown",
   "metadata": {},
   "source": [
    "## Load data"
   ]
  },
  {
   "cell_type": "code",
   "execution_count": 8,
   "metadata": {},
   "outputs": [
    {
     "name": "stdout",
     "output_type": "stream",
     "text": [
      "(1376, 49)\n",
      "(1376, 800)\n"
     ]
    }
   ],
   "source": [
    "# Train\n",
    "df_train = pd.read_csv(os.path.join(os.environ['PIPELINEDIR'], '2_prepare_normative', 'out', outfile_prefix+'train.csv'))\n",
    "df_train.set_index(['bblid', 'scanid'], inplace = True)\n",
    "df_node_train = pd.read_csv(os.path.join(os.environ['PIPELINEDIR'], '2_prepare_normative', 'out', outfile_prefix+'resp_train.csv'))\n",
    "df_node_train.set_index(['bblid', 'scanid'], inplace = True)\n",
    "\n",
    "# Test\n",
    "df_test = pd.read_csv(os.path.join(os.environ['PIPELINEDIR'], '2_prepare_normative', 'out', outfile_prefix+'test.csv'))\n",
    "df_test.set_index(['bblid', 'scanid'], inplace = True)\n",
    "df_node_test = pd.read_csv(os.path.join(os.environ['PIPELINEDIR'], '2_prepare_normative', 'out', outfile_prefix+'resp_test.csv'))\n",
    "df_node_test.set_index(['bblid', 'scanid'], inplace = True)\n",
    "\n",
    "# concat\n",
    "df = pd.concat((df_train, df_test), axis = 0); print(df.shape)\n",
    "df_node = pd.concat((df_node_train, df_node_test), axis = 0); print(df_node.shape)"
   ]
  },
  {
   "cell_type": "markdown",
   "metadata": {},
   "source": [
    "## Load nispat outputs"
   ]
  },
  {
   "cell_type": "code",
   "execution_count": 9,
   "metadata": {},
   "outputs": [
    {
     "name": "stdout",
     "output_type": "stream",
     "text": [
      "(1376, 800)\n"
     ]
    }
   ],
   "source": [
    "z_cv = np.loadtxt(os.path.join(os.environ['PIPELINEDIR'], '4_run_normative', outfile_prefix+'out_cv', 'Z.txt'), delimiter = ' ').transpose()\n",
    "df_z_cv = pd.DataFrame(data = z_cv, index = df_node_train.index, columns = df_node_train.columns)\n",
    "\n",
    "z = np.loadtxt(os.path.join(os.environ['PIPELINEDIR'], '4_run_normative', outfile_prefix+'out', 'Z.txt'), delimiter = ' ').transpose()\n",
    "df_z_test = pd.DataFrame(data = z, index = df_node_test.index, columns = df_node_test.columns)\n",
    "\n",
    "# concat\n",
    "df_z = pd.concat((df_z_cv,df_z_test), axis = 0); print(df_z.shape)"
   ]
  },
  {
   "cell_type": "markdown",
   "metadata": {},
   "source": [
    "## Setup region filter\n",
    "### regions with SMSE <1 in normative model"
   ]
  },
  {
   "cell_type": "code",
   "execution_count": 10,
   "metadata": {},
   "outputs": [],
   "source": [
    "smse = np.loadtxt(os.path.join(os.environ['PIPELINEDIR'], '4_run_normative', outfile_prefix+'out', 'smse.txt'), delimiter = ' ').transpose()\n",
    "df_smse = pd.DataFrame(data = smse, index = df_node.columns)"
   ]
  },
  {
   "cell_type": "code",
   "execution_count": 11,
   "metadata": {},
   "outputs": [],
   "source": [
    "smse_thresh = 1\n",
    "region_filter = df_smse.iloc[:,0] < smse_thresh"
   ]
  },
  {
   "cell_type": "code",
   "execution_count": 12,
   "metadata": {},
   "outputs": [
    {
     "data": {
      "text/plain": [
       "750"
      ]
     },
     "execution_count": 12,
     "metadata": {},
     "output_type": "execute_result"
    }
   ],
   "source": [
    "region_filter.sum()"
   ]
  },
  {
   "cell_type": "markdown",
   "metadata": {},
   "source": [
    "# Group analysis"
   ]
  },
  {
   "cell_type": "markdown",
   "metadata": {},
   "source": [
    "## Create grouping variable"
   ]
  },
  {
   "cell_type": "code",
   "execution_count": 13,
   "metadata": {},
   "outputs": [
    {
     "name": "stdout",
     "output_type": "stream",
     "text": [
      "goassessSmryDep: 191\n",
      "goassessSmryAdd: 226\n",
      "Comorbid N: 47\n",
      "goassessSmryDep: 144\n",
      "goassessSmryAdd: 179\n"
     ]
    }
   ],
   "source": [
    "groups = ('goassessSmryDep', 'goassessSmryAdd')\n",
    "# groups = ('goassessSmryMood','goassessSmryPsy')\n",
    "# groups = ('goassessSmryDep','goassessSmryPsy')\n",
    "\n",
    "group_idx = create_dummy_vars(df.loc[df.loc[:,train_test_str] == 1,:], groups, filter_comorbid = True)"
   ]
  },
  {
   "cell_type": "code",
   "execution_count": 14,
   "metadata": {},
   "outputs": [
    {
     "name": "stdout",
     "output_type": "stream",
     "text": [
      "(1376, 2)\n"
     ]
    }
   ],
   "source": [
    "# pad with zeros to match dimensions with training set\n",
    "zero_pad = np.zeros((np.sum(df[train_test_str] == 0),group_idx.shape[1])).astype(bool)\n",
    "group_idx = np.append(zero_pad, group_idx, axis = 0); print(group_idx.shape)"
   ]
  },
  {
   "cell_type": "markdown",
   "metadata": {},
   "source": [
    "### Demographics"
   ]
  },
  {
   "cell_type": "code",
   "execution_count": 15,
   "metadata": {},
   "outputs": [
    {
     "name": "stdout",
     "output_type": "stream",
     "text": [
      "goassessSmryDep mean age: 17.62 ( 2.28 )\n"
     ]
    }
   ],
   "source": [
    "print(groups[0],\n",
    "      'mean age:', df.loc[group_idx[:,0],'ageAtScan1_Years'].mean().round(2),\n",
    "      '(', df.loc[group_idx[:,0],'ageAtScan1_Years'].std().round(2), ')')"
   ]
  },
  {
   "cell_type": "code",
   "execution_count": 16,
   "metadata": {},
   "outputs": [
    {
     "data": {
      "text/plain": [
       "1    67.361111\n",
       "0    32.638889\n",
       "Name: sex_adj, dtype: float64"
      ]
     },
     "execution_count": 16,
     "metadata": {},
     "output_type": "execute_result"
    }
   ],
   "source": [
    "df.loc[group_idx[:,0],'sex_adj'].value_counts() / np.sum(group_idx[:,0]) * 100"
   ]
  },
  {
   "cell_type": "code",
   "execution_count": 17,
   "metadata": {},
   "outputs": [
    {
     "name": "stdout",
     "output_type": "stream",
     "text": [
      "goassessSmryAdd mean age: 13.63 ( 3.1 )\n"
     ]
    }
   ],
   "source": [
    "print(groups[1],\n",
    "      'mean age:', df.loc[group_idx[:,1],'ageAtScan1_Years'].mean().round(2),\n",
    "      '(', df.loc[group_idx[:,1],'ageAtScan1_Years'].std().round(2), ')')"
   ]
  },
  {
   "cell_type": "code",
   "execution_count": 18,
   "metadata": {},
   "outputs": [
    {
     "data": {
      "text/plain": [
       "0    62.011173\n",
       "1    37.988827\n",
       "Name: sex_adj, dtype: float64"
      ]
     },
     "execution_count": 18,
     "metadata": {},
     "output_type": "execute_result"
    }
   ],
   "source": [
    "df.loc[group_idx[:,1],'sex_adj'].value_counts() / np.sum(group_idx[:,1]) * 100"
   ]
  },
  {
   "cell_type": "code",
   "execution_count": 19,
   "metadata": {},
   "outputs": [
    {
     "data": {
      "text/plain": [
       "Ttest_indResult(statistic=12.87137744885286, pvalue=7.453251933639135e-31)"
      ]
     },
     "execution_count": 19,
     "metadata": {},
     "output_type": "execute_result"
    }
   ],
   "source": [
    "sp.stats.ttest_ind(df.loc[group_idx[:,0],'ageAtScan1_Years'], df.loc[group_idx[:,1],'ageAtScan1_Years'])"
   ]
  },
  {
   "cell_type": "code",
   "execution_count": 20,
   "metadata": {},
   "outputs": [
    {
     "name": "stdout",
     "output_type": "stream",
     "text": [
      "(408, 50)\n",
      "(144, 50)\n",
      "(179, 50)\n"
     ]
    }
   ],
   "source": [
    "df_hc_cv = df.loc[df[train_test_str] == 0,:].copy()\n",
    "df_hc_ho = df.loc[np.logical_and(df[train_test_str] == 1,df['squeakycleanExclude'] == 0),:].copy()\n",
    "df_hc = pd.concat((df_hc_cv,df_hc_ho), axis = 0)\n",
    "# df_hc = df.loc[df[train_test_str] == 0,:].copy()\n",
    "df_hc.loc[:,'group'] = 0\n",
    "print(df_hc.shape)\n",
    "\n",
    "df_dep = df.loc[group_idx[:,0],:].copy()\n",
    "df_dep.loc[:,'group'] = 1\n",
    "print(df_dep.shape)\n",
    "\n",
    "df_add = df.loc[group_idx[:,1],:].copy()\n",
    "df_add.loc[:,'group'] = 2\n",
    "print(df_add.shape)\n",
    "\n",
    "df_tmp = pd.concat((df_hc, df_dep, df_add), axis = 0)\n",
    "\n",
    "df_z_tmp = df_z.loc[df_tmp.index,:].copy()"
   ]
  },
  {
   "cell_type": "markdown",
   "metadata": {},
   "source": [
    "### Regress age/sex out of node features"
   ]
  },
  {
   "cell_type": "code",
   "execution_count": 21,
   "metadata": {},
   "outputs": [],
   "source": [
    "# # Given differences in demographics between groups, we regress age/sex from z scores before calculating cohen's D\n",
    "# # df_nuis = df_tmp.loc[:,['ageAtScan1_Years','sex_adj']]\n",
    "# df_nuis = df_tmp.loc[:,'mprage_antsCT_vol_TBV']\n",
    "# df_nuis = sm.add_constant(df_nuis)\n",
    "\n",
    "# # df_z\n",
    "# cols = df_z_tmp.columns\n",
    "# mdl = sm.OLS(df_z_tmp.loc[:,cols], df_nuis).fit()\n",
    "# y_pred = mdl.predict(df_nuis)\n",
    "# y_pred.columns = cols\n",
    "# df_z_tmp = df_z_tmp.loc[:,cols] - y_pred\n",
    "\n",
    "# # phenos\n",
    "# mdl = sm.OLS(df_tmp.loc[:,phenos], df_nuis).fit()\n",
    "# y_pred = mdl.predict(df_nuis)\n",
    "# y_pred.columns = phenos\n",
    "# df_tmp.loc[:,phenos] = df_tmp.loc[:,phenos] - y_pred"
   ]
  },
  {
   "cell_type": "markdown",
   "metadata": {},
   "source": [
    "## Disorder groups vs. CV HCs"
   ]
  },
  {
   "cell_type": "code",
   "execution_count": 22,
   "metadata": {},
   "outputs": [
    {
     "name": "stdout",
     "output_type": "stream",
     "text": [
      "Depression ct, significant t-tests: 2.25\n",
      "ADHD ct, significant t-tests: 0.25\n",
      "Depression vol, significant t-tests: 37.5\n",
      "ADHD vol, significant t-tests: 0.5\n"
     ]
    }
   ],
   "source": [
    "for metric in metrics:\n",
    "    df_y = df_z_tmp.loc[df_tmp.loc[:,'group'] == 0,:].filter(regex = metric, axis = 1)\n",
    "    \n",
    "    df_x = df_z_tmp.loc[df_tmp.loc[:,'group'] == 1,:].filter(regex = metric, axis = 1)\n",
    "    df_out = run_ttest(df_x, df_y, tail = 'one')\n",
    "    print('Depression', metric + ', significant t-tests:', (np.sum(df_out.loc[:,'p-corr'] < .05) / df_out.shape[0] * 100))\n",
    "    \n",
    "    df_x = df_z_tmp.loc[df_tmp.loc[:,'group'] == 2,:].filter(regex = metric, axis = 1)\n",
    "    df_out = run_ttest(df_x, df_y, tail = 'one')\n",
    "    print('ADHD', metric + ', significant t-tests:', (np.sum(df_out.loc[:,'p-corr'] < .05) / df_out.shape[0] * 100))"
   ]
  },
  {
   "cell_type": "code",
   "execution_count": 23,
   "metadata": {},
   "outputs": [
    {
     "name": "stdout",
     "output_type": "stream",
     "text": [
      "vol\n"
     ]
    }
   ],
   "source": [
    "metric = metrics[1]; print(metric)"
   ]
  },
  {
   "cell_type": "markdown",
   "metadata": {},
   "source": [
    "### Spatial correlations"
   ]
  },
  {
   "cell_type": "code",
   "execution_count": 24,
   "metadata": {},
   "outputs": [
    {
     "data": {
      "text/html": [
       "<div>\n",
       "<style scoped>\n",
       "    .dataframe tbody tr th:only-of-type {\n",
       "        vertical-align: middle;\n",
       "    }\n",
       "\n",
       "    .dataframe tbody tr th {\n",
       "        vertical-align: top;\n",
       "    }\n",
       "\n",
       "    .dataframe thead th {\n",
       "        text-align: right;\n",
       "    }\n",
       "</style>\n",
       "<table border=\"1\" class=\"dataframe\">\n",
       "  <thead>\n",
       "    <tr style=\"text-align: right;\">\n",
       "      <th></th>\n",
       "      <th>Depression</th>\n",
       "      <th>ADHD</th>\n",
       "    </tr>\n",
       "  </thead>\n",
       "  <tbody>\n",
       "    <tr>\n",
       "      <th>vol_0</th>\n",
       "      <td>-0.114236</td>\n",
       "      <td>-0.099313</td>\n",
       "    </tr>\n",
       "    <tr>\n",
       "      <th>vol_1</th>\n",
       "      <td>-0.256815</td>\n",
       "      <td>-0.163493</td>\n",
       "    </tr>\n",
       "    <tr>\n",
       "      <th>vol_2</th>\n",
       "      <td>-0.215870</td>\n",
       "      <td>-0.024991</td>\n",
       "    </tr>\n",
       "    <tr>\n",
       "      <th>vol_3</th>\n",
       "      <td>-0.164705</td>\n",
       "      <td>-0.189552</td>\n",
       "    </tr>\n",
       "    <tr>\n",
       "      <th>vol_4</th>\n",
       "      <td>-0.156803</td>\n",
       "      <td>-0.155439</td>\n",
       "    </tr>\n",
       "  </tbody>\n",
       "</table>\n",
       "</div>"
      ],
      "text/plain": [
       "       Depression      ADHD\n",
       "vol_0   -0.114236 -0.099313\n",
       "vol_1   -0.256815 -0.163493\n",
       "vol_2   -0.215870 -0.024991\n",
       "vol_3   -0.164705 -0.189552\n",
       "vol_4   -0.156803 -0.155439"
      ]
     },
     "execution_count": 24,
     "metadata": {},
     "output_type": "execute_result"
    }
   ],
   "source": [
    "df_y = df_z_tmp.loc[df_tmp.loc[:,'group'] == 0,:].filter(regex = metric, axis = 1)\n",
    "\n",
    "X = get_cohend(df_z_tmp.loc[df_tmp.loc[:,'group'] == 1,:].filter(regex = metric, axis = 1), df_y).loc[:,'d'].rename('Depression')\n",
    "y = get_cohend(df_z_tmp.loc[df_tmp.loc[:,'group'] == 2,:].filter(regex = metric, axis = 1), df_y).loc[:,'d'].rename('ADHD')\n",
    "df_input = pd.concat((X, y), axis = 1)\n",
    "\n",
    "df_input.head()"
   ]
  },
  {
   "cell_type": "code",
   "execution_count": 25,
   "metadata": {},
   "outputs": [
    {
     "name": "stdout",
     "output_type": "stream",
     "text": [
      "[0.19 0.  ]\n"
     ]
    },
    {
     "data": {
      "image/png": "[encoded data removed]",
      "text/plain": [
       "<Figure size 180x180 with 3 Axes>"
      ]
     },
     "metadata": {},
     "output_type": "display_data"
    }
   ],
   "source": [
    "print(np.round(sp.stats.pearsonr(x = df_input.loc[:,'Depression'], y = df_input.loc[:,'ADHD']),2))\n",
    "\n",
    "sns.set(style='white', context = 'paper', font_scale = 1)\n",
    "f = sns.jointplot(x = df_input.loc[:,'Depression'], y = df_input.loc[:,'ADHD'], kind=\"reg\")\n",
    "f.fig.set_figwidth(2.5)\n",
    "f.fig.set_figheight(2.5)\n",
    "f.set_axis_labels('Depression (Cohen\\'s D)', 'ADHD (Cohen\\'s D)')\n",
    "f.plot_joint(plt.scatter, c = \"k\", s = 5, linewidth = 2, marker = \".\", alpha = 0.3)\n",
    "f.ax_joint.collections[0].set_alpha(0)\n",
    "f.ax_joint.set_ylim([-0.4, 0.2])\n",
    "f.ax_joint.set_xlim([-0.55, 0.2])\n",
    "f.savefig(outfile_prefix+'cohensd_spatial_corr_depression->adhd.svg', dpi = 300, bbox_inches = 'tight', pad_inches = 0)"
   ]
  },
  {
   "cell_type": "markdown",
   "metadata": {},
   "source": [
    "### Regress p out of node features"
   ]
  },
  {
   "cell_type": "code",
   "execution_count": 26,
   "metadata": {},
   "outputs": [
    {
     "name": "stdout",
     "output_type": "stream",
     "text": [
      "Overall_Psychopathology [-0.06  0.25]\n",
      "Psychosis_Positive [0.17 0.  ]\n",
      "Psychosis_NegativeDisorg [0.17 0.  ]\n",
      "AnxiousMisery [0.22 0.  ]\n",
      "Externalizing [0.19 0.  ]\n",
      "Fear [0.17 0.  ]\n"
     ]
    }
   ],
   "source": [
    "r = np.zeros(len(phenos))\n",
    "\n",
    "for p, pheno in enumerate(phenos):\n",
    "#     df_nuis = df_tmp.loc[:,['ageAtScan1_Years','sex_adj',pheno]]\n",
    "#     df_nuis = df_tmp.loc[:,['mprage_antsCT_vol_TBV',pheno]]\n",
    "    df_nuis = df_tmp.loc[:,pheno]\n",
    "    df_nuis = sm.add_constant(df_nuis)\n",
    "\n",
    "    cols = df_z_tmp.columns\n",
    "    mdl = sm.OLS(df_z_tmp.loc[:,cols], df_nuis).fit()\n",
    "    y_pred = mdl.predict(df_nuis)\n",
    "    y_pred.columns = cols\n",
    "    df_z_tmp_regr = df_z_tmp.loc[:,cols] - y_pred\n",
    "\n",
    "    df_y = df_z_tmp_regr.loc[df_tmp.loc[:,'group'] == 0,:].filter(regex = metric, axis = 1)\n",
    "\n",
    "    X = get_cohend(df_z_tmp_regr.loc[df_tmp.loc[:,'group'] == 1,:].filter(regex = metric, axis = 1), df_y).loc[:,'d'].rename('Depression')\n",
    "    y = get_cohend(df_z_tmp_regr.loc[df_tmp.loc[:,'group'] == 2,:].filter(regex = metric, axis = 1), df_y).loc[:,'d'].rename('ADHD')\n",
    "    \n",
    "    r[p] = sp.stats.pearsonr(X,y)[0]\n",
    "    print(pheno, np.round(sp.stats.pearsonr(X,y),2))"
   ]
  },
  {
   "cell_type": "code",
   "execution_count": 27,
   "metadata": {},
   "outputs": [
    {
     "data": {
      "text/plain": [
       "0.0029344636427271475"
      ]
     },
     "execution_count": 27,
     "metadata": {},
     "output_type": "execute_result"
    }
   ],
   "source": [
    "sp.stats.pearsonr(x = df_input.loc[:,'Depression'], y = df_input.loc[:,'ADHD'])[0] - np.mean(r[1:])"
   ]
  },
  {
   "cell_type": "code",
   "execution_count": 28,
   "metadata": {},
   "outputs": [
    {
     "name": "stdout",
     "output_type": "stream",
     "text": [
      "Overall_Psychopathology\n"
     ]
    }
   ],
   "source": [
    "p = 0\n",
    "pheno = phenos[p]; print(pheno)"
   ]
  },
  {
   "cell_type": "code",
   "execution_count": 29,
   "metadata": {},
   "outputs": [],
   "source": [
    "# Given differences in demographics between groups, we regress age/sex from z scores before calculating cohen's D\n",
    "# df_nuis = df_tmp.loc[:,['ageAtScan1_Years','sex_adj',pheno]]\n",
    "# df_nuis = df_tmp.loc[:,['mprage_antsCT_vol_TBV',pheno]]\n",
    "df_nuis = df_tmp.loc[:,pheno]\n",
    "df_nuis = sm.add_constant(df_nuis)\n",
    "\n",
    "# df_z\n",
    "cols = df_z_tmp.columns\n",
    "mdl = sm.OLS(df_z_tmp.loc[:,cols], df_nuis).fit()\n",
    "y_pred = mdl.predict(df_nuis)\n",
    "y_pred.columns = cols\n",
    "df_z_tmp_regr = df_z_tmp.loc[:,cols] - y_pred"
   ]
  },
  {
   "cell_type": "code",
   "execution_count": 30,
   "metadata": {},
   "outputs": [
    {
     "data": {
      "text/html": [
       "<div>\n",
       "<style scoped>\n",
       "    .dataframe tbody tr th:only-of-type {\n",
       "        vertical-align: middle;\n",
       "    }\n",
       "\n",
       "    .dataframe tbody tr th {\n",
       "        vertical-align: top;\n",
       "    }\n",
       "\n",
       "    .dataframe thead th {\n",
       "        text-align: right;\n",
       "    }\n",
       "</style>\n",
       "<table border=\"1\" class=\"dataframe\">\n",
       "  <thead>\n",
       "    <tr style=\"text-align: right;\">\n",
       "      <th></th>\n",
       "      <th>Depression</th>\n",
       "      <th>ADHD</th>\n",
       "    </tr>\n",
       "  </thead>\n",
       "  <tbody>\n",
       "    <tr>\n",
       "      <th>vol_0</th>\n",
       "      <td>-0.079677</td>\n",
       "      <td>-0.081098</td>\n",
       "    </tr>\n",
       "    <tr>\n",
       "      <th>vol_1</th>\n",
       "      <td>-0.160144</td>\n",
       "      <td>-0.110987</td>\n",
       "    </tr>\n",
       "    <tr>\n",
       "      <th>vol_2</th>\n",
       "      <td>-0.107435</td>\n",
       "      <td>0.031838</td>\n",
       "    </tr>\n",
       "    <tr>\n",
       "      <th>vol_3</th>\n",
       "      <td>-0.098037</td>\n",
       "      <td>-0.154478</td>\n",
       "    </tr>\n",
       "    <tr>\n",
       "      <th>vol_4</th>\n",
       "      <td>-0.046217</td>\n",
       "      <td>-0.096621</td>\n",
       "    </tr>\n",
       "  </tbody>\n",
       "</table>\n",
       "</div>"
      ],
      "text/plain": [
       "       Depression      ADHD\n",
       "vol_0   -0.079677 -0.081098\n",
       "vol_1   -0.160144 -0.110987\n",
       "vol_2   -0.107435  0.031838\n",
       "vol_3   -0.098037 -0.154478\n",
       "vol_4   -0.046217 -0.096621"
      ]
     },
     "execution_count": 30,
     "metadata": {},
     "output_type": "execute_result"
    }
   ],
   "source": [
    "df_y = df_z_tmp_regr.loc[df_tmp.loc[:,'group'] == 0,:].filter(regex = metric, axis = 1)\n",
    "\n",
    "X = get_cohend(df_z_tmp_regr.loc[df_tmp.loc[:,'group'] == 1,:].filter(regex = metric, axis = 1), df_y).loc[:,'d'].rename('Depression')\n",
    "y = get_cohend(df_z_tmp_regr.loc[df_tmp.loc[:,'group'] == 2,:].filter(regex = metric, axis = 1), df_y).loc[:,'d'].rename('ADHD')\n",
    "df_input_p = pd.concat((X, y), axis = 1)\n",
    "\n",
    "df_input_p.head()"
   ]
  },
  {
   "cell_type": "code",
   "execution_count": 31,
   "metadata": {},
   "outputs": [
    {
     "name": "stdout",
     "output_type": "stream",
     "text": [
      "[-0.06  0.25]\n"
     ]
    },
    {
     "data": {
      "image/png": "[encoded data removed]",
      "text/plain": [
       "<Figure size 180x180 with 3 Axes>"
      ]
     },
     "metadata": {},
     "output_type": "display_data"
    }
   ],
   "source": [
    "print(np.round(sp.stats.pearsonr(x = df_input_p.loc[:,'Depression'], y = df_input_p.loc[:,'ADHD']),2))\n",
    "\n",
    "sns.set(style='white', context = 'paper', font_scale = 1)\n",
    "f = sns.jointplot(x = df_input_p.loc[:,'Depression'], y = df_input_p.loc[:,'ADHD'], kind=\"reg\")\n",
    "f.fig.set_figwidth(2.5)\n",
    "f.fig.set_figheight(2.5)\n",
    "f.set_axis_labels('Depression (Cohen\\'s D)', 'ADHD (Cohen\\'s D)')\n",
    "f.plot_joint(plt.scatter, c = \"k\", s = 5, linewidth = 2, marker = \".\", alpha = 0.3)\n",
    "f.ax_joint.collections[0].set_alpha(0)\n",
    "f.ax_joint.set_ylim([-0.35, 0.25])\n",
    "f.ax_joint.set_xlim([-0.35, 0.15])\n",
    "f.savefig(outfile_prefix+'cohensd_spatial_corr_depression->adhd_p_nuis.svg', dpi = 300, bbox_inches = 'tight', pad_inches = 0)"
   ]
  },
  {
   "cell_type": "code",
   "execution_count": 32,
   "metadata": {},
   "outputs": [
    {
     "data": {
      "image/png": "[encoded data removed]",
      "text/plain": [
       "<Figure size 180x72 with 1 Axes>"
      ]
     },
     "metadata": {},
     "output_type": "display_data"
    }
   ],
   "source": [
    "f, ax = plt.subplots()\n",
    "f.set_figwidth(2.5)\n",
    "f.set_figheight(1)\n",
    "sns.kdeplot(df_input.loc[:,'ADHD'], ax = ax, color = cmap[0], label = 'no p')\n",
    "sns.kdeplot(df_input_p.loc[:,'ADHD'], ax = ax, color = cmap[1], label = 'p')\n",
    "ax.legend().remove()\n",
    "ax.set_ylim([0, 6])\n",
    "ax.set_xlim([-0.5, 0.3])\n",
    "ax.set_xlabel('ADHD (Cohen\\'s D)')\n",
    "ax.set_ylabel('density')\n",
    "f.savefig(outfile_prefix+'cohensd_adhd.svg', dpi = 300, bbox_inches = 'tight', pad_inches = 0)"
   ]
  },
  {
   "cell_type": "code",
   "execution_count": 33,
   "metadata": {},
   "outputs": [
    {
     "data": {
      "text/plain": [
       "Ttest_relResult(statistic=31.055751110277043, pvalue=1.6175876170156443e-108)"
      ]
     },
     "execution_count": 33,
     "metadata": {},
     "output_type": "execute_result"
    }
   ],
   "source": [
    "sp.stats.ttest_rel(df_input_p.loc[:,'ADHD'],df_input.loc[:,'ADHD'])"
   ]
  },
  {
   "cell_type": "code",
   "execution_count": 34,
   "metadata": {},
   "outputs": [
    {
     "data": {
      "image/png": "[encoded data removed]",
      "text/plain": [
       "<Figure size 180x72 with 1 Axes>"
      ]
     },
     "metadata": {},
     "output_type": "display_data"
    }
   ],
   "source": [
    "f, ax = plt.subplots()\n",
    "f.set_figwidth(2.5)\n",
    "f.set_figheight(1)\n",
    "sns.kdeplot(df_input.loc[:,'Depression'], ax = ax, color = cmap[0], label = 'no p')\n",
    "sns.kdeplot(df_input_p.loc[:,'Depression'], ax = ax, color = cmap[1], label = 'p')\n",
    "ax.legend().remove()\n",
    "ax.set_ylim([0, 6])\n",
    "ax.set_xlim([-0.5, 0.3])\n",
    "ax.set_xlabel('Depression (Cohen\\'s D)')\n",
    "ax.set_ylabel('density')\n",
    "f.savefig(outfile_prefix+'cohensd_depression.svg', dpi = 300, bbox_inches = 'tight', pad_inches = 0)"
   ]
  },
  {
   "cell_type": "code",
   "execution_count": 35,
   "metadata": {},
   "outputs": [
    {
     "data": {
      "text/plain": [
       "Ttest_relResult(statistic=31.292384628128016, pvalue=1.8854812169127094e-109)"
      ]
     },
     "execution_count": 35,
     "metadata": {},
     "output_type": "execute_result"
    }
   ],
   "source": [
    "sp.stats.ttest_rel(df_input_p.loc[:,'Depression'],df_input.loc[:,'Depression'])"
   ]
  }
 ],
 "metadata": {
  "kernelspec": {
   "display_name": "Python 3",
   "language": "python",
   "name": "python3"
  },
  "language_info": {
   "codemirror_mode": {
    "name": "ipython",
    "version": 3
   },
   "file_extension": ".py",
   "mimetype": "text/x-python",
   "name": "python",
   "nbconvert_exporter": "python",
   "pygments_lexer": "ipython3",
   "version": "3.7.9"
  }
 },
 "nbformat": 4,
 "nbformat_minor": 4
}
