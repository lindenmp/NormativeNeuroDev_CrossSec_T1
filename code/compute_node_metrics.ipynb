{
 "cells": [
  {
   "cell_type": "markdown",
   "metadata": {},
   "source": [
    "# Preamble"
   ]
  },
  {
   "cell_type": "code",
   "execution_count": 1,
   "metadata": {},
   "outputs": [],
   "source": [
    "# Essentials\n",
    "import os, sys, glob\n",
    "import pandas as pd\n",
    "import numpy as np\n",
    "import nibabel as nib\n",
    "\n",
    "# Stats\n",
    "import scipy as sp\n",
    "from scipy import stats\n",
    "import statsmodels.api as sm\n",
    "import pingouin as pg\n",
    "\n",
    "# Plotting\n",
    "import seaborn as sns\n",
    "import matplotlib.pyplot as plt\n",
    "plt.rcParams['svg.fonttype'] = 'none'"
   ]
  },
  {
   "cell_type": "code",
   "execution_count": 2,
   "metadata": {},
   "outputs": [],
   "source": [
    "sys.path.append('/Users/lindenmp/Dropbox/Work/ResProjects/NormativeNeuroDev_CrossSec_T1/code/func/')\n",
    "from proj_environment import set_proj_env"
   ]
  },
  {
   "cell_type": "code",
   "execution_count": 3,
   "metadata": {},
   "outputs": [],
   "source": [
    "train_test_str = 'squeakycleanExclude'\n",
    "exclude_str = 't1Exclude' # 't1Exclude' 'fsFinalExclude'\n",
    "parc_str = 'schaefer' # 'schaefer' 'lausanne'\n",
    "parc_scale = 400 # 200 400 | 60 125\n",
    "parcel_names, parcel_loc, drop_parcels, num_parcels, yeo_idx, yeo_labels = set_proj_env(train_test_str = train_test_str, exclude_str = exclude_str,\n",
    "                                                                            parc_str = parc_str, parc_scale = parc_scale)"
   ]
  },
  {
   "cell_type": "markdown",
   "metadata": {},
   "source": [
    "### Setup output directory"
   ]
  },
  {
   "cell_type": "code",
   "execution_count": 4,
   "metadata": {},
   "outputs": [
    {
     "name": "stdout",
     "output_type": "stream",
     "text": [
      "/Users/lindenmp/Dropbox/Work/ResProjects/NormativeNeuroDev_CrossSec_T1/analysis/normative/t1Exclude/squeakycleanExclude/schaefer_400\n"
     ]
    }
   ],
   "source": [
    "print(os.environ['MODELDIR'])\n",
    "if not os.path.exists(os.environ['MODELDIR']): os.makedirs(os.environ['MODELDIR'])"
   ]
  },
  {
   "cell_type": "markdown",
   "metadata": {},
   "source": [
    "## Load train/test .csv and setup node .csv"
   ]
  },
  {
   "cell_type": "code",
   "execution_count": 5,
   "metadata": {},
   "outputs": [
    {
     "data": {
      "text/plain": [
       "'/Users/lindenmp/Dropbox/Work/ResProjects/NormativeNeuroDev_CrossSec_T1/analysis/normative/t1Exclude/squeakycleanExclude'"
      ]
     },
     "execution_count": 5,
     "metadata": {},
     "output_type": "execute_result"
    }
   ],
   "source": [
    "os.path.join(os.environ['TRTEDIR'])"
   ]
  },
  {
   "cell_type": "code",
   "execution_count": 6,
   "metadata": {},
   "outputs": [
    {
     "name": "stdout",
     "output_type": "stream",
     "text": [
      "(1394, 49)\n"
     ]
    }
   ],
   "source": [
    "# Load data\n",
    "df = pd.read_csv(os.path.join(os.environ['TRTEDIR'], 'df_pheno.csv'))\n",
    "df.set_index(['bblid', 'scanid'], inplace = True)\n",
    "print(df.shape)"
   ]
  },
  {
   "cell_type": "code",
   "execution_count": 7,
   "metadata": {},
   "outputs": [
    {
     "name": "stdout",
     "output_type": "stream",
     "text": [
      "(1394, 801)\n"
     ]
    }
   ],
   "source": [
    "# output dataframe\n",
    "ct_labels = ['ct_' + str(i) for i in range(num_parcels)]\n",
    "vol_labels = ['vol_' + str(i) for i in range(num_parcels)]\n",
    "\n",
    "df_node = pd.DataFrame(index = df.index, columns = ct_labels + vol_labels)\n",
    "df_node.insert(0, train_test_str, df[train_test_str])\n",
    "\n",
    "print(df_node.shape)"
   ]
  },
  {
   "cell_type": "markdown",
   "metadata": {},
   "source": [
    "## Load in cortical thickness"
   ]
  },
  {
   "cell_type": "code",
   "execution_count": 8,
   "metadata": {},
   "outputs": [
    {
     "name": "stdout",
     "output_type": "stream",
     "text": [
      "['/Users/lindenmp/Dropbox/Work/ResData/PNC/processedData/antsCorticalThickness/80961/20091119x2632/ct_schaefer400_17.txt']\n"
     ]
    }
   ],
   "source": [
    "CT = np.zeros((df.shape[0], num_parcels))\n",
    "\n",
    "for (i, (index, row)) in enumerate(df.iterrows()):\n",
    "    file_name = os.environ['CT_NAME_TMP'].replace(\"bblid\", str(index[0]))\n",
    "    file_name = file_name.replace(\"scanid\", str(index[1]))\n",
    "    full_path = glob.glob(os.path.join(os.environ['CTDIR'], file_name))\n",
    "    if i == 0: print(full_path)    \n",
    "\n",
    "    ct = np.loadtxt(full_path[0])\n",
    "    CT[i,:] = ct\n",
    "    \n",
    "df_node.loc[:,ct_labels] = CT"
   ]
  },
  {
   "cell_type": "markdown",
   "metadata": {},
   "source": [
    "## Load in cortical volume"
   ]
  },
  {
   "cell_type": "code",
   "execution_count": 9,
   "metadata": {},
   "outputs": [],
   "source": [
    "# subject filter\n",
    "subj_filt = np.zeros((df.shape[0],)).astype(bool)"
   ]
  },
  {
   "cell_type": "code",
   "execution_count": 10,
   "metadata": {},
   "outputs": [
    {
     "name": "stdout",
     "output_type": "stream",
     "text": [
      "['/Users/lindenmp/Dropbox/Work/ResData/PNC/processedData/gm_vol_masks_native/80961/20091119x2632/Schaefer2018_400_17Networks_native_gm.nii.gz']\n",
      "(80265, 3145). Warning: not all parcels present\n"
     ]
    }
   ],
   "source": [
    "VOL = np.zeros((df.shape[0], num_parcels))\n",
    "\n",
    "for (i, (index, row)) in enumerate(df.iterrows()):\n",
    "    file_name = os.environ['VOL_NAME_TMP'].replace(\"bblid\", str(index[0]))\n",
    "    file_name = file_name.replace(\"scanid\", str(index[1]))\n",
    "    full_path = glob.glob(os.path.join(os.environ['VOLDIR'], file_name))\n",
    "    if i == 0: print(full_path)    \n",
    "    \n",
    "    img = nib.load(full_path[0])\n",
    "    v = np.array(img.dataobj)\n",
    "    v = v[v != 0]\n",
    "    unique_elements, counts_elements = np.unique(v, return_counts=True)\n",
    "    if len(unique_elements) == num_parcels:\n",
    "        VOL[i,:] = counts_elements\n",
    "    else:\n",
    "        print(str(index) + '. Warning: not all parcels present')\n",
    "        subj_filt[i] = True\n",
    "    \n",
    "df_node.loc[:,vol_labels] = VOL"
   ]
  },
  {
   "cell_type": "code",
   "execution_count": 11,
   "metadata": {},
   "outputs": [
    {
     "data": {
      "text/plain": [
       "1"
      ]
     },
     "execution_count": 11,
     "metadata": {},
     "output_type": "execute_result"
    }
   ],
   "source": [
    "np.sum(subj_filt)"
   ]
  },
  {
   "cell_type": "code",
   "execution_count": 12,
   "metadata": {},
   "outputs": [],
   "source": [
    "if any(subj_filt):\n",
    "    df = df.loc[~subj_filt]\n",
    "    df_node = df_node.loc[~subj_filt]"
   ]
  },
  {
   "cell_type": "markdown",
   "metadata": {},
   "source": [
    "## Save out"
   ]
  },
  {
   "cell_type": "code",
   "execution_count": 13,
   "metadata": {},
   "outputs": [
    {
     "data": {
      "text/plain": [
       "'/Users/lindenmp/Dropbox/Work/ResProjects/NormativeNeuroDev_CrossSec_T1/analysis/normative/t1Exclude/squeakycleanExclude/schaefer_400'"
      ]
     },
     "execution_count": 13,
     "metadata": {},
     "output_type": "execute_result"
    }
   ],
   "source": [
    "os.environ['MODELDIR']"
   ]
  },
  {
   "cell_type": "code",
   "execution_count": 14,
   "metadata": {},
   "outputs": [],
   "source": [
    "# Save out\n",
    "df_node.to_csv(os.path.join(os.environ['MODELDIR'], 'df_node_base.csv'))\n",
    "df.to_csv(os.path.join(os.environ['MODELDIR'], 'df_pheno.csv'))"
   ]
  }
 ],
 "metadata": {
  "kernelspec": {
   "display_name": "Python 3",
   "language": "python",
   "name": "python3"
  },
  "language_info": {
   "codemirror_mode": {
    "name": "ipython",
    "version": 3
   },
   "file_extension": ".py",
   "mimetype": "text/x-python",
   "name": "python",
   "nbconvert_exporter": "python",
   "pygments_lexer": "ipython3",
   "version": "3.7.6"
  }
 },
 "nbformat": 4,
 "nbformat_minor": 4
}
