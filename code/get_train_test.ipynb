{
 "cells": [
  {
   "cell_type": "markdown",
   "metadata": {},
   "source": [
    "# Preamble"
   ]
  },
  {
   "cell_type": "code",
   "execution_count": 1,
   "metadata": {},
   "outputs": [],
   "source": [
    "# Essentials\n",
    "import os, sys, glob\n",
    "import pandas as pd\n",
    "import numpy as np\n",
    "import nibabel as nib\n",
    "\n",
    "# Stats\n",
    "import scipy as sp\n",
    "from scipy import stats\n",
    "import statsmodels.api as sm\n",
    "import pingouin as pg\n",
    "\n",
    "# Plotting\n",
    "import seaborn as sns\n",
    "import matplotlib.pyplot as plt\n",
    "plt.rcParams['svg.fonttype'] = 'none'"
   ]
  },
  {
   "cell_type": "code",
   "execution_count": 2,
   "metadata": {},
   "outputs": [],
   "source": [
    "sys.path.append('/Users/lindenmp/Dropbox/Work/ResProjects/NormativeNeuroDev_CrossSec_T1/code/func/')\n",
    "from proj_environment import set_proj_env\n",
    "from func import get_cmap"
   ]
  },
  {
   "cell_type": "code",
   "execution_count": 3,
   "metadata": {},
   "outputs": [],
   "source": [
    "train_test_str = 'squeakycleanExclude'\n",
    "exclude_str = 't1Exclude' # 't1Exclude' 'fsFinalExclude'\n",
    "parc_str = 'schaefer' # 'schaefer' 'lausanne'\n",
    "parc_scale = 400 # 200 400 | 60 125\n",
    "_ = set_proj_env(train_test_str = train_test_str, exclude_str = exclude_str, parc_str = parc_str, parc_scale = parc_scale)"
   ]
  },
  {
   "cell_type": "markdown",
   "metadata": {},
   "source": [
    "### Setup output directory"
   ]
  },
  {
   "cell_type": "code",
   "execution_count": 4,
   "metadata": {},
   "outputs": [
    {
     "name": "stdout",
     "output_type": "stream",
     "text": [
      "/Users/lindenmp/Dropbox/Work/ResProjects/NormativeNeuroDev_CrossSec_T1/analysis/normative/t1Exclude/squeakycleanExclude\n"
     ]
    }
   ],
   "source": [
    "print(os.environ['TRTEDIR'])\n",
    "if not os.path.exists(os.environ['TRTEDIR']): os.makedirs(os.environ['TRTEDIR'])"
   ]
  },
  {
   "cell_type": "markdown",
   "metadata": {},
   "source": [
    "# Load in metadata"
   ]
  },
  {
   "cell_type": "code",
   "execution_count": 5,
   "metadata": {},
   "outputs": [
    {
     "name": "stdout",
     "output_type": "stream",
     "text": [
      "1599\n"
     ]
    }
   ],
   "source": [
    "# LTN and Health Status\n",
    "health = pd.read_csv(os.path.join(os.environ['DERIVSDIR'], 'pncDataFreeze20170905/n1601_dataFreeze/health/n1601_health_20170421.csv'))\n",
    "# Protocol\n",
    "prot = pd.read_csv(os.path.join(os.environ['DERIVSDIR'], 'pncDataFreeze20170905/n1601_dataFreeze/neuroimaging/n1601_pnc_protocol_validation_params_status_20161220.csv'))\n",
    "# T1 QA\n",
    "t1_qa = pd.read_csv(os.path.join(os.environ['DERIVSDIR'], 'pncDataFreeze20170905/n1601_dataFreeze/neuroimaging/t1struct/n1601_t1QaData_20170306.csv'))\n",
    "# DTI QA\n",
    "dti_qa = pd.read_csv(os.path.join(os.environ['DERIVSDIR'], 'pncDataFreeze20170905/n1601_dataFreeze/neuroimaging/dti/n1601_dti_qa_20170301.csv'))\n",
    "# Rest QA\n",
    "rest_qa = pd.read_csv(os.path.join(os.environ['DERIVSDIR'], 'pncDataFreeze20170905/n1601_dataFreeze/neuroimaging/rest/n1601_RestQAData_20170714.csv'))\n",
    "# Demographics\n",
    "demog = pd.read_csv(os.path.join(os.environ['DERIVSDIR'], 'pncDataFreeze20170905/n1601_dataFreeze/demographics/n1601_demographics_go1_20161212.csv'))\n",
    "# Brain volume\n",
    "brain_vol = pd.read_csv(os.path.join(os.environ['DERIVSDIR'], 'pncDataFreeze20170905/n1601_dataFreeze/neuroimaging/t1struct/n1601_ctVol20170412.csv'))\n",
    "\n",
    "# GOASSESS Bifactor scores\n",
    "goassess = pd.read_csv('/Users/lindenmp/Dropbox/Work/ResData/PNC/GO1_clinical_factor_scores_psychosis_split_BIFACTOR.csv')\n",
    "# Psych summary\n",
    "psych = pd.read_csv(os.path.join(os.environ['DERIVSDIR'], 'pncDataFreeze20170905/n1601_dataFreeze/clinical/n1601_goassess_psych_summary_vars_20131014.csv'))\n",
    "\n",
    "\n",
    "# merge\n",
    "df = health\n",
    "df = pd.merge(df, prot, on=['scanid', 'bblid']) # prot\n",
    "df = pd.merge(df, t1_qa, on=['scanid', 'bblid']) # t1_qa\n",
    "df = pd.merge(df, dti_qa, on=['scanid', 'bblid']) # dti_qa\n",
    "df = pd.merge(df, rest_qa, on=['scanid', 'bblid']) # rest_qa\n",
    "df = pd.merge(df, demog, on=['scanid', 'bblid']) # demog\n",
    "df = pd.merge(df, goassess, on=['bblid']) # goassess\n",
    "df = pd.merge(df, psych, on=['scanid', 'bblid']) # goassess\n",
    "df = pd.merge(df, brain_vol, on=['scanid', 'bblid']) # brain_vol\n",
    "\n",
    "print(df.shape[0])\n",
    "df.set_index(['bblid', 'scanid'], inplace = True)"
   ]
  },
  {
   "cell_type": "code",
   "execution_count": 6,
   "metadata": {},
   "outputs": [],
   "source": [
    "# Convert age to years\n",
    "df['ageAtScan1_Years'] = np.round(df.ageAtScan1/12, decimals=1)"
   ]
  },
  {
   "cell_type": "code",
   "execution_count": 7,
   "metadata": {},
   "outputs": [
    {
     "data": {
      "text/html": [
       "<div>\n",
       "<style scoped>\n",
       "    .dataframe tbody tr th:only-of-type {\n",
       "        vertical-align: middle;\n",
       "    }\n",
       "\n",
       "    .dataframe tbody tr th {\n",
       "        vertical-align: top;\n",
       "    }\n",
       "\n",
       "    .dataframe thead th {\n",
       "        text-align: right;\n",
       "    }\n",
       "</style>\n",
       "<table border=\"1\" class=\"dataframe\">\n",
       "  <thead>\n",
       "    <tr style=\"text-align: right;\">\n",
       "      <th></th>\n",
       "      <th></th>\n",
       "      <th>timepoint_x</th>\n",
       "      <th>smrytrt_psychinpt</th>\n",
       "      <th>psychoactiveMedPsychv2</th>\n",
       "      <th>psychoactiveMedMedicalv2</th>\n",
       "      <th>incidentalFindingExclude</th>\n",
       "      <th>medicalratingExcludev1</th>\n",
       "      <th>healthExcludev2</th>\n",
       "      <th>ltnExcludev2</th>\n",
       "      <th>squeakycleanExclude</th>\n",
       "      <th>psychoactiveMedMedical</th>\n",
       "      <th>...</th>\n",
       "      <th>goassessSmryPrimePos2</th>\n",
       "      <th>goassessSmryPsychOverallRtg</th>\n",
       "      <th>mprage_antsCT_vol_CSF</th>\n",
       "      <th>mprage_antsCT_vol_GrayMatter</th>\n",
       "      <th>mprage_antsCT_vol_WhiteMatter</th>\n",
       "      <th>mprage_antsCT_vol_DeepGrayMatter</th>\n",
       "      <th>mprage_antsCT_vol_BrainStem</th>\n",
       "      <th>mprage_antsCT_vol_Cerebellum</th>\n",
       "      <th>mprage_antsCT_vol_TBV</th>\n",
       "      <th>ageAtScan1_Years</th>\n",
       "    </tr>\n",
       "    <tr>\n",
       "      <th>bblid</th>\n",
       "      <th>scanid</th>\n",
       "      <th></th>\n",
       "      <th></th>\n",
       "      <th></th>\n",
       "      <th></th>\n",
       "      <th></th>\n",
       "      <th></th>\n",
       "      <th></th>\n",
       "      <th></th>\n",
       "      <th></th>\n",
       "      <th></th>\n",
       "      <th></th>\n",
       "      <th></th>\n",
       "      <th></th>\n",
       "      <th></th>\n",
       "      <th></th>\n",
       "      <th></th>\n",
       "      <th></th>\n",
       "      <th></th>\n",
       "      <th></th>\n",
       "      <th></th>\n",
       "      <th></th>\n",
       "    </tr>\n",
       "  </thead>\n",
       "  <tbody>\n",
       "    <tr>\n",
       "      <th>80961</th>\n",
       "      <th>2632</th>\n",
       "      <td>1</td>\n",
       "      <td>0</td>\n",
       "      <td>1</td>\n",
       "      <td>0</td>\n",
       "      <td>0</td>\n",
       "      <td>0</td>\n",
       "      <td>0</td>\n",
       "      <td>1</td>\n",
       "      <td>1</td>\n",
       "      <td>0</td>\n",
       "      <td>...</td>\n",
       "      <td>1</td>\n",
       "      <td>4</td>\n",
       "      <td>251420.729266</td>\n",
       "      <td>616556.953530</td>\n",
       "      <td>389490.709524</td>\n",
       "      <td>52141.098450</td>\n",
       "      <td>17099.116230</td>\n",
       "      <td>140667.147488</td>\n",
       "      <td>1.467376e+06</td>\n",
       "      <td>21.6</td>\n",
       "    </tr>\n",
       "    <tr>\n",
       "      <th>80199</th>\n",
       "      <th>2637</th>\n",
       "      <td>1</td>\n",
       "      <td>0</td>\n",
       "      <td>0</td>\n",
       "      <td>0</td>\n",
       "      <td>0</td>\n",
       "      <td>0</td>\n",
       "      <td>0</td>\n",
       "      <td>0</td>\n",
       "      <td>0</td>\n",
       "      <td>0</td>\n",
       "      <td>...</td>\n",
       "      <td>0</td>\n",
       "      <td>2</td>\n",
       "      <td>273991.914252</td>\n",
       "      <td>642746.594518</td>\n",
       "      <td>447142.548594</td>\n",
       "      <td>56126.058254</td>\n",
       "      <td>19814.056864</td>\n",
       "      <td>150808.843822</td>\n",
       "      <td>1.590630e+06</td>\n",
       "      <td>20.3</td>\n",
       "    </tr>\n",
       "    <tr>\n",
       "      <th>80179</th>\n",
       "      <th>2643</th>\n",
       "      <td>1</td>\n",
       "      <td>1</td>\n",
       "      <td>1</td>\n",
       "      <td>0</td>\n",
       "      <td>0</td>\n",
       "      <td>0</td>\n",
       "      <td>0</td>\n",
       "      <td>1</td>\n",
       "      <td>1</td>\n",
       "      <td>0</td>\n",
       "      <td>...</td>\n",
       "      <td>0</td>\n",
       "      <td>2</td>\n",
       "      <td>234354.132558</td>\n",
       "      <td>524247.214162</td>\n",
       "      <td>360616.889612</td>\n",
       "      <td>38010.047782</td>\n",
       "      <td>16670.210102</td>\n",
       "      <td>136221.640940</td>\n",
       "      <td>1.310120e+06</td>\n",
       "      <td>21.2</td>\n",
       "    </tr>\n",
       "    <tr>\n",
       "      <th>81005</th>\n",
       "      <th>2644</th>\n",
       "      <td>1</td>\n",
       "      <td>0</td>\n",
       "      <td>0</td>\n",
       "      <td>0</td>\n",
       "      <td>0</td>\n",
       "      <td>1</td>\n",
       "      <td>1</td>\n",
       "      <td>1</td>\n",
       "      <td>1</td>\n",
       "      <td>0</td>\n",
       "      <td>...</td>\n",
       "      <td>0</td>\n",
       "      <td>1</td>\n",
       "      <td>284533.512816</td>\n",
       "      <td>607386.448326</td>\n",
       "      <td>361763.861942</td>\n",
       "      <td>46560.045350</td>\n",
       "      <td>16218.452418</td>\n",
       "      <td>138964.706566</td>\n",
       "      <td>1.455427e+06</td>\n",
       "      <td>20.1</td>\n",
       "    </tr>\n",
       "    <tr>\n",
       "      <th>80812</th>\n",
       "      <th>2646</th>\n",
       "      <td>1</td>\n",
       "      <td>0</td>\n",
       "      <td>0</td>\n",
       "      <td>0</td>\n",
       "      <td>0</td>\n",
       "      <td>0</td>\n",
       "      <td>0</td>\n",
       "      <td>0</td>\n",
       "      <td>1</td>\n",
       "      <td>0</td>\n",
       "      <td>...</td>\n",
       "      <td>1</td>\n",
       "      <td>4</td>\n",
       "      <td>254232.349560</td>\n",
       "      <td>605785.081594</td>\n",
       "      <td>471565.588522</td>\n",
       "      <td>46874.693698</td>\n",
       "      <td>20525.091818</td>\n",
       "      <td>141902.010418</td>\n",
       "      <td>1.540885e+06</td>\n",
       "      <td>20.6</td>\n",
       "    </tr>\n",
       "  </tbody>\n",
       "</table>\n",
       "<p>5 rows × 207 columns</p>\n",
       "</div>"
      ],
      "text/plain": [
       "              timepoint_x  smrytrt_psychinpt  psychoactiveMedPsychv2  \\\n",
       "bblid scanid                                                           \n",
       "80961 2632              1                  0                       1   \n",
       "80199 2637              1                  0                       0   \n",
       "80179 2643              1                  1                       1   \n",
       "81005 2644              1                  0                       0   \n",
       "80812 2646              1                  0                       0   \n",
       "\n",
       "              psychoactiveMedMedicalv2  incidentalFindingExclude  \\\n",
       "bblid scanid                                                       \n",
       "80961 2632                           0                         0   \n",
       "80199 2637                           0                         0   \n",
       "80179 2643                           0                         0   \n",
       "81005 2644                           0                         0   \n",
       "80812 2646                           0                         0   \n",
       "\n",
       "              medicalratingExcludev1  healthExcludev2  ltnExcludev2  \\\n",
       "bblid scanid                                                          \n",
       "80961 2632                         0                0             1   \n",
       "80199 2637                         0                0             0   \n",
       "80179 2643                         0                0             1   \n",
       "81005 2644                         1                1             1   \n",
       "80812 2646                         0                0             0   \n",
       "\n",
       "              squeakycleanExclude  psychoactiveMedMedical  ...  \\\n",
       "bblid scanid                                               ...   \n",
       "80961 2632                      1                       0  ...   \n",
       "80199 2637                      0                       0  ...   \n",
       "80179 2643                      1                       0  ...   \n",
       "81005 2644                      1                       0  ...   \n",
       "80812 2646                      1                       0  ...   \n",
       "\n",
       "              goassessSmryPrimePos2  goassessSmryPsychOverallRtg  \\\n",
       "bblid scanid                                                       \n",
       "80961 2632                        1                            4   \n",
       "80199 2637                        0                            2   \n",
       "80179 2643                        0                            2   \n",
       "81005 2644                        0                            1   \n",
       "80812 2646                        1                            4   \n",
       "\n",
       "              mprage_antsCT_vol_CSF  mprage_antsCT_vol_GrayMatter  \\\n",
       "bblid scanid                                                        \n",
       "80961 2632            251420.729266                 616556.953530   \n",
       "80199 2637            273991.914252                 642746.594518   \n",
       "80179 2643            234354.132558                 524247.214162   \n",
       "81005 2644            284533.512816                 607386.448326   \n",
       "80812 2646            254232.349560                 605785.081594   \n",
       "\n",
       "              mprage_antsCT_vol_WhiteMatter  mprage_antsCT_vol_DeepGrayMatter  \\\n",
       "bblid scanid                                                                    \n",
       "80961 2632                    389490.709524                      52141.098450   \n",
       "80199 2637                    447142.548594                      56126.058254   \n",
       "80179 2643                    360616.889612                      38010.047782   \n",
       "81005 2644                    361763.861942                      46560.045350   \n",
       "80812 2646                    471565.588522                      46874.693698   \n",
       "\n",
       "              mprage_antsCT_vol_BrainStem  mprage_antsCT_vol_Cerebellum  \\\n",
       "bblid scanid                                                              \n",
       "80961 2632                   17099.116230                 140667.147488   \n",
       "80199 2637                   19814.056864                 150808.843822   \n",
       "80179 2643                   16670.210102                 136221.640940   \n",
       "81005 2644                   16218.452418                 138964.706566   \n",
       "80812 2646                   20525.091818                 141902.010418   \n",
       "\n",
       "              mprage_antsCT_vol_TBV  ageAtScan1_Years  \n",
       "bblid scanid                                           \n",
       "80961 2632             1.467376e+06              21.6  \n",
       "80199 2637             1.590630e+06              20.3  \n",
       "80179 2643             1.310120e+06              21.2  \n",
       "81005 2644             1.455427e+06              20.1  \n",
       "80812 2646             1.540885e+06              20.6  \n",
       "\n",
       "[5 rows x 207 columns]"
      ]
     },
     "execution_count": 7,
     "metadata": {},
     "output_type": "execute_result"
    }
   ],
   "source": [
    "df.head()"
   ]
  },
  {
   "cell_type": "markdown",
   "metadata": {},
   "source": [
    "# Filter subjects"
   ]
  },
  {
   "cell_type": "code",
   "execution_count": 8,
   "metadata": {},
   "outputs": [
    {
     "name": "stdout",
     "output_type": "stream",
     "text": [
      "N after initial exclusion: 1445\n",
      "N after T1 exclusion: 1394\n"
     ]
    }
   ],
   "source": [
    "# 1) Primary sample filter\n",
    "df = df[df['healthExcludev2'] == 0]\n",
    "print('N after initial exclusion:', df.shape[0])\n",
    "\n",
    "# 2) T1 exclusion\n",
    "df = df[df[exclude_str] == 0]\n",
    "print('N after T1 exclusion:', df.shape[0])"
   ]
  },
  {
   "cell_type": "code",
   "execution_count": 9,
   "metadata": {},
   "outputs": [
    {
     "data": {
      "text/plain": [
       "array([2.   , 1.667, 1.333, 1.   ])"
      ]
     },
     "execution_count": 9,
     "metadata": {},
     "output_type": "execute_result"
    }
   ],
   "source": [
    "df['averageManualRating'].unique()"
   ]
  },
  {
   "cell_type": "code",
   "execution_count": 10,
   "metadata": {},
   "outputs": [
    {
     "data": {
      "text/plain": [
       "1155"
      ]
     },
     "execution_count": 10,
     "metadata": {},
     "output_type": "execute_result"
    }
   ],
   "source": [
    "np.sum(df['averageManualRating'] == 2)"
   ]
  },
  {
   "cell_type": "markdown",
   "metadata": {},
   "source": [
    "# Define train/test split"
   ]
  },
  {
   "cell_type": "code",
   "execution_count": 11,
   "metadata": {},
   "outputs": [
    {
     "name": "stdout",
     "output_type": "stream",
     "text": [
      "Train:  410 Test: 984\n"
     ]
    }
   ],
   "source": [
    "if train_test_str == 'squeakycleanExclude':\n",
    "    # 1) Use squeakycleanExclude\n",
    "    # For PNC, the train/test split is based upon the 'squeakycleanExclude' criteria. From the wiki:\n",
    "    # \"This category excludes all subjects with any screening diagnosis as found by the GOASSESS clinical screening instrument.\n",
    "    # Note that this is NOT a commonly used criteria except for sensitivity analysis, and in general we would prefer to not\n",
    "    # have studies use this without a strong rationale; would discuss with your BBL liaison.\"\n",
    "    # train = squeakycleanExclude == 0 --> retain those WITHOUT any lifetime psychopathology \n",
    "    # test = squeakycleanExclude == 1 --> retain those WITH lifetime psychopathology\n",
    "    print('Train: ', np.sum(df[train_test_str] == 0), 'Test:', np.sum(df[train_test_str] == 1))"
   ]
  },
  {
   "cell_type": "markdown",
   "metadata": {},
   "source": [
    "# Characterise train/test split"
   ]
  },
  {
   "cell_type": "markdown",
   "metadata": {},
   "source": [
    "## Train/Test split"
   ]
  },
  {
   "cell_type": "code",
   "execution_count": 12,
   "metadata": {},
   "outputs": [
    {
     "name": "stdout",
     "output_type": "stream",
     "text": [
      "There are 149 unique age points\n",
      "All unique age points are represented in the training set\n",
      "All unique age points are represented in the testing set\n"
     ]
    }
   ],
   "source": [
    "# find unique ages\n",
    "age_unique = np.unique(df.ageAtScan1_Years)\n",
    "print('There are', age_unique.shape[0], 'unique age points')\n",
    "\n",
    "# Check if train and test represent the full unique age space\n",
    "train_diff = np.setdiff1d(df[df[train_test_str] == 0].ageAtScan1_Years,age_unique)\n",
    "test_diff = np.setdiff1d(df[df[train_test_str] == 1].ageAtScan1_Years,age_unique)\n",
    "\n",
    "if train_diff.size == 0:\n",
    "    print('All unique age points are represented in the training set')\n",
    "elif train_diff.size != 0:\n",
    "    print('All unique age points ARE NOT represented in the training set')\n",
    "    \n",
    "if test_diff.size == 0:\n",
    "    print('All unique age points are represented in the testing set')\n",
    "elif test_diff.size != 0:\n",
    "    print('All unique age points ARE NOT represented in the testing set')"
   ]
  },
  {
   "cell_type": "markdown",
   "metadata": {},
   "source": [
    "## Export"
   ]
  },
  {
   "cell_type": "code",
   "execution_count": 13,
   "metadata": {},
   "outputs": [],
   "source": [
    "header = [train_test_str, 'ageAtScan1', 'ageAtScan1_Years','sex','race2','handednessv2',\n",
    "          'dti64MeanAbsRMS','dti64MeanRelRMS','dti64MaxAbsRMS','dti64MaxRelRMS','mprage_antsCT_vol_TBV', 'averageManualRating',\n",
    "          'Overall_Psychopathology','Psychosis_Positive','Psychosis_NegativeDisorg','AnxiousMisery','Externalizing','Fear',\n",
    "          'goassessSmryMood', 'goassessSmryMan', 'goassessSmryDep', 'goassessSmryEat', 'goassessSmryBul',\n",
    "          'goassessSmryAno', 'goassessSmryAnx', 'goassessSmryGad', 'goassessSmrySep', 'goassessSmryPhb', 'goassessSmrySoc',\n",
    "          'goassessSmryPan', 'goassessSmryAgr', 'goassessSmryOcd', 'goassessSmryPtd', 'goassessSmryPsy', 'goassessSmryDel',\n",
    "          'goassessSmryHal', 'goassessSmryHalAv', 'goassessSmryHalAs', 'goassessSmryHalVh', 'goassessSmryHalOh', 'goassessSmryHalTh',\n",
    "          'goassessSmryBeh', 'goassessSmryAdd', 'goassessSmryOdd', 'goassessSmryCon', 'goassessSmryPrimePos1', 'goassessSmryPrimeTot',\n",
    "          'goassessSmryPrimePos2', 'goassessSmryPsychOverallRtg']\n",
    "df.to_csv(os.path.join(os.environ['TRTEDIR'], 'df_pheno.csv'), columns = header)"
   ]
  },
  {
   "cell_type": "markdown",
   "metadata": {},
   "source": [
    "# Plots"
   ]
  },
  {
   "cell_type": "code",
   "execution_count": 14,
   "metadata": {},
   "outputs": [
    {
     "name": "stdout",
     "output_type": "stream",
     "text": [
      "['Overall_Psychopathology', 'Psychosis_Positive', 'Psychosis_NegativeDisorg', 'AnxiousMisery', 'Externalizing', 'Fear']\n"
     ]
    }
   ],
   "source": [
    "if not os.path.exists(os.environ['FIGDIR']): os.makedirs(os.environ['FIGDIR'])\n",
    "os.chdir(os.environ['FIGDIR'])\n",
    "sns.set(style='white', context = 'paper', font_scale = 1)\n",
    "cmap = get_cmap('pair')\n",
    "\n",
    "labels = ['Train', 'Test']\n",
    "phenos = ['Overall_Psychopathology','Psychosis_Positive','Psychosis_NegativeDisorg','AnxiousMisery','Externalizing','Fear']\n",
    "phenos_label_short = ['Ov. Psych.', 'Psy. (pos.)', 'Psy. (neg.)', 'Anx.-mis.', 'Ext.', 'Fear']\n",
    "phenos_label = ['Overall Psychopathology','Psychosis (Positive)','Psychosis (Negative)','Anxious-Misery','Externalizing','Fear']\n",
    "print(phenos)"
   ]
  },
  {
   "cell_type": "markdown",
   "metadata": {},
   "source": [
    "## Age"
   ]
  },
  {
   "cell_type": "code",
   "execution_count": 15,
   "metadata": {},
   "outputs": [
    {
     "data": {
      "text/plain": [
       "array([1, 2])"
      ]
     },
     "execution_count": 15,
     "metadata": {},
     "output_type": "execute_result"
    }
   ],
   "source": [
    "df['sex'].unique()"
   ]
  },
  {
   "cell_type": "code",
   "execution_count": 16,
   "metadata": {},
   "outputs": [
    {
     "data": {
      "text/plain": [
       "531"
      ]
     },
     "execution_count": 16,
     "metadata": {},
     "output_type": "execute_result"
    }
   ],
   "source": [
    "np.sum(df.loc[df[train_test_str] == 1,'sex'] == 2)"
   ]
  },
  {
   "cell_type": "markdown",
   "metadata": {},
   "source": [
    "Figure 2A"
   ]
  },
  {
   "cell_type": "code",
   "execution_count": 17,
   "metadata": {},
   "outputs": [
    {
     "data": {
      "image/png": "[encoded data removed]",
      "text/plain": [
       "<Figure size 468x180 with 2 Axes>"
      ]
     },
     "metadata": {},
     "output_type": "display_data"
    }
   ],
   "source": [
    "f, axes = plt.subplots(1,2)\n",
    "f.set_figwidth(6.5)\n",
    "f.set_figheight(2.5)\n",
    "colormap = sns.color_palette(\"pastel\", 2)\n",
    "\n",
    "sns.distplot(df.loc[df[train_test_str] == 0,'ageAtScan1_Years'], bins=20, hist=True, kde=False, rug=False, label = labels[0],\n",
    "             hist_kws={\"histtype\": \"step\", \"linewidth\": 2, \"alpha\": 1}, color=list(cmap[0]), ax = axes[0]);\n",
    "sns.distplot(df.loc[df[train_test_str] == 1,'ageAtScan1_Years'], bins=20, hist=True, kde=False, rug=False, label = labels[1],\n",
    "             hist_kws={\"histtype\": \"step\", \"linewidth\": 2, \"alpha\": 1}, color=list(cmap[1]), ax = axes[0]);\n",
    "axes[0].set_xlabel('Age (years)');\n",
    "axes[0].set_ylabel('Number of participants');\n",
    "axes[0].set_xticks(np.arange(np.min(np.round(age_unique,0)), np.max(np.round(age_unique,0)), 2))\n",
    "\n",
    "# set width of bar\n",
    "barWidth = 0.25\n",
    "\n",
    "# Sex\n",
    "y_train = [np.sum(df.loc[df[train_test_str] == 0,'sex'] == 1), np.sum(df.loc[df[train_test_str] == 0,'sex'] == 2)]\n",
    "y_test = [np.sum(df.loc[df[train_test_str] == 1,'sex'] == 1), np.sum(df.loc[df[train_test_str] == 1,'sex'] == 2)]\n",
    "r1 = np.arange(len(y_train))+barWidth/2\n",
    "r2 = [x + barWidth for x in r1]\n",
    "axes[1].bar(r1, y_train, width = barWidth, color = cmap[0], label = labels[0])\n",
    "axes[1].bar(r2, y_test, width = barWidth, color = cmap[1], label = labels[1])\n",
    "axes[1].set_xlabel('Sex')\n",
    "# axes[1].set_ylabel('Number of participants')\n",
    "axes[1].set_xticks([r + barWidth for r in range(len(y_train))])\n",
    "axes[1].set_xticklabels(['Male', 'Female'])\n",
    "\n",
    "f.savefig('age_distributions.svg', dpi = 300, bbox_inches = 'tight', pad_inches = 0)"
   ]
  },
  {
   "cell_type": "markdown",
   "metadata": {},
   "source": [
    "## Phenotype distributions over train/test"
   ]
  },
  {
   "cell_type": "markdown",
   "metadata": {},
   "source": [
    "Figure 2B"
   ]
  },
  {
   "cell_type": "code",
   "execution_count": 18,
   "metadata": {},
   "outputs": [
    {
     "data": {
      "image/png": "[encoded data removed]",
      "text/plain": [
       "<Figure size 180x288 with 1 Axes>"
      ]
     },
     "metadata": {},
     "output_type": "display_data"
    }
   ],
   "source": [
    "df_rc = pd.melt(df, id_vars = train_test_str, value_vars = phenos)\n",
    "\n",
    "f, ax = plt.subplots()\n",
    "f.set_figwidth(2.5)\n",
    "f.set_figheight(4)\n",
    "ax = sns.violinplot(y='variable', x='value', hue=train_test_str, data=df_rc, palette = cmap, split=True, scale='width', inner = 'quartile', orient = 'h')\n",
    "ax.get_legend().remove()\n",
    "ax.set_yticklabels(phenos_label_short)\n",
    "ax.set_ylabel('Psychopathology phenotypes')\n",
    "ax.set_xlabel('Phenotype score')\n",
    "f.savefig('phenos_distributions.svg', dpi = 300, bbox_inches = 'tight', pad_inches = 0)"
   ]
  }
 ],
 "metadata": {
  "kernelspec": {
   "display_name": "Python 3",
   "language": "python",
   "name": "python3"
  },
  "language_info": {
   "codemirror_mode": {
    "name": "ipython",
    "version": 3
   },
   "file_extension": ".py",
   "mimetype": "text/x-python",
   "name": "python",
   "nbconvert_exporter": "python",
   "pygments_lexer": "ipython3",
   "version": "3.7.6"
  }
 },
 "nbformat": 4,
 "nbformat_minor": 4
}
