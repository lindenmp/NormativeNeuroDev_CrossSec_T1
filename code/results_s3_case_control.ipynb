{
 "cells": [
  {
   "cell_type": "markdown",
   "metadata": {},
   "source": [
    "# Results, section 3: group analysis of deviations"
   ]
  },
  {
   "cell_type": "code",
   "execution_count": 1,
   "metadata": {},
   "outputs": [
    {
     "name": "stderr",
     "output_type": "stream",
     "text": [
      "/Users/lindenmp/opt/anaconda3/envs/NormativeNeuroDev_CrossSec_T1/lib/python3.7/site-packages/outdated/utils.py:18: OutdatedPackageWarning: The package pingouin is out of date. Your version is 0.3.3, the latest is 0.3.4.\n",
      "Set the environment variable OUTDATED_IGNORE=1 to disable these warnings.\n",
      "  **kwargs\n"
     ]
    }
   ],
   "source": [
    "# Essentials\n",
    "import os, sys, glob\n",
    "import pandas as pd\n",
    "import numpy as np\n",
    "import nibabel as nib\n",
    "\n",
    "# Stats\n",
    "import scipy as sp\n",
    "from scipy import stats\n",
    "import statsmodels.api as sm\n",
    "import pingouin as pg\n",
    "\n",
    "# Plotting\n",
    "import seaborn as sns\n",
    "import matplotlib.pyplot as plt\n",
    "plt.rcParams['svg.fonttype'] = 'none'\n",
    "from mpl_toolkits.axes_grid1 import make_axes_locatable"
   ]
  },
  {
   "cell_type": "code",
   "execution_count": 2,
   "metadata": {},
   "outputs": [],
   "source": [
    "sys.path.append('/Users/lindenmp/Dropbox/Work/ResProjects/NormativeNeuroDev_CrossSec_T1/code/func/')\n",
    "from proj_environment import set_proj_env\n",
    "sys.path.append('/Users/lindenmp/Dropbox/Work/git/pyfunc/')\n",
    "from func import my_get_cmap, run_corr, get_fdr_p, run_pheno_correlations, dependent_corr, get_sys_summary, get_fdr_p_df, get_sys_prop, run_ttest, get_cohend, create_dummy_vars, perc_dev"
   ]
  },
  {
   "cell_type": "code",
   "execution_count": 3,
   "metadata": {},
   "outputs": [],
   "source": [
    "train_test_str = 'squeakycleanExclude'\n",
    "exclude_str = 't1Exclude' # 't1Exclude' 'fsFinalExclude'\n",
    "parc_str = 'schaefer' # 'schaefer' 'lausanne'\n",
    "parc_scale = 400 # 200 400 | 60 125\n",
    "primary_covariate = 'ageAtScan1_Years'\n",
    "extra_str = ''\n",
    "parcel_names, parcel_loc, drop_parcels, num_parcels, yeo_idx, yeo_labels = set_proj_env(train_test_str = train_test_str, exclude_str = exclude_str,\n",
    "                                                                            parc_str = parc_str, parc_scale = parc_scale, extra_str = extra_str)"
   ]
  },
  {
   "cell_type": "code",
   "execution_count": 4,
   "metadata": {},
   "outputs": [
    {
     "data": {
      "text/plain": [
       "'/Users/lindenmp/Dropbox/Work/ResProjects/NormativeNeuroDev_CrossSec_T1/analysis/normative/t1Exclude/squeakycleanExclude/schaefer_400/ageAtScan1_Years+sex_adj'"
      ]
     },
     "execution_count": 4,
     "metadata": {},
     "output_type": "execute_result"
    }
   ],
   "source": [
    "os.environ['NORMATIVEDIR']"
   ]
  },
  {
   "cell_type": "code",
   "execution_count": 5,
   "metadata": {},
   "outputs": [],
   "source": [
    "outdir = os.path.join(os.environ['NORMATIVEDIR'],'analysis_outputs')\n",
    "if not os.path.exists(outdir): os.makedirs(outdir)"
   ]
  },
  {
   "cell_type": "code",
   "execution_count": 6,
   "metadata": {},
   "outputs": [],
   "source": [
    "phenos = ['Overall_Psychopathology','Psychosis_Positive','Psychosis_NegativeDisorg','AnxiousMisery','Externalizing','Fear']\n",
    "phenos_label_short = ['Ov. Psych.', 'Psy. (pos.)', 'Psy. (neg.)', 'Anx.-mis.', 'Ext.', 'Fear']\n",
    "phenos_label = ['Overall Psychopathology','Psychosis (Positive)','Psychosis (Negative)','Anxious-Misery','Externalizing','Fear']\n",
    "metrics = ['ct', 'vol']\n",
    "metrics_label_short = ['Thickness', 'Volume']\n",
    "metrics_label = ['Thickness', 'Volume']\n",
    "method = 'spearman'"
   ]
  },
  {
   "cell_type": "markdown",
   "metadata": {},
   "source": [
    "## Plots"
   ]
  },
  {
   "cell_type": "code",
   "execution_count": 7,
   "metadata": {},
   "outputs": [],
   "source": [
    "if not os.path.exists(os.environ['FIGDIR']): os.makedirs(os.environ['FIGDIR'])\n",
    "os.chdir(os.environ['FIGDIR'])\n",
    "sns.set(style='white', context = 'paper', font_scale = 1)"
   ]
  },
  {
   "cell_type": "markdown",
   "metadata": {},
   "source": [
    "## Load data"
   ]
  },
  {
   "cell_type": "code",
   "execution_count": 8,
   "metadata": {},
   "outputs": [],
   "source": [
    "df = pd.read_csv(os.path.join(outdir,'df.csv')); df.set_index(['bblid', 'scanid'], inplace = True)\n",
    "df_z = pd.read_csv(os.path.join(outdir,'df_z.csv')); df_z.set_index(['bblid', 'scanid'], inplace = True)\n",
    "df_pheno_z = pd.read_csv(os.path.join(outdir,'df_pheno_z.csv')); df_pheno_z.set_index(['pheno', 'variable'], inplace = True)\n",
    "region_filter = pd.read_csv(os.path.join(outdir,'region_filter.csv'), index_col=0); region_filter = region_filter.iloc[:,0].astype(bool)"
   ]
  },
  {
   "cell_type": "markdown",
   "metadata": {},
   "source": [
    "# Group analysis"
   ]
  },
  {
   "cell_type": "markdown",
   "metadata": {},
   "source": [
    "## Create grouping variable"
   ]
  },
  {
   "cell_type": "code",
   "execution_count": 9,
   "metadata": {},
   "outputs": [
    {
     "name": "stdout",
     "output_type": "stream",
     "text": [
      "goassessSmryDep: 192\n",
      "goassessSmryAdd: 229\n",
      "Comorbid N: 48\n",
      "goassessSmryDep: 144\n",
      "goassessSmryAdd: 181\n"
     ]
    }
   ],
   "source": [
    "groups = ('goassessSmryDep', 'goassessSmryAdd')\n",
    "group_idx = create_dummy_vars(df.loc[df.loc[:,train_test_str] == 1,:], groups)"
   ]
  },
  {
   "cell_type": "code",
   "execution_count": 10,
   "metadata": {},
   "outputs": [
    {
     "name": "stdout",
     "output_type": "stream",
     "text": [
      "(1393, 2)\n"
     ]
    }
   ],
   "source": [
    "# pad with zeros to match dimensions with training set\n",
    "zero_pad = np.zeros((np.sum(df[train_test_str] == 0),group_idx.shape[1])).astype(bool)\n",
    "group_idx = np.append(zero_pad, group_idx, axis = 0); print(group_idx.shape)"
   ]
  },
  {
   "cell_type": "markdown",
   "metadata": {},
   "source": [
    "### Demographics"
   ]
  },
  {
   "cell_type": "code",
   "execution_count": 11,
   "metadata": {},
   "outputs": [
    {
     "name": "stdout",
     "output_type": "stream",
     "text": [
      "goassessSmryDep mean age: 17.62 ( 2.28 )\n"
     ]
    }
   ],
   "source": [
    "print(groups[0],\n",
    "      'mean age:', df.loc[group_idx[:,0],primary_covariate].mean().round(2),\n",
    "      '(', df.loc[group_idx[:,0],primary_covariate].std().round(2), ')')"
   ]
  },
  {
   "cell_type": "code",
   "execution_count": 12,
   "metadata": {},
   "outputs": [
    {
     "data": {
      "text/plain": [
       "1    67.361111\n",
       "0    32.638889\n",
       "Name: sex_adj, dtype: float64"
      ]
     },
     "execution_count": 12,
     "metadata": {},
     "output_type": "execute_result"
    }
   ],
   "source": [
    "df.loc[group_idx[:,0],'sex_adj'].value_counts() / np.sum(group_idx[:,0]) * 100"
   ]
  },
  {
   "cell_type": "code",
   "execution_count": 13,
   "metadata": {},
   "outputs": [
    {
     "name": "stdout",
     "output_type": "stream",
     "text": [
      "goassessSmryAdd mean age: 13.62 ( 3.1 )\n"
     ]
    }
   ],
   "source": [
    "print(groups[1],\n",
    "      'mean age:', df.loc[group_idx[:,1],primary_covariate].mean().round(2),\n",
    "      '(', df.loc[group_idx[:,1],primary_covariate].std().round(2), ')')"
   ]
  },
  {
   "cell_type": "code",
   "execution_count": 14,
   "metadata": {},
   "outputs": [
    {
     "data": {
      "text/plain": [
       "0    62.430939\n",
       "1    37.569061\n",
       "Name: sex_adj, dtype: float64"
      ]
     },
     "execution_count": 14,
     "metadata": {},
     "output_type": "execute_result"
    }
   ],
   "source": [
    "df.loc[group_idx[:,1],'sex_adj'].value_counts() / np.sum(group_idx[:,1]) * 100"
   ]
  },
  {
   "cell_type": "code",
   "execution_count": 15,
   "metadata": {},
   "outputs": [
    {
     "data": {
      "text/plain": [
       "Ttest_indResult(statistic=12.96507810159401, pvalue=3.093893726364799e-31)"
      ]
     },
     "execution_count": 15,
     "metadata": {},
     "output_type": "execute_result"
    }
   ],
   "source": [
    "sp.stats.ttest_ind(df.loc[group_idx[:,0],primary_covariate], df.loc[group_idx[:,1],primary_covariate])"
   ]
  },
  {
   "cell_type": "code",
   "execution_count": 16,
   "metadata": {},
   "outputs": [],
   "source": [
    "# get pheno correlations without subjects in the diagnostic groups\n",
    "# note, these correlations are generated prior to regressing out age/sex below to keep them in line with what was done in the primary analyses (results_s2_phenos)\n",
    "# note, in the primary analyses i found that controlling for age/sex in the z scores made no difference to the results which is why it's not included\n",
    "# df_pheno_z_woutgroups = run_pheno_correlations(df.loc[group_idx.sum(axis = 1) == 0,phenos], df_z.loc[group_idx.sum(axis = 1) == 0,:], method = method, assign_p = 'parametric')"
   ]
  },
  {
   "cell_type": "code",
   "execution_count": 17,
   "metadata": {},
   "outputs": [],
   "source": [
    "# df_pheno_z_woutgroups.head()"
   ]
  },
  {
   "cell_type": "markdown",
   "metadata": {},
   "source": [
    "### Regress age/sex out of node features"
   ]
  },
  {
   "cell_type": "code",
   "execution_count": 18,
   "metadata": {},
   "outputs": [],
   "source": [
    "# Given differences in demographics between groups, we regress age/sex from z scores before calculating cohen's D\n",
    "df_nuis = df.loc[:,[primary_covariate,'sex_adj']]\n",
    "df_nuis = sm.add_constant(df_nuis)\n",
    "\n",
    "# df_z\n",
    "cols = df_z.columns\n",
    "mdl = sm.OLS(df_z.loc[:,cols], df_nuis).fit()\n",
    "y_pred = mdl.predict(df_nuis)\n",
    "y_pred.columns = cols\n",
    "df_z_regr = df_z.loc[:,cols] - y_pred"
   ]
  },
  {
   "cell_type": "markdown",
   "metadata": {},
   "source": [
    "## Disorder groups vs. HCs"
   ]
  },
  {
   "cell_type": "code",
   "execution_count": 19,
   "metadata": {},
   "outputs": [
    {
     "name": "stdout",
     "output_type": "stream",
     "text": [
      "goassessSmryDep_ct, significant t-tests: 1.1173184357541899\n",
      "goassessSmryDep_vol, significant t-tests: 2.056555269922879\n",
      "goassessSmryAdd_ct, significant t-tests: 0.27932960893854747\n",
      "goassessSmryAdd_vol, significant t-tests: 1.0282776349614395\n"
     ]
    }
   ],
   "source": [
    "for i, group in enumerate(groups):\n",
    "    i_idx = group_idx[:,i]\n",
    "    for metric in metrics:\n",
    "        df_y = df_z_regr.loc[df[train_test_str] == 0,region_filter].filter(regex = metric, axis = 1)\n",
    "        df_x = df_z_regr.loc[i_idx,region_filter].filter(regex = metric, axis = 1)\n",
    "        df_out = run_ttest(df_x, df_y, tail = 'one')\n",
    "        print(group+'_'+metric + ', significant t-tests:', (np.sum(df_out.loc[:,'p-corr'] < .05) / df_out.shape[0] * 100))"
   ]
  },
  {
   "cell_type": "code",
   "execution_count": 20,
   "metadata": {},
   "outputs": [
    {
     "name": "stdout",
     "output_type": "stream",
     "text": [
      "vol\n"
     ]
    }
   ],
   "source": [
    "metric = metrics[1]; print(metric)"
   ]
  },
  {
   "cell_type": "markdown",
   "metadata": {},
   "source": [
    "### Spatial correlations"
   ]
  },
  {
   "cell_type": "code",
   "execution_count": 21,
   "metadata": {},
   "outputs": [
    {
     "data": {
      "text/html": [
       "<div>\n",
       "<style scoped>\n",
       "    .dataframe tbody tr th:only-of-type {\n",
       "        vertical-align: middle;\n",
       "    }\n",
       "\n",
       "    .dataframe tbody tr th {\n",
       "        vertical-align: top;\n",
       "    }\n",
       "\n",
       "    .dataframe thead th {\n",
       "        text-align: right;\n",
       "    }\n",
       "</style>\n",
       "<table border=\"1\" class=\"dataframe\">\n",
       "  <thead>\n",
       "    <tr style=\"text-align: right;\">\n",
       "      <th></th>\n",
       "      <th>Depression</th>\n",
       "      <th>ADHD</th>\n",
       "    </tr>\n",
       "  </thead>\n",
       "  <tbody>\n",
       "    <tr>\n",
       "      <th>vol_0</th>\n",
       "      <td>-0.100558</td>\n",
       "      <td>-0.120348</td>\n",
       "    </tr>\n",
       "    <tr>\n",
       "      <th>vol_1</th>\n",
       "      <td>-0.166959</td>\n",
       "      <td>-0.205082</td>\n",
       "    </tr>\n",
       "    <tr>\n",
       "      <th>vol_2</th>\n",
       "      <td>-0.164505</td>\n",
       "      <td>-0.037587</td>\n",
       "    </tr>\n",
       "    <tr>\n",
       "      <th>vol_3</th>\n",
       "      <td>-0.170553</td>\n",
       "      <td>-0.175234</td>\n",
       "    </tr>\n",
       "    <tr>\n",
       "      <th>vol_4</th>\n",
       "      <td>-0.110595</td>\n",
       "      <td>-0.168217</td>\n",
       "    </tr>\n",
       "  </tbody>\n",
       "</table>\n",
       "</div>"
      ],
      "text/plain": [
       "       Depression      ADHD\n",
       "vol_0   -0.100558 -0.120348\n",
       "vol_1   -0.166959 -0.205082\n",
       "vol_2   -0.164505 -0.037587\n",
       "vol_3   -0.170553 -0.175234\n",
       "vol_4   -0.110595 -0.168217"
      ]
     },
     "execution_count": 21,
     "metadata": {},
     "output_type": "execute_result"
    }
   ],
   "source": [
    "df_y = df_z_regr.loc[df[train_test_str] == 0,:].filter(regex = metric, axis = 1)\n",
    "\n",
    "X = get_cohend(df_z_regr.loc[group_idx[:,0],:].filter(regex = metric, axis = 1), df_y).loc[:,'d'].rename('Depression')\n",
    "y = get_cohend(df_z_regr.loc[group_idx[:,1],:].filter(regex = metric, axis = 1), df_y).loc[:,'d'].rename('ADHD')\n",
    "df_input = pd.concat((X, y), axis = 1)\n",
    "\n",
    "df_input.head()"
   ]
  },
  {
   "cell_type": "code",
   "execution_count": 22,
   "metadata": {},
   "outputs": [
    {
     "name": "stderr",
     "output_type": "stream",
     "text": [
      "/Users/lindenmp/opt/anaconda3/envs/NormativeNeuroDev_CrossSec_T1/lib/python3.7/site-packages/seaborn/axisgrid.py:1848: UserWarning: JointGrid annotation is deprecated and will be removed in a future release.\n",
      "  warnings.warn(UserWarning(msg))\n"
     ]
    },
    {
     "data": {
      "image/png": "[encoded data removed]",
      "text/plain": [
       "<Figure size 180x180 with 3 Axes>"
      ]
     },
     "metadata": {},
     "output_type": "display_data"
    }
   ],
   "source": [
    "sns.set(style='white', context = 'paper', font_scale = 1)\n",
    "f = sns.jointplot(x = df_input.loc[:,'Depression'], y = df_input.loc[:,'ADHD'], kind=\"reg\")\n",
    "f.fig.set_figwidth(2.5)\n",
    "f.fig.set_figheight(2.5)\n",
    "f.set_axis_labels('Depression (Cohen\\'s D)', 'ADHD (Cohen\\'s D)')\n",
    "f.plot_joint(plt.scatter, c = \"k\", s = 5, linewidth = 2, marker = \".\", alpha = 0.3)\n",
    "f.annotate(sp.stats.pearsonr)\n",
    "f.ax_joint.collections[0].set_alpha(0)\n",
    "f.ax_joint.set_ylim([-0.5, 0.3])\n",
    "f.ax_joint.set_xlim([-0.5, 0.3])\n",
    "f.savefig('cohensd_spatial_corr_depression->adhd.svg', dpi = 300, bbox_inches = 'tight', pad_inches = 0)"
   ]
  },
  {
   "cell_type": "code",
   "execution_count": 23,
   "metadata": {},
   "outputs": [],
   "source": [
    "# f = sns.jointplot(x = df_input.loc[:,'coef'], y = df_input.loc[:,'Depression'], kind=\"reg\")\n",
    "# f.fig.set_figwidth(2.5)\n",
    "# f.fig.set_figheight(2.5)\n",
    "# f.set_axis_labels(phenos_label[p] + ' ($\\\\rho$)', 'Depression (Cohen\\'s D)')\n",
    "# f.plot_joint(plt.scatter, c = \"k\", s = 5, linewidth = 2, marker = \".\", alpha = 0.3)\n",
    "# f.annotate(sp.stats.pearsonr)\n",
    "# f.ax_joint.collections[0].set_alpha(0)\n",
    "# # f.ax_joint.set_xticks([-0.15, -0.05, 0.05])\n",
    "# f.ax_joint.set_ylim([-0.5, 0.3])\n",
    "# f.ax_joint.set_xlim([-0.175, 0.075])\n",
    "# f.savefig('cohensd_spatial_corr_'+pheno+'->depression.svg', dpi = 300, bbox_inches = 'tight', pad_inches = 0)"
   ]
  },
  {
   "cell_type": "code",
   "execution_count": 24,
   "metadata": {},
   "outputs": [],
   "source": [
    "# f = sns.jointplot(x = df_input.loc[:,'coef'], y = df_input.loc[:,'ADHD'], kind=\"reg\")\n",
    "# f.fig.set_figwidth(2.5)\n",
    "# f.fig.set_figheight(2.5)\n",
    "# f.set_axis_labels(phenos_label[p] + ' ($\\\\rho$)', 'ADHD (Cohen\\'s D)')\n",
    "# f.plot_joint(plt.scatter, c = \"k\", s = 5, linewidth = 2, marker = \".\", alpha = 0.3)\n",
    "# f.annotate(sp.stats.pearsonr)\n",
    "# f.ax_joint.collections[0].set_alpha(0)\n",
    "# # f.ax_joint.set_xticks([-0.15, -0.05, 0.05])\n",
    "# f.ax_joint.set_ylim([-0.5, 0.3])\n",
    "# f.ax_joint.set_xlim([-0.175, 0.075])\n",
    "# f.savefig('cohensd_spatial_corr_'+pheno+'->ADHD.svg', dpi = 300, bbox_inches = 'tight', pad_inches = 0)"
   ]
  },
  {
   "cell_type": "markdown",
   "metadata": {},
   "source": [
    "### Regress p out of node features"
   ]
  },
  {
   "cell_type": "code",
   "execution_count": 25,
   "metadata": {},
   "outputs": [],
   "source": [
    "corr_diff = np.zeros(len(phenos))"
   ]
  },
  {
   "cell_type": "code",
   "execution_count": 26,
   "metadata": {},
   "outputs": [
    {
     "name": "stdout",
     "output_type": "stream",
     "text": [
      "Overall_Psychopathology [0.18 0.  ]\n",
      "Psychosis_Positive [0.36 0.  ]\n",
      "Psychosis_NegativeDisorg [0.37 0.  ]\n",
      "AnxiousMisery [0.42 0.  ]\n",
      "Externalizing [0.38 0.  ]\n",
      "Fear [0.39 0.  ]\n"
     ]
    }
   ],
   "source": [
    "for pheno in phenos:\n",
    "    df_nuis = df.loc[:,[primary_covariate,'sex_adj',pheno]]\n",
    "    df_nuis = sm.add_constant(df_nuis)\n",
    "\n",
    "    # df_z\n",
    "    cols = df_z.columns\n",
    "    mdl = sm.OLS(df_z.loc[:,cols], df_nuis).fit()\n",
    "    y_pred = mdl.predict(df_nuis)\n",
    "    y_pred.columns = cols\n",
    "    df_z_regr = df_z.loc[:,cols] - y_pred\n",
    "\n",
    "    df_y = df_z_regr.loc[df[train_test_str] == 0,:].filter(regex = metric, axis = 1)\n",
    "\n",
    "    X = get_cohend(df_z_regr.loc[group_idx[:,0],:].filter(regex = metric, axis = 1), df_y).loc[:,'d'].rename('Depression')\n",
    "    y = get_cohend(df_z_regr.loc[group_idx[:,1],:].filter(regex = metric, axis = 1), df_y).loc[:,'d'].rename('ADHD')\n",
    "    df_input_p = pd.concat((df_pheno_z.loc[pheno,'coef'].filter(regex = metric).astype(float), X, y), axis = 1)\n",
    "    \n",
    "    print(pheno, np.round(sp.stats.pearsonr(X,y),2))"
   ]
  },
  {
   "cell_type": "code",
   "execution_count": 27,
   "metadata": {},
   "outputs": [
    {
     "name": "stdout",
     "output_type": "stream",
     "text": [
      "Overall_Psychopathology\n"
     ]
    }
   ],
   "source": [
    "p = 0\n",
    "pheno = phenos[p]; print(pheno)"
   ]
  },
  {
   "cell_type": "code",
   "execution_count": 28,
   "metadata": {},
   "outputs": [],
   "source": [
    "# Given differences in demographics between groups, we regress age/sex from z scores before calculating cohen's D\n",
    "# df_nuis = df.loc[:,pheno]\n",
    "df_nuis = df.loc[:,[primary_covariate,'sex_adj',pheno]]\n",
    "df_nuis = sm.add_constant(df_nuis)\n",
    "\n",
    "# df_z\n",
    "cols = df_z.columns\n",
    "mdl = sm.OLS(df_z.loc[:,cols], df_nuis).fit()\n",
    "y_pred = mdl.predict(df_nuis)\n",
    "y_pred.columns = cols\n",
    "df_z_regr = df_z.loc[:,cols] - y_pred"
   ]
  },
  {
   "cell_type": "code",
   "execution_count": 29,
   "metadata": {},
   "outputs": [
    {
     "data": {
      "text/html": [
       "<div>\n",
       "<style scoped>\n",
       "    .dataframe tbody tr th:only-of-type {\n",
       "        vertical-align: middle;\n",
       "    }\n",
       "\n",
       "    .dataframe tbody tr th {\n",
       "        vertical-align: top;\n",
       "    }\n",
       "\n",
       "    .dataframe thead th {\n",
       "        text-align: right;\n",
       "    }\n",
       "</style>\n",
       "<table border=\"1\" class=\"dataframe\">\n",
       "  <thead>\n",
       "    <tr style=\"text-align: right;\">\n",
       "      <th></th>\n",
       "      <th>coef</th>\n",
       "      <th>Depression</th>\n",
       "      <th>ADHD</th>\n",
       "    </tr>\n",
       "    <tr>\n",
       "      <th>variable</th>\n",
       "      <th></th>\n",
       "      <th></th>\n",
       "      <th></th>\n",
       "    </tr>\n",
       "  </thead>\n",
       "  <tbody>\n",
       "    <tr>\n",
       "      <th>vol_0</th>\n",
       "      <td>-0.063759</td>\n",
       "      <td>-0.018313</td>\n",
       "      <td>-0.063379</td>\n",
       "    </tr>\n",
       "    <tr>\n",
       "      <th>vol_1</th>\n",
       "      <td>-0.055212</td>\n",
       "      <td>-0.079135</td>\n",
       "      <td>-0.142887</td>\n",
       "    </tr>\n",
       "    <tr>\n",
       "      <th>vol_2</th>\n",
       "      <td>-0.079142</td>\n",
       "      <td>-0.040718</td>\n",
       "      <td>0.047351</td>\n",
       "    </tr>\n",
       "    <tr>\n",
       "      <th>vol_3</th>\n",
       "      <td>-0.081004</td>\n",
       "      <td>-0.045843</td>\n",
       "      <td>-0.088717</td>\n",
       "    </tr>\n",
       "    <tr>\n",
       "      <th>vol_4</th>\n",
       "      <td>-0.067224</td>\n",
       "      <td>0.015260</td>\n",
       "      <td>-0.080612</td>\n",
       "    </tr>\n",
       "  </tbody>\n",
       "</table>\n",
       "</div>"
      ],
      "text/plain": [
       "              coef  Depression      ADHD\n",
       "variable                                \n",
       "vol_0    -0.063759   -0.018313 -0.063379\n",
       "vol_1    -0.055212   -0.079135 -0.142887\n",
       "vol_2    -0.079142   -0.040718  0.047351\n",
       "vol_3    -0.081004   -0.045843 -0.088717\n",
       "vol_4    -0.067224    0.015260 -0.080612"
      ]
     },
     "execution_count": 29,
     "metadata": {},
     "output_type": "execute_result"
    }
   ],
   "source": [
    "df_y = df_z_regr.loc[df[train_test_str] == 0,:].filter(regex = metric, axis = 1)\n",
    "\n",
    "X = get_cohend(df_z_regr.loc[group_idx[:,0],:].filter(regex = metric, axis = 1), df_y).loc[:,'d'].rename('Depression')\n",
    "y = get_cohend(df_z_regr.loc[group_idx[:,1],:].filter(regex = metric, axis = 1), df_y).loc[:,'d'].rename('ADHD')\n",
    "df_input_p = pd.concat((df_pheno_z.loc[pheno,'coef'].filter(regex = metric).astype(float), X, y), axis = 1)\n",
    "\n",
    "df_input_p.head()"
   ]
  },
  {
   "cell_type": "code",
   "execution_count": 30,
   "metadata": {},
   "outputs": [
    {
     "name": "stderr",
     "output_type": "stream",
     "text": [
      "/Users/lindenmp/opt/anaconda3/envs/NormativeNeuroDev_CrossSec_T1/lib/python3.7/site-packages/seaborn/axisgrid.py:1848: UserWarning: JointGrid annotation is deprecated and will be removed in a future release.\n",
      "  warnings.warn(UserWarning(msg))\n"
     ]
    },
    {
     "data": {
      "image/png": "[encoded data removed]",
      "text/plain": [
       "<Figure size 180x180 with 3 Axes>"
      ]
     },
     "metadata": {},
     "output_type": "display_data"
    }
   ],
   "source": [
    "sns.set(style='white', context = 'paper', font_scale = 1)\n",
    "f = sns.jointplot(x = df_input_p.loc[:,'Depression'], y = df_input_p.loc[:,'ADHD'], kind=\"reg\")\n",
    "f.fig.set_figwidth(2.5)\n",
    "f.fig.set_figheight(2.5)\n",
    "f.set_axis_labels('Depression (Cohen\\'s D)', 'ADHD (Cohen\\'s D)')\n",
    "f.plot_joint(plt.scatter, c = \"k\", s = 5, linewidth = 2, marker = \".\", alpha = 0.3)\n",
    "f.annotate(sp.stats.pearsonr)\n",
    "f.ax_joint.collections[0].set_alpha(0)\n",
    "f.ax_joint.set_ylim([-0.3, 0.3])\n",
    "f.ax_joint.set_xlim([-0.3, 0.3])\n",
    "f.savefig('cohensd_spatial_corr_depression->adhd_p_nuis.svg', dpi = 300, bbox_inches = 'tight', pad_inches = 0)"
   ]
  },
  {
   "cell_type": "code",
   "execution_count": 31,
   "metadata": {},
   "outputs": [],
   "source": [
    "cmap = my_get_cmap('pair')"
   ]
  },
  {
   "cell_type": "code",
   "execution_count": 32,
   "metadata": {},
   "outputs": [
    {
     "data": {
      "image/png": "[encoded data removed]",
      "text/plain": [
       "<Figure size 180x72 with 1 Axes>"
      ]
     },
     "metadata": {},
     "output_type": "display_data"
    }
   ],
   "source": [
    "f, ax = plt.subplots()\n",
    "f.set_figwidth(2.5)\n",
    "f.set_figheight(1)\n",
    "sns.kdeplot(df_input.loc[:,'ADHD'], ax = ax, color = cmap[0], label = 'no p')\n",
    "sns.kdeplot(df_input_p.loc[:,'ADHD'], ax = ax, color = cmap[1], label = 'p')\n",
    "ax.legend().remove()\n",
    "ax.set_ylim([0, 6])\n",
    "ax.set_xlim([-0.5, 0.3])\n",
    "ax.set_xlabel('ADHD (Cohen\\'s D)')\n",
    "ax.set_ylabel('density')\n",
    "f.savefig('cohensd_adhd.svg', dpi = 300, bbox_inches = 'tight', pad_inches = 0)"
   ]
  },
  {
   "cell_type": "code",
   "execution_count": 33,
   "metadata": {},
   "outputs": [
    {
     "data": {
      "text/plain": [
       "Ttest_relResult(statistic=40.915894534385764, pvalue=7.503427553507529e-145)"
      ]
     },
     "execution_count": 33,
     "metadata": {},
     "output_type": "execute_result"
    }
   ],
   "source": [
    "sp.stats.ttest_rel(df_input_p.loc[:,'ADHD'],df_input.loc[:,'ADHD'])"
   ]
  },
  {
   "cell_type": "code",
   "execution_count": 34,
   "metadata": {},
   "outputs": [
    {
     "data": {
      "image/png": "[encoded data removed]",
      "text/plain": [
       "<Figure size 180x72 with 1 Axes>"
      ]
     },
     "metadata": {},
     "output_type": "display_data"
    }
   ],
   "source": [
    "f, ax = plt.subplots()\n",
    "f.set_figwidth(2.5)\n",
    "f.set_figheight(1)\n",
    "sns.kdeplot(df_input.loc[:,'Depression'], ax = ax, color = cmap[0], label = 'no p')\n",
    "sns.kdeplot(df_input_p.loc[:,'Depression'], ax = ax, color = cmap[1], label = 'p')\n",
    "ax.legend().remove()\n",
    "ax.set_ylim([0, 6])\n",
    "ax.set_xlim([-0.5, 0.3])\n",
    "ax.set_xlabel('Depression (Cohen\\'s D)')\n",
    "ax.set_ylabel('density')\n",
    "f.savefig('cohensd_depression.svg', dpi = 300, bbox_inches = 'tight', pad_inches = 0)"
   ]
  },
  {
   "cell_type": "code",
   "execution_count": 35,
   "metadata": {},
   "outputs": [
    {
     "data": {
      "text/plain": [
       "Ttest_relResult(statistic=40.96843523662189, pvalue=4.9606049724460586e-145)"
      ]
     },
     "execution_count": 35,
     "metadata": {},
     "output_type": "execute_result"
    }
   ],
   "source": [
    "sp.stats.ttest_rel(df_input_p.loc[:,'Depression'],df_input.loc[:,'Depression'])"
   ]
  }
 ],
 "metadata": {
  "kernelspec": {
   "display_name": "Python 3",
   "language": "python",
   "name": "python3"
  },
  "language_info": {
   "codemirror_mode": {
    "name": "ipython",
    "version": 3
   },
   "file_extension": ".py",
   "mimetype": "text/x-python",
   "name": "python",
   "nbconvert_exporter": "python",
   "pygments_lexer": "ipython3",
   "version": "3.7.6"
  }
 },
 "nbformat": 4,
 "nbformat_minor": 4
}
