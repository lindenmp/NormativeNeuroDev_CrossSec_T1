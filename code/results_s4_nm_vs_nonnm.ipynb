{
 "cells": [
  {
   "cell_type": "markdown",
   "metadata": {},
   "source": [
    "# Results, section 4: Comparing effects sizes to conventional analyses"
   ]
  },
  {
   "cell_type": "code",
   "execution_count": 1,
   "metadata": {},
   "outputs": [
    {
     "name": "stderr",
     "output_type": "stream",
     "text": [
      "/Users/lindenmp/opt/anaconda3/envs/NormativeNeuroDev_CrossSec_T1/lib/python3.7/site-packages/outdated/utils.py:18: OutdatedPackageWarning: The package pingouin is out of date. Your version is 0.3.3, the latest is 0.3.4.\n",
      "Set the environment variable OUTDATED_IGNORE=1 to disable these warnings.\n",
      "  **kwargs\n"
     ]
    }
   ],
   "source": [
    "# Essentials\n",
    "import os, sys, glob\n",
    "import pandas as pd\n",
    "import numpy as np\n",
    "import nibabel as nib\n",
    "\n",
    "# Stats\n",
    "import scipy as sp\n",
    "from scipy import stats\n",
    "import statsmodels.api as sm\n",
    "import pingouin as pg\n",
    "\n",
    "# Plotting\n",
    "import seaborn as sns\n",
    "import matplotlib.pyplot as plt\n",
    "plt.rcParams['svg.fonttype'] = 'none'\n",
    "from mpl_toolkits.axes_grid1 import make_axes_locatable"
   ]
  },
  {
   "cell_type": "code",
   "execution_count": 2,
   "metadata": {},
   "outputs": [],
   "source": [
    "sys.path.append('/Users/lindenmp/Dropbox/Work/ResProjects/NormativeNeuroDev_CrossSec_T1/code/func/')\n",
    "from proj_environment import set_proj_env\n",
    "sys.path.append('/Users/lindenmp/Dropbox/Work/git/pyfunc/')\n",
    "from func import run_corr, get_fdr_p, run_pheno_correlations, dependent_corr, get_sys_summary, get_fdr_p_df, get_sys_prop, run_ttest, get_cohend, create_dummy_vars"
   ]
  },
  {
   "cell_type": "code",
   "execution_count": 3,
   "metadata": {},
   "outputs": [],
   "source": [
    "train_test_str = 'squeakycleanExclude'\n",
    "exclude_str = 't1Exclude' # 't1Exclude' 'fsFinalExclude'\n",
    "parc_str = 'schaefer' # 'schaefer' 'lausanne'\n",
    "parc_scale = 400 # 200 400 | 60 125\n",
    "primary_covariate = 'ageAtScan1_Years'\n",
    "extra_str = ''\n",
    "parcel_names, parcel_loc, drop_parcels, num_parcels, yeo_idx, yeo_labels = set_proj_env(train_test_str = train_test_str, exclude_str = exclude_str,\n",
    "                                                                            parc_str = parc_str, parc_scale = parc_scale, extra_str = extra_str)"
   ]
  },
  {
   "cell_type": "code",
   "execution_count": 4,
   "metadata": {},
   "outputs": [
    {
     "data": {
      "text/plain": [
       "'/Users/lindenmp/Dropbox/Work/ResProjects/NormativeNeuroDev_CrossSec_T1/analysis/normative/t1Exclude/squeakycleanExclude/schaefer_400/ageAtScan1_Years+sex_adj'"
      ]
     },
     "execution_count": 4,
     "metadata": {},
     "output_type": "execute_result"
    }
   ],
   "source": [
    "os.environ['NORMATIVEDIR']"
   ]
  },
  {
   "cell_type": "code",
   "execution_count": 5,
   "metadata": {},
   "outputs": [],
   "source": [
    "outdir = os.path.join(os.environ['NORMATIVEDIR'],'analysis_outputs')\n",
    "if not os.path.exists(outdir): os.makedirs(outdir)"
   ]
  },
  {
   "cell_type": "code",
   "execution_count": 6,
   "metadata": {},
   "outputs": [],
   "source": [
    "phenos = ['Overall_Psychopathology','Psychosis_Positive','Psychosis_NegativeDisorg','AnxiousMisery','Externalizing','Fear']\n",
    "phenos_label_short = ['Ov. Psych.', 'Psy. (pos.)', 'Psy. (neg.)', 'Anx.-mis.', 'Ext.', 'Fear']\n",
    "phenos_label = ['Overall Psychopathology','Psychosis (Positive)','Psychosis (Negative)','Anxious-Misery','Externalizing','Fear']\n",
    "metrics = ['ct', 'vol']\n",
    "metrics_label_short = ['Thickness', 'Volume']\n",
    "metrics_label = ['Thickness', 'Volume']\n",
    "\n",
    "method = 'spearman'\n",
    "assign_p = 'permutation'"
   ]
  },
  {
   "cell_type": "markdown",
   "metadata": {},
   "source": [
    "## Plots"
   ]
  },
  {
   "cell_type": "code",
   "execution_count": 7,
   "metadata": {},
   "outputs": [],
   "source": [
    "if not os.path.exists(os.environ['FIGDIR']): os.makedirs(os.environ['FIGDIR'])\n",
    "os.chdir(os.environ['FIGDIR'])\n",
    "sns.set(style='white', context = 'paper', font_scale = 1)"
   ]
  },
  {
   "cell_type": "markdown",
   "metadata": {},
   "source": [
    "## Load data"
   ]
  },
  {
   "cell_type": "code",
   "execution_count": 8,
   "metadata": {},
   "outputs": [],
   "source": [
    "df = pd.read_csv(os.path.join(outdir,'df.csv')); df.set_index(['bblid', 'scanid'], inplace = True)\n",
    "df_z = pd.read_csv(os.path.join(outdir,'df_z.csv')); df_z.set_index(['bblid', 'scanid'], inplace = True)\n",
    "df_pheno_z = pd.read_csv(os.path.join(outdir,'df_pheno_z.csv')); df_pheno_z.set_index(['pheno', 'variable'], inplace = True)\n",
    "region_filter = pd.read_csv(os.path.join(outdir,'region_filter.csv'), index_col=0); region_filter = region_filter.iloc[:,0].astype(bool)"
   ]
  },
  {
   "cell_type": "code",
   "execution_count": 9,
   "metadata": {},
   "outputs": [
    {
     "name": "stdout",
     "output_type": "stream",
     "text": [
      "(1393, 800)\n"
     ]
    }
   ],
   "source": [
    "# Train\n",
    "df_node_train = pd.read_csv(os.path.join(os.environ['NORMATIVEDIR'], 'resp_train.csv'))\n",
    "df_node_train.set_index(['bblid', 'scanid'], inplace = True)\n",
    "\n",
    "# Test\n",
    "df_node_test = pd.read_csv(os.path.join(os.environ['NORMATIVEDIR'], 'resp_test.csv'))\n",
    "df_node_test.set_index(['bblid', 'scanid'], inplace = True)\n",
    "\n",
    "# concat\n",
    "df_node = pd.concat((df_node_train, df_node_test), axis = 0); print(df_node.shape)"
   ]
  },
  {
   "cell_type": "markdown",
   "metadata": {},
   "source": [
    "### Regress age/sex out of node features"
   ]
  },
  {
   "cell_type": "code",
   "execution_count": 10,
   "metadata": {},
   "outputs": [],
   "source": [
    "df_nuis = df.loc[:,[primary_covariate,'sex_adj']]\n",
    "df_nuis = sm.add_constant(df_nuis)\n",
    "\n",
    "# df_node\n",
    "cols = df_node.columns\n",
    "mdl = sm.OLS(df_node.loc[:,cols], df_nuis).fit()\n",
    "y_pred = mdl.predict(df_nuis)\n",
    "y_pred.columns = cols\n",
    "df_node.loc[:,cols] = df_node.loc[:,cols] - y_pred"
   ]
  },
  {
   "cell_type": "markdown",
   "metadata": {},
   "source": [
    "## Get pheno-metric relationships"
   ]
  },
  {
   "cell_type": "code",
   "execution_count": 11,
   "metadata": {},
   "outputs": [],
   "source": [
    "if assign_p == 'permutation':\n",
    "    nulldir = os.path.join(os.environ['NORMATIVEDIR'], 'nulls')\n",
    "    if not os.path.exists(nulldir): os.makedirs(nulldir)\n",
    "    df_pheno = run_pheno_correlations(df.loc[:,phenos], df_node, method = method, assign_p = assign_p, nulldir = nulldir)\n",
    "elif assign_p == 'parametric':\n",
    "    df_pheno = run_pheno_correlations(df.loc[:,phenos], df_node, method = method, assign_p = assign_p)"
   ]
  },
  {
   "cell_type": "code",
   "execution_count": 12,
   "metadata": {},
   "outputs": [],
   "source": [
    "# correct multiple comparisons. We do this across brain regions and phenotypes (e.g., 400*6 = 2400 tests)\n",
    "df_p_corr = pd.DataFrame(index = df_pheno.index, columns = ['p-corr']) # output dataframe\n",
    "\n",
    "for metric in metrics:\n",
    "    p_corr = get_fdr_p(df_pheno.loc[:,'p'].filter(regex = metric)) # correct p-values for metric\n",
    "    p_corr_tmp = pd.DataFrame(index = df_pheno.loc[:,'p'].filter(regex = metric).index, columns = ['p-corr'], data = p_corr) # set to dataframe with correct indices\n",
    "    df_pheno.loc[p_corr_tmp.index, 'p-corr'] = p_corr_tmp # store using index matching"
   ]
  },
  {
   "cell_type": "code",
   "execution_count": 13,
   "metadata": {},
   "outputs": [
    {
     "name": "stdout",
     "output_type": "stream",
     "text": [
      "0.05\n"
     ]
    }
   ],
   "source": [
    "alpha = 0.05\n",
    "print(alpha)"
   ]
  },
  {
   "cell_type": "code",
   "execution_count": 14,
   "metadata": {},
   "outputs": [
    {
     "name": "stdout",
     "output_type": "stream",
     "text": [
      "459 significant effects (fdr)\n",
      "429 significant effects (fdr)\n"
     ]
    }
   ],
   "source": [
    "x = df_pheno['p-corr'].values < alpha\n",
    "df_pheno['sig'] = x\n",
    "\n",
    "x = x.reshape(1,-1)\n",
    "y = np.matlib.repmat(region_filter, 1, len(phenos))\n",
    "\n",
    "my_bool = np.concatenate((x, y), axis = 0); region_filt = np.all(my_bool, axis = 0); df_pheno['sig_smse'] = region_filt\n",
    "\n",
    "print(str(np.sum(df_pheno['sig'] == True)) + ' significant effects (fdr)')\n",
    "print(str(np.sum(df_pheno['sig_smse'] == True)) + ' significant effects (fdr)')"
   ]
  },
  {
   "cell_type": "code",
   "execution_count": 15,
   "metadata": {},
   "outputs": [],
   "source": [
    "metric = 'vol'\n",
    "num_regions = pd.DataFrame(index = [metric], columns = phenos)\n",
    "counts_greater = pd.DataFrame(index = [metric], columns = phenos)\n",
    "counts_smaller = pd.DataFrame(index = [metric], columns = phenos)\n",
    "\n",
    "for j, pheno in enumerate(phenos):\n",
    "    df_tmp = df_pheno.loc[pheno,['coef','sig_smse']].filter(regex = metric, axis = 0).copy()\n",
    "    df_tmp_z = df_pheno_z.loc[pheno,['coef','sig_smse']].filter(regex = metric, axis = 0).copy()\n",
    "    mask_idx = np.logical_and(df_tmp['sig_smse'],df_tmp_z['sig_smse'])\n",
    "    num_regions.loc[metric,pheno] = mask_idx.sum()\n",
    "\n",
    "    steiger = pd.DataFrame(index = df_tmp_z.index, columns = ['t2','p'])\n",
    "    count_great = 0\n",
    "    count_small = 0\n",
    "    for col, _ in mask_idx[mask_idx].iteritems():\n",
    "        xy = np.abs(df_tmp_z.loc[col,'coef']) # correlation between phenotype and deviation\n",
    "        xz = np.abs(df_tmp.loc[col,'coef']) # correlation between phenotype and brain feature\n",
    "        yz = np.abs(sp.stats.spearmanr(df_node[col],df_z[col])[0]) # correlation deviation and brain feature\n",
    "        t2, p = dependent_corr(xy, xz, yz, df_z.shape[0], twotailed=True) # test for difference between correlations\n",
    "        steiger.loc[col,'t2'] = t2\n",
    "        steiger.loc[col,'p'] = p\n",
    "    steiger['p_fdr'] = get_fdr_p(steiger['p'])\n",
    "\n",
    "    # store\n",
    "    counts_greater.loc[metric,pheno] = steiger[np.logical_and(steiger['t2'] > 0,steiger['p_fdr']<.05)].shape[0]\n",
    "    counts_smaller.loc[metric,pheno] = steiger[np.logical_and(steiger['t2'] < 0,steiger['p_fdr']<.05)].shape[0]"
   ]
  },
  {
   "cell_type": "code",
   "execution_count": 16,
   "metadata": {},
   "outputs": [
    {
     "data": {
      "text/html": [
       "<div>\n",
       "<style scoped>\n",
       "    .dataframe tbody tr th:only-of-type {\n",
       "        vertical-align: middle;\n",
       "    }\n",
       "\n",
       "    .dataframe tbody tr th {\n",
       "        vertical-align: top;\n",
       "    }\n",
       "\n",
       "    .dataframe thead th {\n",
       "        text-align: right;\n",
       "    }\n",
       "</style>\n",
       "<table border=\"1\" class=\"dataframe\">\n",
       "  <thead>\n",
       "    <tr style=\"text-align: right;\">\n",
       "      <th></th>\n",
       "      <th>Overall_Psychopathology</th>\n",
       "      <th>Psychosis_Positive</th>\n",
       "      <th>Psychosis_NegativeDisorg</th>\n",
       "      <th>AnxiousMisery</th>\n",
       "      <th>Externalizing</th>\n",
       "      <th>Fear</th>\n",
       "    </tr>\n",
       "  </thead>\n",
       "  <tbody>\n",
       "    <tr>\n",
       "      <th>vol</th>\n",
       "      <td>118</td>\n",
       "      <td>53</td>\n",
       "      <td>35</td>\n",
       "      <td>7</td>\n",
       "      <td>44</td>\n",
       "      <td>83</td>\n",
       "    </tr>\n",
       "  </tbody>\n",
       "</table>\n",
       "</div>"
      ],
      "text/plain": [
       "    Overall_Psychopathology Psychosis_Positive Psychosis_NegativeDisorg  \\\n",
       "vol                     118                 53                       35   \n",
       "\n",
       "    AnxiousMisery Externalizing Fear  \n",
       "vol             7            44   83  "
      ]
     },
     "execution_count": 16,
     "metadata": {},
     "output_type": "execute_result"
    }
   ],
   "source": [
    "num_regions"
   ]
  },
  {
   "cell_type": "code",
   "execution_count": 17,
   "metadata": {},
   "outputs": [
    {
     "data": {
      "text/html": [
       "<div>\n",
       "<style scoped>\n",
       "    .dataframe tbody tr th:only-of-type {\n",
       "        vertical-align: middle;\n",
       "    }\n",
       "\n",
       "    .dataframe tbody tr th {\n",
       "        vertical-align: top;\n",
       "    }\n",
       "\n",
       "    .dataframe thead th {\n",
       "        text-align: right;\n",
       "    }\n",
       "</style>\n",
       "<table border=\"1\" class=\"dataframe\">\n",
       "  <thead>\n",
       "    <tr style=\"text-align: right;\">\n",
       "      <th></th>\n",
       "      <th>Overall_Psychopathology</th>\n",
       "      <th>Psychosis_Positive</th>\n",
       "      <th>Psychosis_NegativeDisorg</th>\n",
       "      <th>AnxiousMisery</th>\n",
       "      <th>Externalizing</th>\n",
       "      <th>Fear</th>\n",
       "    </tr>\n",
       "  </thead>\n",
       "  <tbody>\n",
       "    <tr>\n",
       "      <th>vol</th>\n",
       "      <td>10.1695</td>\n",
       "      <td>20.7547</td>\n",
       "      <td>0</td>\n",
       "      <td>0</td>\n",
       "      <td>0</td>\n",
       "      <td>13.253</td>\n",
       "    </tr>\n",
       "  </tbody>\n",
       "</table>\n",
       "</div>"
      ],
      "text/plain": [
       "    Overall_Psychopathology Psychosis_Positive Psychosis_NegativeDisorg  \\\n",
       "vol                 10.1695            20.7547                        0   \n",
       "\n",
       "    AnxiousMisery Externalizing    Fear  \n",
       "vol             0             0  13.253  "
      ]
     },
     "execution_count": 17,
     "metadata": {},
     "output_type": "execute_result"
    }
   ],
   "source": [
    "counts_greater / num_regions * 100"
   ]
  },
  {
   "cell_type": "code",
   "execution_count": 18,
   "metadata": {},
   "outputs": [
    {
     "data": {
      "text/html": [
       "<div>\n",
       "<style scoped>\n",
       "    .dataframe tbody tr th:only-of-type {\n",
       "        vertical-align: middle;\n",
       "    }\n",
       "\n",
       "    .dataframe tbody tr th {\n",
       "        vertical-align: top;\n",
       "    }\n",
       "\n",
       "    .dataframe thead th {\n",
       "        text-align: right;\n",
       "    }\n",
       "</style>\n",
       "<table border=\"1\" class=\"dataframe\">\n",
       "  <thead>\n",
       "    <tr style=\"text-align: right;\">\n",
       "      <th></th>\n",
       "      <th>Overall_Psychopathology</th>\n",
       "      <th>Psychosis_Positive</th>\n",
       "      <th>Psychosis_NegativeDisorg</th>\n",
       "      <th>AnxiousMisery</th>\n",
       "      <th>Externalizing</th>\n",
       "      <th>Fear</th>\n",
       "    </tr>\n",
       "  </thead>\n",
       "  <tbody>\n",
       "    <tr>\n",
       "      <th>vol</th>\n",
       "      <td>3.38983</td>\n",
       "      <td>1.88679</td>\n",
       "      <td>0</td>\n",
       "      <td>0</td>\n",
       "      <td>0</td>\n",
       "      <td>0</td>\n",
       "    </tr>\n",
       "  </tbody>\n",
       "</table>\n",
       "</div>"
      ],
      "text/plain": [
       "    Overall_Psychopathology Psychosis_Positive Psychosis_NegativeDisorg  \\\n",
       "vol                 3.38983            1.88679                        0   \n",
       "\n",
       "    AnxiousMisery Externalizing Fear  \n",
       "vol             0             0    0  "
      ]
     },
     "execution_count": 18,
     "metadata": {},
     "output_type": "execute_result"
    }
   ],
   "source": [
    "counts_smaller / num_regions * 100"
   ]
  }
 ],
 "metadata": {
  "kernelspec": {
   "display_name": "Python 3",
   "language": "python",
   "name": "python3"
  },
  "language_info": {
   "codemirror_mode": {
    "name": "ipython",
    "version": 3
   },
   "file_extension": ".py",
   "mimetype": "text/x-python",
   "name": "python",
   "nbconvert_exporter": "python",
   "pygments_lexer": "ipython3",
   "version": "3.7.6"
  }
 },
 "nbformat": 4,
 "nbformat_minor": 4
}
