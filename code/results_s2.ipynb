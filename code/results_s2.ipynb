{
 "cells": [
  {
   "cell_type": "markdown",
   "metadata": {},
   "source": [
    "# Results, section 2:"
   ]
  },
  {
   "cell_type": "code",
   "execution_count": 1,
   "metadata": {},
   "outputs": [],
   "source": [
    "import os, sys\n",
    "import pandas as pd\n",
    "import numpy as np\n",
    "import scipy as sp\n",
    "from scipy import stats\n",
    "import seaborn as sns\n",
    "import matplotlib.pyplot as plt\n",
    "import statsmodels.api as sm\n",
    "import ptitprince as pt"
   ]
  },
  {
   "cell_type": "code",
   "execution_count": 2,
   "metadata": {},
   "outputs": [],
   "source": [
    "sys.path.append('/Users/lindenmp/Dropbox/Work/ResProjects/NormativeNeuroDev_CrossSec_T1/code/func/')\n",
    "from proj_environment import set_proj_env\n",
    "from func import run_corr, get_fdr_p, update_progress, get_null_p, get_cmap, get_fdr_p_df, get_sys_summary, prop_bar_plot, dependent_corr"
   ]
  },
  {
   "cell_type": "code",
   "execution_count": 3,
   "metadata": {},
   "outputs": [],
   "source": [
    "train_test_str = 'squeakycleanExclude'\n",
    "exclude_str = 't1Exclude' # 't1Exclude' 'fsFinalExclude'\n",
    "parc_str = 'schaefer'\n",
    "parc_scale = 400 # 200 400 | 60 125\n",
    "primary_covariate = 'ageAtScan1_Years'\n",
    "extra_str = ''\n",
    "parcel_names, parcel_loc, drop_parcels, num_parcels, yeo_idx, yeo_labels = set_proj_env(train_test_str = train_test_str, exclude_str = exclude_str,\n",
    "                                                                            parc_str = parc_str, parc_scale = parc_scale, extra_str = extra_str)"
   ]
  },
  {
   "cell_type": "code",
   "execution_count": 4,
   "metadata": {},
   "outputs": [],
   "source": [
    "sns.set(style='white', context = 'paper', font_scale = 1)"
   ]
  },
  {
   "cell_type": "code",
   "execution_count": 5,
   "metadata": {},
   "outputs": [],
   "source": [
    "run_correlations = True\n",
    "compute_perm_stats = False\n",
    "num_perms = 1000"
   ]
  },
  {
   "cell_type": "code",
   "execution_count": 6,
   "metadata": {},
   "outputs": [
    {
     "data": {
      "text/plain": [
       "'/Users/lindenmp/Dropbox/Work/ResProjects/NormativeNeuroDev_CrossSec_T1/analysis/normative/t1Exclude/squeakycleanExclude/schaefer_400/ageAtScan1_Years+sex_adj'"
      ]
     },
     "execution_count": 6,
     "metadata": {},
     "output_type": "execute_result"
    }
   ],
   "source": [
    "os.environ['NORMATIVEDIR']"
   ]
  },
  {
   "cell_type": "code",
   "execution_count": 7,
   "metadata": {},
   "outputs": [],
   "source": [
    "metrics = ('ct', 'vol')\n",
    "phenos = ('Overall_Psychopathology','Psychosis_Positive','Psychosis_NegativeDisorg','AnxiousMisery','Externalizing','Fear')"
   ]
  },
  {
   "cell_type": "markdown",
   "metadata": {},
   "source": [
    "## Load data pre-nispat data"
   ]
  },
  {
   "cell_type": "code",
   "execution_count": 8,
   "metadata": {},
   "outputs": [
    {
     "name": "stdout",
     "output_type": "stream",
     "text": [
      "(410, 19)\n",
      "(983, 19)\n"
     ]
    }
   ],
   "source": [
    "# Train\n",
    "df_train = pd.read_csv(os.path.join(os.environ['NORMATIVEDIR'], 'train.csv'))\n",
    "df_train.set_index(['bblid', 'scanid'], inplace = True); print(df_train.shape)\n",
    "df_node_train = pd.read_csv(os.path.join(os.environ['NORMATIVEDIR'], 'resp_train.csv'))\n",
    "df_node_train.set_index(['bblid', 'scanid'], inplace = True)\n",
    "\n",
    "# Test\n",
    "df = pd.read_csv(os.path.join(os.environ['NORMATIVEDIR'], 'test.csv'))\n",
    "df.set_index(['bblid', 'scanid'], inplace = True); print(df.shape)\n",
    "df_node = pd.read_csv(os.path.join(os.environ['NORMATIVEDIR'], 'resp_test.csv'))\n",
    "df_node.set_index(['bblid', 'scanid'], inplace = True)"
   ]
  },
  {
   "cell_type": "markdown",
   "metadata": {},
   "source": [
    "### Regress age/sex out of psychopathology phenotypes and node features (not deviations)"
   ]
  },
  {
   "cell_type": "code",
   "execution_count": 9,
   "metadata": {},
   "outputs": [
    {
     "name": "stderr",
     "output_type": "stream",
     "text": [
      "/Users/lindenmp/.virtualenvs/NeuroDev_NetworkControl/lib/python3.7/site-packages/numpy/core/fromnumeric.py:2389: FutureWarning: Method .ptp is deprecated and will be removed in a future version. Use numpy.ptp instead.\n",
      "  return ptp(axis=axis, out=out, **kwargs)\n"
     ]
    }
   ],
   "source": [
    "df_nuis = df.loc[:,[primary_covariate,'sex_adj']]\n",
    "df_nuis = sm.add_constant(df_nuis)\n",
    "\n",
    "# phenos\n",
    "mdl = sm.OLS(df.loc[:,phenos], df_nuis).fit()\n",
    "y_pred = mdl.predict(df_nuis)\n",
    "y_pred.columns = phenos\n",
    "df.loc[:,phenos] = df.loc[:,phenos] - y_pred\n",
    "\n",
    "# df_node\n",
    "cols = df_node.columns\n",
    "mdl = sm.OLS(df_node.loc[:,cols], df_nuis).fit()\n",
    "y_pred = mdl.predict(df_nuis)\n",
    "y_pred.columns = cols\n",
    "df_node.loc[:,cols] = df_node.loc[:,cols] - y_pred"
   ]
  },
  {
   "cell_type": "code",
   "execution_count": 10,
   "metadata": {},
   "outputs": [],
   "source": [
    "# phenos = ('Overall_Psychopathology','Psychosis_Positive')\n",
    "# phenos = ('Psychosis_NegativeDisorg','AnxiousMisery')\n",
    "# phenos = ('Externalizing','Fear')"
   ]
  },
  {
   "cell_type": "markdown",
   "metadata": {},
   "source": [
    "## Age effects"
   ]
  },
  {
   "cell_type": "code",
   "execution_count": 11,
   "metadata": {},
   "outputs": [],
   "source": [
    "# regress out sex\n",
    "df_nuis = df_train.loc[:,'sex_adj']\n",
    "df_nuis = sm.add_constant(df_nuis)\n",
    "\n",
    "cols = df_node_train.columns\n",
    "mdl = sm.OLS(df_node_train.loc[:,cols].astype(float), df_nuis.astype(float)).fit()\n",
    "y_pred = mdl.predict(df_nuis)\n",
    "y_pred.columns = cols\n",
    "df_node_train.loc[:,cols] = df_node_train.loc[:,cols] - y_pred"
   ]
  },
  {
   "cell_type": "code",
   "execution_count": 12,
   "metadata": {},
   "outputs": [],
   "source": [
    "# age effect on training set\n",
    "df_age_effect = run_corr(df_train[primary_covariate], df_node_train, typ = 'spearmanr'); df_age_effect['p_fdr'] = get_fdr_p(df_age_effect['p'])\n",
    "age_alpha = 0.05\n",
    "age_filter = df_age_effect['p_fdr'].values < age_alpha"
   ]
  },
  {
   "cell_type": "code",
   "execution_count": 13,
   "metadata": {},
   "outputs": [
    {
     "data": {
      "text/plain": [
       "618"
      ]
     },
     "execution_count": 13,
     "metadata": {},
     "output_type": "execute_result"
    }
   ],
   "source": [
    "age_filter.sum()"
   ]
  },
  {
   "cell_type": "markdown",
   "metadata": {},
   "source": [
    "## Load nispat outputs"
   ]
  },
  {
   "cell_type": "code",
   "execution_count": 14,
   "metadata": {},
   "outputs": [],
   "source": [
    "smse = np.loadtxt(os.path.join(os.environ['NORMATIVEDIR'], 'smse.txt'), delimiter = ' ').transpose()\n",
    "df_smse = pd.DataFrame(data = smse, index = df_node.columns)\n",
    "\n",
    "z = np.loadtxt(os.path.join(os.environ['NORMATIVEDIR'], 'Z.txt'), delimiter = ' ').transpose()\n",
    "df_z = pd.DataFrame(data = z, index = df_node.index, columns = df_node.columns)"
   ]
  },
  {
   "cell_type": "code",
   "execution_count": 15,
   "metadata": {},
   "outputs": [],
   "source": [
    "smse_thresh = 1\n",
    "smse_filter = df_smse.values < smse_thresh\n",
    "smse_filter = smse_filter.reshape(-1)"
   ]
  },
  {
   "cell_type": "code",
   "execution_count": 16,
   "metadata": {},
   "outputs": [
    {
     "data": {
      "text/plain": [
       "762"
      ]
     },
     "execution_count": 16,
     "metadata": {},
     "output_type": "execute_result"
    }
   ],
   "source": [
    "smse_filter.sum()"
   ]
  },
  {
   "cell_type": "code",
   "execution_count": 17,
   "metadata": {},
   "outputs": [
    {
     "data": {
      "text/plain": [
       "607"
      ]
     },
     "execution_count": 17,
     "metadata": {},
     "output_type": "execute_result"
    }
   ],
   "source": [
    "region_filter = np.logical_and(age_filter,smse_filter)\n",
    "region_filter.sum()"
   ]
  },
  {
   "cell_type": "markdown",
   "metadata": {},
   "source": [
    "### The interpretation of the z-deviations varies as a function of the age-effect from which the normative model is primarily derived.\n",
    "### For instance, if the normative model predicts a _decrease_ in y with age, then _positive deviations_ may be interpreted as a **_delay_** in this maturational reduction, wheras _negative deviations_ may be interpreted as an _advancement_ in this maturational reduction.\n",
    "### However, if the normative model predicts an _increase_ in y with age, then the interpretation of the deviations is reversed. That is:\n",
    "#### IF predicted change = negative: _positive deviations_ = **_delay_** || _negative deviations_ = **_advance_**\n",
    "#### IF predicted change = positive: _positive deviations_ = **_advance_** || _negative deviations_ = **_delay_**"
   ]
  },
  {
   "cell_type": "code",
   "execution_count": 18,
   "metadata": {},
   "outputs": [
    {
     "name": "stdout",
     "output_type": "stream",
     "text": [
      "77\n"
     ]
    }
   ],
   "source": [
    "# boolean that designates which regions carry with positive predicted change.\n",
    "nm_is_pos = df_age_effect['coef'] > 0\n",
    "print(nm_is_pos.sum())\n",
    "\n",
    "# flipping the z-stats in these regions has the effect of standardising their interpration across the brain to be inline\n",
    "# with the negative predicted change statement above\n",
    "df_z.loc[:,nm_is_pos] = df_z.loc[:,nm_is_pos] * -1"
   ]
  },
  {
   "cell_type": "markdown",
   "metadata": {},
   "source": [
    "## Get pheno-metric relationshisps"
   ]
  },
  {
   "cell_type": "code",
   "execution_count": 19,
   "metadata": {},
   "outputs": [
    {
     "name": "stdout",
     "output_type": "stream",
     "text": [
      "Overall_Psychopathology\n",
      "Psychosis_Positive\n",
      "Psychosis_NegativeDisorg\n",
      "AnxiousMisery\n",
      "Externalizing\n",
      "Fear\n"
     ]
    }
   ],
   "source": [
    "if run_correlations:\n",
    "    df_pheno = pd.DataFrame(columns = ['pheno','node','coef', 'p'])\n",
    "    df_corr_input = pd.concat((df.loc[:,phenos], df_node), axis = 1)\n",
    "\n",
    "    for pheno in phenos:\n",
    "        print(pheno)\n",
    "        df_tmp = pd.DataFrame(index = df_node.columns, columns = ['coef', 'p'])\n",
    "        for col in df_node.columns:\n",
    "            df_tmp.loc[col,'coef'] = sp.stats.spearmanr(df_corr_input[pheno], df_corr_input[col])[0]\n",
    "            df_tmp.loc[col,'p'] = sp.stats.spearmanr(df_corr_input[pheno], df_corr_input[col])[1]\n",
    "        df_tmp.reset_index(inplace = True); df_tmp.rename(index=str, columns={'index': 'node'}, inplace = True); df_tmp['pheno'] = pheno\n",
    "        df_pheno = df_pheno.append(df_tmp, sort = False)\n",
    "\n",
    "    df_pheno.set_index(['pheno','node'], inplace = True)"
   ]
  },
  {
   "cell_type": "markdown",
   "metadata": {},
   "source": [
    "### Get null for pheno-metric"
   ]
  },
  {
   "cell_type": "code",
   "execution_count": 20,
   "metadata": {},
   "outputs": [],
   "source": [
    "if compute_perm_stats:\n",
    "    for pheno in phenos:\n",
    "        # Set seed for reproducibility\n",
    "        np.random.seed(0)\n",
    "        null = np.zeros((df_node.shape[1],num_perms))\n",
    "        df_tmp = pd.concat((df.loc[:,phenos], df_node), axis = 1)\n",
    "                                      \n",
    "        for j in range(num_perms):\n",
    "            update_progress(j / num_perms, pheno)\n",
    "            df_corr_input = df_tmp.copy()\n",
    "            df_corr_input.loc[:,df_node.columns] = df_corr_input.loc[:,df_node.columns].sample(frac = 1).values\n",
    "            for i, col in enumerate(df_node.columns):\n",
    "                null[i,j] = sp.stats.spearmanr(df_corr_input[pheno], df_corr_input[col])[0]\n",
    "\n",
    "        update_progress(1, pheno)\n",
    "        np.save(os.path.join(os.environ['NORMATIVEDIR'], 'null_' + pheno + '_m'), null)"
   ]
  },
  {
   "cell_type": "code",
   "execution_count": 21,
   "metadata": {},
   "outputs": [],
   "source": [
    "if compute_perm_stats == False:\n",
    "    nulls = {'Overall_Psychopathology': np.load(os.path.join(os.environ['NORMATIVEDIR'], 'null_Overall_Psychopathology_m.npy')),\n",
    "            'Psychosis_Positive': np.load(os.path.join(os.environ['NORMATIVEDIR'], 'null_Psychosis_Positive_m.npy')),\n",
    "            'Psychosis_NegativeDisorg': np.load(os.path.join(os.environ['NORMATIVEDIR'], 'null_Psychosis_NegativeDisorg_m.npy')),\n",
    "            'AnxiousMisery': np.load(os.path.join(os.environ['NORMATIVEDIR'], 'null_AnxiousMisery_m.npy')),\n",
    "            'Externalizing': np.load(os.path.join(os.environ['NORMATIVEDIR'], 'null_Externalizing_m.npy')),\n",
    "            'Fear': np.load(os.path.join(os.environ['NORMATIVEDIR'], 'null_Fear_m.npy'))}"
   ]
  },
  {
   "cell_type": "markdown",
   "metadata": {},
   "source": [
    "## Get pheno-nispat relationships"
   ]
  },
  {
   "cell_type": "code",
   "execution_count": 22,
   "metadata": {},
   "outputs": [
    {
     "name": "stdout",
     "output_type": "stream",
     "text": [
      "Overall_Psychopathology\n",
      "Psychosis_Positive\n",
      "Psychosis_NegativeDisorg\n",
      "AnxiousMisery\n",
      "Externalizing\n",
      "Fear\n"
     ]
    }
   ],
   "source": [
    "if run_correlations:\n",
    "    df_pheno_z = pd.DataFrame(columns = ['pheno','node','coef', 'p'])\n",
    "    df_corr_input = pd.concat((df.loc[:,phenos], df_z), axis = 1)\n",
    "\n",
    "    for pheno in phenos:\n",
    "        print(pheno)\n",
    "        df_tmp = pd.DataFrame(index = df_z.columns, columns = ['coef', 'p'])\n",
    "        for col in df_z.columns:\n",
    "            df_tmp.loc[col,'coef'] = sp.stats.spearmanr(df_corr_input[pheno], df_corr_input[col])[0]\n",
    "            df_tmp.loc[col,'p'] = sp.stats.spearmanr(df_corr_input[pheno], df_corr_input[col])[1]\n",
    "        df_tmp.reset_index(inplace = True); df_tmp.rename(index=str, columns={'index': 'node'}, inplace = True); df_tmp['pheno'] = pheno\n",
    "        df_pheno_z = df_pheno_z.append(df_tmp, sort = False)\n",
    "\n",
    "    df_pheno_z.set_index(['pheno','node'], inplace = True)\n",
    "    df_pheno_z = df_pheno_z.astype(float)"
   ]
  },
  {
   "cell_type": "markdown",
   "metadata": {},
   "source": [
    "### Get null for pheno-nispat "
   ]
  },
  {
   "cell_type": "code",
   "execution_count": 23,
   "metadata": {},
   "outputs": [],
   "source": [
    "if compute_perm_stats:\n",
    "    for pheno in phenos:\n",
    "        null = np.zeros((df_z.shape[1],num_perms))\n",
    "\n",
    "        for j in range(num_perms):\n",
    "            update_progress(j / num_perms, pheno)\n",
    "            # load permuted z-stats\n",
    "            permdir = os.path.join(os.environ['NORMATIVEDIR'], 'perm_all/perm_' + str(j))\n",
    "            z_file = os.path.join(permdir, 'Z.txt')\n",
    "            z_p = np.loadtxt(z_file, delimiter = ' ').transpose()\n",
    "            z_p[:,nm_is_pos.values] = z_p[:,nm_is_pos.values] * -1\n",
    "            z_p = pd.DataFrame(data = z_p, index = df_z.index, columns = df_z.columns)\n",
    "            df_corr_input = pd.concat((df.loc[:,phenos], z_p), axis = 1)\n",
    "            \n",
    "            for i, col in enumerate(df_z.columns):\n",
    "                null[i,j] = sp.stats.spearmanr(df_corr_input[pheno], df_corr_input[col])[0]\n",
    "        update_progress(1, pheno)\n",
    "\n",
    "        np.save(os.path.join(os.environ['NORMATIVEDIR'], 'null_' + pheno + '_z_pheno-res'), null)"
   ]
  },
  {
   "cell_type": "code",
   "execution_count": 24,
   "metadata": {},
   "outputs": [],
   "source": [
    "if compute_perm_stats == False:\n",
    "    nulls_z = {'Overall_Psychopathology': np.load(os.path.join(os.environ['NORMATIVEDIR'], 'null_Overall_Psychopathology_z_pheno-res.npy')),\n",
    "        'Psychosis_Positive': np.load(os.path.join(os.environ['NORMATIVEDIR'], 'null_Psychosis_Positive_z_pheno-res.npy')),\n",
    "        'Psychosis_NegativeDisorg': np.load(os.path.join(os.environ['NORMATIVEDIR'], 'null_Psychosis_NegativeDisorg_z_pheno-res.npy')),\n",
    "        'AnxiousMisery': np.load(os.path.join(os.environ['NORMATIVEDIR'], 'null_AnxiousMisery_z_pheno-res.npy')),\n",
    "        'Externalizing': np.load(os.path.join(os.environ['NORMATIVEDIR'], 'null_Externalizing_z_pheno-res.npy')),\n",
    "        'Fear': np.load(os.path.join(os.environ['NORMATIVEDIR'], 'null_Fear_z_pheno-res.npy'))}"
   ]
  },
  {
   "cell_type": "code",
   "execution_count": 25,
   "metadata": {},
   "outputs": [
    {
     "data": {
      "image/png": "[encoded data removed]",
      "text/plain": [
       "<Figure size 1080x360 with 2 Axes>"
      ]
     },
     "metadata": {},
     "output_type": "display_data"
    }
   ],
   "source": [
    "f, ax = plt.subplots(1,len(metrics))\n",
    "f.set_figwidth(15)\n",
    "f.set_figheight(5)\n",
    "for i, metric in enumerate(metrics):\n",
    "    for pheno in phenos:\n",
    "#         null = nulls[pheno]\n",
    "        null = nulls_z[pheno]\n",
    "        idx = [any(b in s for b in metric) for s in list(df_z.columns)]\n",
    "        null = null[idx,:]\n",
    "        # collapse all regions\n",
    "#         sns.distplot(np.abs(null.reshape(-1,1)[~np.isnan(null.reshape(-1,1))]), ax = ax[i])\n",
    "        # pick a region\n",
    "        sns.distplot(np.abs(null[0,:]), ax = ax[i])\n",
    "    \n",
    "    ax[i].legend(phenos)"
   ]
  },
  {
   "cell_type": "code",
   "execution_count": 26,
   "metadata": {},
   "outputs": [],
   "source": [
    "if run_correlations == False:\n",
    "    df_pheno = pd.read_csv(os.path.join(os.environ['NORMATIVEDIR'], 'df_corr_pheno.csv'))\n",
    "    df_pheno.set_index(['pheno','node'], inplace = True)\n",
    "    \n",
    "    df_pheno_z = pd.read_csv(os.path.join(os.environ['NORMATIVEDIR'], 'df_corr_pheno_z.csv'))\n",
    "    df_pheno_z.set_index(['pheno','node'], inplace = True)"
   ]
  },
  {
   "cell_type": "code",
   "execution_count": 27,
   "metadata": {},
   "outputs": [
    {
     "name": "stdout",
     "output_type": "stream",
     "text": [
      "40 significant effects (fdr)\n"
     ]
    }
   ],
   "source": [
    "for pheno in phenos:\n",
    "    df_pheno.loc[pheno,'p_perm'] = get_null_p(df_pheno.loc[pheno,'coef'].values, nulls[pheno])\n",
    "df_pheno.loc[:,'p_perm_fdr'] = get_fdr_p(df_pheno.loc[:,'p_perm'])\n",
    "print(str(np.sum(df_pheno['p_perm_fdr'] < .05)) + ' significant effects (fdr)')"
   ]
  },
  {
   "cell_type": "code",
   "execution_count": 28,
   "metadata": {},
   "outputs": [
    {
     "name": "stdout",
     "output_type": "stream",
     "text": [
      "594 significant effects (fdr)\n"
     ]
    },
    {
     "name": "stderr",
     "output_type": "stream",
     "text": [
      "/Users/lindenmp/Dropbox/Work/ResProjects/NormativeNeuroDev_CrossSec_T1/code/func/func.py:255: RuntimeWarning: invalid value encountered in greater_equal\n",
      "  p_perm[i] = np.sum(r_perm >= r_obs) / num_perms\n"
     ]
    }
   ],
   "source": [
    "for pheno in phenos:\n",
    "    df_pheno_z.loc[pheno,'p_perm'] = get_null_p(df_pheno_z.loc[pheno,'coef'].values, nulls_z[pheno])    \n",
    "df_pheno_z.loc[:,'p_perm_fdr'] = get_fdr_p(df_pheno_z.loc[:,'p_perm'])\n",
    "print(str(np.sum(df_pheno_z['p_perm_fdr'] < .05)) + ' significant effects (fdr)')"
   ]
  },
  {
   "cell_type": "code",
   "execution_count": 29,
   "metadata": {},
   "outputs": [
    {
     "name": "stdout",
     "output_type": "stream",
     "text": [
      "6\n",
      "0.05\n"
     ]
    }
   ],
   "source": [
    "alpha = 0.05\n",
    "print(len(phenos))\n",
    "print(alpha)"
   ]
  },
  {
   "cell_type": "code",
   "execution_count": 30,
   "metadata": {},
   "outputs": [
    {
     "name": "stdout",
     "output_type": "stream",
     "text": [
      "40 significant effects (fdr)\n",
      "29 significant effects (fdr)\n",
      "29 significant effects (fdr)\n",
      "594 significant effects (fdr)\n",
      "482 significant effects (fdr)\n",
      "478 significant effects (fdr)\n"
     ]
    }
   ],
   "source": [
    "x = df_pheno['p_perm_fdr'].values < alpha\n",
    "df_pheno['sig'] = x\n",
    "\n",
    "x = x.reshape(1,-1)\n",
    "y = np.matlib.repmat(age_filter, 1, len(phenos))\n",
    "z = np.matlib.repmat(smse_filter, 1, len(phenos))\n",
    "\n",
    "my_bool = np.concatenate((x, y)); region_filter = np.all(my_bool, axis = 0); df_pheno['sig_age'] = region_filter\n",
    "my_bool = np.concatenate((x, y, z)); region_filter = np.all(my_bool, axis = 0); df_pheno['sig_age_smse'] = region_filter\n",
    "\n",
    "print(str(np.sum(df_pheno['sig'] == True)) + ' significant effects (fdr)')\n",
    "print(str(np.sum(df_pheno['sig_age'] == True)) + ' significant effects (fdr)')\n",
    "print(str(np.sum(df_pheno['sig_age_smse'] == True)) + ' significant effects (fdr)')\n",
    "\n",
    "############\n",
    "x = df_pheno_z['p_perm_fdr'].values < alpha\n",
    "df_pheno_z['sig'] = x\n",
    "\n",
    "x = x.reshape(1,-1)\n",
    "y = np.matlib.repmat(age_filter, 1, len(phenos))\n",
    "z = np.matlib.repmat(smse_filter, 1, len(phenos))\n",
    "\n",
    "my_bool = np.concatenate((x, y)); region_filter = np.all(my_bool, axis = 0); df_pheno_z['sig_age'] = region_filter\n",
    "my_bool = np.concatenate((x, y, z)); region_filter = np.all(my_bool, axis = 0); df_pheno_z['sig_age_smse'] = region_filter\n",
    "\n",
    "print(str(np.sum(df_pheno_z['sig'] == True)) + ' significant effects (fdr)')\n",
    "print(str(np.sum(df_pheno_z['sig_age'] == True)) + ' significant effects (fdr)')\n",
    "print(str(np.sum(df_pheno_z['sig_age_smse'] == True)) + ' significant effects (fdr)')"
   ]
  },
  {
   "cell_type": "code",
   "execution_count": 31,
   "metadata": {},
   "outputs": [
    {
     "name": "stdout",
     "output_type": "stream",
     "text": [
      "Overall_Psychopathology: 6 significant effects (fdr)\n",
      "Psychosis_Positive: 9 significant effects (fdr)\n",
      "Psychosis_NegativeDisorg: 0 significant effects (fdr)\n",
      "AnxiousMisery: 0 significant effects (fdr)\n",
      "Externalizing: 2 significant effects (fdr)\n",
      "Fear: 12 significant effects (fdr)\n"
     ]
    }
   ],
   "source": [
    "for pheno in phenos:\n",
    "    print(pheno + ': ' + str(np.sum(df_pheno.loc[pheno]['sig_age_smse'] == True)) + ' significant effects (fdr)')"
   ]
  },
  {
   "cell_type": "code",
   "execution_count": 32,
   "metadata": {},
   "outputs": [
    {
     "name": "stdout",
     "output_type": "stream",
     "text": [
      "Overall_Psychopathology: 65 significant effects (fdr)\n",
      "Psychosis_Positive: 148 significant effects (fdr)\n",
      "Psychosis_NegativeDisorg: 97 significant effects (fdr)\n",
      "AnxiousMisery: 45 significant effects (fdr)\n",
      "Externalizing: 65 significant effects (fdr)\n",
      "Fear: 58 significant effects (fdr)\n"
     ]
    }
   ],
   "source": [
    "for pheno in phenos:\n",
    "    print(pheno + ': ' + str(np.sum(df_pheno_z.loc[pheno]['sig_age_smse'] == True)) + ' significant effects (fdr)')"
   ]
  },
  {
   "cell_type": "code",
   "execution_count": 33,
   "metadata": {},
   "outputs": [],
   "source": [
    "df_pheno.to_csv(os.path.join(os.environ['NORMATIVEDIR'], 'df_corr_pheno.csv'))\n",
    "df_pheno_z.to_csv(os.path.join(os.environ['NORMATIVEDIR'], 'df_corr_pheno_z.csv'))"
   ]
  },
  {
   "cell_type": "markdown",
   "metadata": {},
   "source": [
    "# Plots"
   ]
  },
  {
   "cell_type": "code",
   "execution_count": 34,
   "metadata": {},
   "outputs": [
    {
     "name": "stdout",
     "output_type": "stream",
     "text": [
      "('Overall_Psychopathology', 'Psychosis_Positive', 'Psychosis_NegativeDisorg', 'AnxiousMisery', 'Externalizing', 'Fear')\n",
      "('ct', 'vol')\n"
     ]
    }
   ],
   "source": [
    "if not os.path.exists(os.environ['FIGDIR']): os.makedirs(os.environ['FIGDIR'])\n",
    "os.chdir(os.environ['FIGDIR'])\n",
    "sns.set(style='white', context = 'paper', font_scale = 1)\n",
    "cmap = get_cmap('pair')\n",
    "\n",
    "phenos = ('Overall_Psychopathology','Psychosis_Positive','Psychosis_NegativeDisorg','AnxiousMisery','Externalizing','Fear')\n",
    "phenos_label_short = ('Ov. Psych.', 'Psy. (pos.)', 'Psy. (neg.)', 'Anx.-mis.', 'Ext.', 'Fear')\n",
    "phenos_label = ('Overall Psychopathology','Psychosis (Positive)','Psychosis (Negative)','Anxious-Misery','Externalizing','Fear')\n",
    "metrics = ('ct', 'vol')\n",
    "metrics_label_short = ('Thickness', 'Volume')\n",
    "metrics_label = ('Thickness', 'Volume')\n",
    "\n",
    "print(phenos)\n",
    "print(metrics)\n",
    "\n",
    "metrics_labels = list()\n",
    "for metric in metrics:\n",
    "    tmp_labels = [metric + '_' + str(i) for i in range(num_parcels)]\n",
    "    metrics_labels = metrics_labels + tmp_labels"
   ]
  },
  {
   "cell_type": "markdown",
   "metadata": {},
   "source": [
    "## Number of sig effects"
   ]
  },
  {
   "cell_type": "code",
   "execution_count": 35,
   "metadata": {},
   "outputs": [],
   "source": [
    "arrays = [tuple(['pre-nm'] * len(metrics) + ['nm'] * len(metrics)), metrics + metrics]\n",
    "my_index = pd.MultiIndex.from_arrays(arrays, names=('analysis', 'metric'))\n",
    "pos_counts = pd.DataFrame(index = my_index, columns = phenos)\n",
    "neg_counts = pd.DataFrame(index = my_index, columns = phenos)"
   ]
  },
  {
   "cell_type": "code",
   "execution_count": 36,
   "metadata": {},
   "outputs": [],
   "source": [
    "for pheno in phenos:\n",
    "    for metric in metrics:\n",
    "        age_filt = df_age_effect.filter(regex = metric, axis = 0)['p_fdr'].values < age_alpha\n",
    "        smse_filt = df_smse.filter(regex = metric, axis = 0).values < smse_thresh\n",
    "        smse_filt = smse_filt.reshape(-1)\n",
    "        region_filt = np.logical_and(age_filt,smse_filt)\n",
    "        \n",
    "        df_tmp = df_pheno.loc[pheno,['coef','sig_age_smse']].filter(regex = metric, axis = 0).copy()\n",
    "        pos_counts.loc[('pre-nm',metric),pheno] = df_tmp.loc[df_tmp['coef']>0,'sig_age_smse'].sum() / num_parcels*100\n",
    "        neg_counts.loc[('pre-nm',metric),pheno] = df_tmp.loc[df_tmp['coef']<0,'sig_age_smse'].sum() / num_parcels*100\n",
    "        \n",
    "        df_tmp = df_pheno_z.loc[pheno,['coef','sig_age_smse']].filter(regex = metric, axis = 0).copy()\n",
    "        pos_counts.loc[('nm',metric),pheno] = df_tmp.loc[df_tmp['coef']>0,'sig_age_smse'].sum() / num_parcels*100\n",
    "        neg_counts.loc[('nm',metric),pheno] = df_tmp.loc[df_tmp['coef']<0,'sig_age_smse'].sum() / num_parcels*100"
   ]
  },
  {
   "cell_type": "code",
   "execution_count": 37,
   "metadata": {},
   "outputs": [
    {
     "data": {
      "text/html": [
       "<div>\n",
       "<style scoped>\n",
       "    .dataframe tbody tr th:only-of-type {\n",
       "        vertical-align: middle;\n",
       "    }\n",
       "\n",
       "    .dataframe tbody tr th {\n",
       "        vertical-align: top;\n",
       "    }\n",
       "\n",
       "    .dataframe thead th {\n",
       "        text-align: right;\n",
       "    }\n",
       "</style>\n",
       "<table border=\"1\" class=\"dataframe\">\n",
       "  <thead>\n",
       "    <tr style=\"text-align: right;\">\n",
       "      <th></th>\n",
       "      <th></th>\n",
       "      <th>Overall_Psychopathology</th>\n",
       "      <th>Psychosis_Positive</th>\n",
       "      <th>Psychosis_NegativeDisorg</th>\n",
       "      <th>AnxiousMisery</th>\n",
       "      <th>Externalizing</th>\n",
       "      <th>Fear</th>\n",
       "    </tr>\n",
       "    <tr>\n",
       "      <th>analysis</th>\n",
       "      <th>metric</th>\n",
       "      <th></th>\n",
       "      <th></th>\n",
       "      <th></th>\n",
       "      <th></th>\n",
       "      <th></th>\n",
       "      <th></th>\n",
       "    </tr>\n",
       "  </thead>\n",
       "  <tbody>\n",
       "    <tr>\n",
       "      <th rowspan=\"2\" valign=\"top\">pre-nm</th>\n",
       "      <th>ct</th>\n",
       "      <td>0</td>\n",
       "      <td>0</td>\n",
       "      <td>0</td>\n",
       "      <td>0</td>\n",
       "      <td>0</td>\n",
       "      <td>0</td>\n",
       "    </tr>\n",
       "    <tr>\n",
       "      <th>vol</th>\n",
       "      <td>0</td>\n",
       "      <td>0</td>\n",
       "      <td>0</td>\n",
       "      <td>0</td>\n",
       "      <td>0</td>\n",
       "      <td>0</td>\n",
       "    </tr>\n",
       "    <tr>\n",
       "      <th rowspan=\"2\" valign=\"top\">nm</th>\n",
       "      <th>ct</th>\n",
       "      <td>6.25</td>\n",
       "      <td>1</td>\n",
       "      <td>0</td>\n",
       "      <td>2.5</td>\n",
       "      <td>1</td>\n",
       "      <td>1.25</td>\n",
       "    </tr>\n",
       "    <tr>\n",
       "      <th>vol</th>\n",
       "      <td>0.75</td>\n",
       "      <td>0.75</td>\n",
       "      <td>0.25</td>\n",
       "      <td>4</td>\n",
       "      <td>0.25</td>\n",
       "      <td>1.75</td>\n",
       "    </tr>\n",
       "  </tbody>\n",
       "</table>\n",
       "</div>"
      ],
      "text/plain": [
       "                Overall_Psychopathology Psychosis_Positive  \\\n",
       "analysis metric                                              \n",
       "pre-nm   ct                           0                  0   \n",
       "         vol                          0                  0   \n",
       "nm       ct                        6.25                  1   \n",
       "         vol                       0.75               0.75   \n",
       "\n",
       "                Psychosis_NegativeDisorg AnxiousMisery Externalizing  Fear  \n",
       "analysis metric                                                             \n",
       "pre-nm   ct                            0             0             0     0  \n",
       "         vol                           0             0             0     0  \n",
       "nm       ct                            0           2.5             1  1.25  \n",
       "         vol                        0.25             4          0.25  1.75  "
      ]
     },
     "execution_count": 37,
     "metadata": {},
     "output_type": "execute_result"
    }
   ],
   "source": [
    "pos_counts"
   ]
  },
  {
   "cell_type": "code",
   "execution_count": 38,
   "metadata": {},
   "outputs": [
    {
     "name": "stdout",
     "output_type": "stream",
     "text": [
      "20.0\n"
     ]
    }
   ],
   "source": [
    "if np.max(pos_counts.values) > np.max(neg_counts.values):\n",
    "    plot_max = np.round(np.max(pos_counts.values),0)\n",
    "elif np.max(pos_counts.values) < np.max(neg_counts.values):\n",
    "    plot_max = np.round(np.max(neg_counts.values),0)\n",
    "elif np.max(pos_counts.values) == np.max(neg_counts.values):\n",
    "    plot_max = np.round(np.max(pos_counts.values),0)\n",
    "print(plot_max)"
   ]
  },
  {
   "cell_type": "markdown",
   "metadata": {},
   "source": [
    "Figure 3A"
   ]
  },
  {
   "cell_type": "code",
   "execution_count": 39,
   "metadata": {},
   "outputs": [
    {
     "data": {
      "image/png": "[encoded data removed]",
      "text/plain": [
       "<Figure size 216x198 with 2 Axes>"
      ]
     },
     "metadata": {},
     "output_type": "display_data"
    }
   ],
   "source": [
    "f, ax = plt.subplots()\n",
    "f.set_figwidth(3)\n",
    "f.set_figheight(2.75)\n",
    "ax = sns.heatmap(np.round(pos_counts.astype(float),1), center = 0, vmax = plot_max, annot = True, cmap = 'RdBu_r')\n",
    "ax.set_xticklabels(phenos_label_short, rotation = 45)\n",
    "ax.set_yticklabels(metrics_label_short + metrics_label_short)\n",
    "ax.set_ylabel('')\n",
    "f.savefig('pos_count.svg', dpi = 300, bbox_inches = 'tight', pad_inches = 0)"
   ]
  },
  {
   "cell_type": "code",
   "execution_count": 40,
   "metadata": {},
   "outputs": [
    {
     "data": {
      "image/png": "[encoded data removed]",
      "text/plain": [
       "<Figure size 216x198 with 2 Axes>"
      ]
     },
     "metadata": {},
     "output_type": "display_data"
    }
   ],
   "source": [
    "f, ax = plt.subplots()\n",
    "f.set_figwidth(3)\n",
    "f.set_figheight(2.75)\n",
    "ax = sns.heatmap(np.round(neg_counts.astype(float),1), center = 0, vmax = plot_max, annot = True, cmap = 'RdBu', cbar_kws={'label': 'Percentage of regions'})\n",
    "ax.set_xticklabels(phenos_label_short, rotation = 45)\n",
    "ax.set_yticklabels('')\n",
    "ax.set_ylabel('')\n",
    "f.savefig('neg_count.svg', dpi = 300, bbox_inches = 'tight', pad_inches = 0)"
   ]
  },
  {
   "cell_type": "code",
   "execution_count": 41,
   "metadata": {},
   "outputs": [],
   "source": [
    "num_sig_regions = pd.DataFrame(index = metrics, columns = phenos)\n",
    "counts_greater = pd.DataFrame(index = metrics, columns = phenos)\n",
    "counts_smaller = pd.DataFrame(index = metrics, columns = phenos)\n",
    "\n",
    "for i, metric in enumerate(metrics):\n",
    "    for j, pheno in enumerate(phenos):\n",
    "        df_tmp = df_pheno.loc[pheno,['coef','sig_age_smse']].filter(regex = metric, axis = 0).copy()\n",
    "        df_tmp_z = df_pheno_z.loc[pheno,['coef','sig_age_smse']].filter(regex = metric, axis = 0).copy()\n",
    "        \n",
    "        count_great = 0\n",
    "        count_small = 0\n",
    "        for col, _ in df_tmp_z.loc[df_tmp_z['sig_age_smse'],:].iterrows():\n",
    "#         for col, _ in df_tmp.loc[df_tmp['sig_age_smse'],:].iterrows():\n",
    "            xy = np.abs(df_tmp_z.loc[col,'coef']) # correlation between phenotype and deviation\n",
    "            xz = np.abs(df_tmp.loc[col,'coef']) # correlation between phenotype and brain feature\n",
    "            yz = np.abs(sp.stats.spearmanr(df_node[col],df_z[col])[0]) # correlation deviation and brain feature\n",
    "            r = dependent_corr(xy, xz, yz, df_z.shape[0], twotailed=True) # test for difference between correlations\n",
    "            if r[0] > 0 and r[1] < .05: # if difference is positive and significant, then normative analysis yielded bigger effect size\n",
    "                count_great += 1\n",
    "            elif r[0] < 0 and r[1] < .05: # if difference is negative and significant, then normative analysis yielded smaller effect size\n",
    "                count_small += 1\n",
    "        # store\n",
    "        counts_greater.loc[metric,pheno] = count_great\n",
    "        counts_smaller.loc[metric,pheno] = count_small"
   ]
  },
  {
   "cell_type": "code",
   "execution_count": 42,
   "metadata": {},
   "outputs": [
    {
     "data": {
      "text/html": [
       "<div>\n",
       "<style scoped>\n",
       "    .dataframe tbody tr th:only-of-type {\n",
       "        vertical-align: middle;\n",
       "    }\n",
       "\n",
       "    .dataframe tbody tr th {\n",
       "        vertical-align: top;\n",
       "    }\n",
       "\n",
       "    .dataframe thead th {\n",
       "        text-align: right;\n",
       "    }\n",
       "</style>\n",
       "<table border=\"1\" class=\"dataframe\">\n",
       "  <thead>\n",
       "    <tr style=\"text-align: right;\">\n",
       "      <th></th>\n",
       "      <th>Overall_Psychopathology</th>\n",
       "      <th>Psychosis_Positive</th>\n",
       "      <th>Psychosis_NegativeDisorg</th>\n",
       "      <th>AnxiousMisery</th>\n",
       "      <th>Externalizing</th>\n",
       "      <th>Fear</th>\n",
       "    </tr>\n",
       "  </thead>\n",
       "  <tbody>\n",
       "    <tr>\n",
       "      <th>ct</th>\n",
       "      <td>6</td>\n",
       "      <td>13</td>\n",
       "      <td>0</td>\n",
       "      <td>3</td>\n",
       "      <td>2</td>\n",
       "      <td>6</td>\n",
       "    </tr>\n",
       "    <tr>\n",
       "      <th>vol</th>\n",
       "      <td>10</td>\n",
       "      <td>36</td>\n",
       "      <td>0</td>\n",
       "      <td>2</td>\n",
       "      <td>0</td>\n",
       "      <td>16</td>\n",
       "    </tr>\n",
       "  </tbody>\n",
       "</table>\n",
       "</div>"
      ],
      "text/plain": [
       "     Overall_Psychopathology  Psychosis_Positive  Psychosis_NegativeDisorg  \\\n",
       "ct                         6                  13                         0   \n",
       "vol                       10                  36                         0   \n",
       "\n",
       "     AnxiousMisery  Externalizing  Fear  \n",
       "ct               3              2     6  \n",
       "vol              2              0    16  "
      ]
     },
     "execution_count": 42,
     "metadata": {},
     "output_type": "execute_result"
    }
   ],
   "source": [
    "counts_greater"
   ]
  },
  {
   "cell_type": "code",
   "execution_count": 43,
   "metadata": {},
   "outputs": [
    {
     "data": {
      "text/html": [
       "<div>\n",
       "<style scoped>\n",
       "    .dataframe tbody tr th:only-of-type {\n",
       "        vertical-align: middle;\n",
       "    }\n",
       "\n",
       "    .dataframe tbody tr th {\n",
       "        vertical-align: top;\n",
       "    }\n",
       "\n",
       "    .dataframe thead th {\n",
       "        text-align: right;\n",
       "    }\n",
       "</style>\n",
       "<table border=\"1\" class=\"dataframe\">\n",
       "  <thead>\n",
       "    <tr style=\"text-align: right;\">\n",
       "      <th></th>\n",
       "      <th>Overall_Psychopathology</th>\n",
       "      <th>Psychosis_Positive</th>\n",
       "      <th>Psychosis_NegativeDisorg</th>\n",
       "      <th>AnxiousMisery</th>\n",
       "      <th>Externalizing</th>\n",
       "      <th>Fear</th>\n",
       "    </tr>\n",
       "  </thead>\n",
       "  <tbody>\n",
       "    <tr>\n",
       "      <th>ct</th>\n",
       "      <td>0</td>\n",
       "      <td>1</td>\n",
       "      <td>0</td>\n",
       "      <td>0</td>\n",
       "      <td>0</td>\n",
       "      <td>0</td>\n",
       "    </tr>\n",
       "    <tr>\n",
       "      <th>vol</th>\n",
       "      <td>0</td>\n",
       "      <td>0</td>\n",
       "      <td>0</td>\n",
       "      <td>0</td>\n",
       "      <td>0</td>\n",
       "      <td>0</td>\n",
       "    </tr>\n",
       "  </tbody>\n",
       "</table>\n",
       "</div>"
      ],
      "text/plain": [
       "     Overall_Psychopathology  Psychosis_Positive  Psychosis_NegativeDisorg  \\\n",
       "ct                         0                   1                         0   \n",
       "vol                        0                   0                         0   \n",
       "\n",
       "     AnxiousMisery  Externalizing  Fear  \n",
       "ct               0              0     0  \n",
       "vol              0              0     0  "
      ]
     },
     "execution_count": 43,
     "metadata": {},
     "output_type": "execute_result"
    }
   ],
   "source": [
    "counts_smaller"
   ]
  },
  {
   "cell_type": "markdown",
   "metadata": {},
   "source": [
    "## Summarise effects over Yeo networks"
   ]
  },
  {
   "cell_type": "code",
   "execution_count": 44,
   "metadata": {},
   "outputs": [],
   "source": [
    "sns.set(style='white', context = 'paper', font_scale = 0.7)"
   ]
  },
  {
   "cell_type": "markdown",
   "metadata": {},
   "source": [
    "Figure 4"
   ]
  },
  {
   "cell_type": "code",
   "execution_count": 45,
   "metadata": {},
   "outputs": [
    {
     "name": "stderr",
     "output_type": "stream",
     "text": [
      "/Users/lindenmp/.virtualenvs/NeuroDev_NetworkControl/lib/python3.7/site-packages/numpy/core/fromnumeric.py:3118: RuntimeWarning: Mean of empty slice.\n",
      "  out=out, **kwargs)\n",
      "/Users/lindenmp/.virtualenvs/NeuroDev_NetworkControl/lib/python3.7/site-packages/numpy/core/_methods.py:85: RuntimeWarning: invalid value encountered in double_scalars\n",
      "  ret = ret.dtype.type(ret / rcount)\n"
     ]
    },
    {
     "data": {
      "image/png": "[encoded data removed]",
      "text/plain": [
       "<Figure size 100.8x90 with 1 Axes>"
      ]
     },
     "metadata": {},
     "output_type": "display_data"
    },
    {
     "data": {
      "image/png": "[encoded data removed]",
      "text/plain": [
       "<Figure size 100.8x90 with 1 Axes>"
      ]
     },
     "metadata": {},
     "output_type": "display_data"
    },
    {
     "data": {
      "image/png": "[encoded data removed]",
      "text/plain": [
       "<Figure size 100.8x90 with 1 Axes>"
      ]
     },
     "metadata": {},
     "output_type": "display_data"
    },
    {
     "data": {
      "image/png": "[encoded data removed]",
      "text/plain": [
       "<Figure size 100.8x90 with 1 Axes>"
      ]
     },
     "metadata": {},
     "output_type": "display_data"
    },
    {
     "data": {
      "image/png": "[encoded data removed]",
      "text/plain": [
       "<Figure size 100.8x90 with 1 Axes>"
      ]
     },
     "metadata": {},
     "output_type": "display_data"
    },
    {
     "data": {
      "image/png": "[encoded data removed]",
      "text/plain": [
       "<Figure size 100.8x90 with 1 Axes>"
      ]
     },
     "metadata": {},
     "output_type": "display_data"
    },
    {
     "data": {
      "image/png": "[encoded data removed]",
      "text/plain": [
       "<Figure size 100.8x90 with 1 Axes>"
      ]
     },
     "metadata": {},
     "output_type": "display_data"
    },
    {
     "data": {
      "image/png": "[encoded data removed]",
      "text/plain": [
       "<Figure size 100.8x90 with 1 Axes>"
      ]
     },
     "metadata": {},
     "output_type": "display_data"
    },
    {
     "data": {
      "image/png": "[encoded data removed]",
      "text/plain": [
       "<Figure size 100.8x90 with 1 Axes>"
      ]
     },
     "metadata": {},
     "output_type": "display_data"
    },
    {
     "data": {
      "image/png": "[encoded data removed]",
      "text/plain": [
       "<Figure size 100.8x90 with 1 Axes>"
      ]
     },
     "metadata": {},
     "output_type": "display_data"
    },
    {
     "data": {
      "image/png": "[encoded data removed]",
      "text/plain": [
       "<Figure size 100.8x90 with 1 Axes>"
      ]
     },
     "metadata": {},
     "output_type": "display_data"
    },
    {
     "data": {
      "image/png": "[encoded data removed]",
      "text/plain": [
       "<Figure size 100.8x90 with 1 Axes>"
      ]
     },
     "metadata": {},
     "output_type": "display_data"
    }
   ],
   "source": [
    "for i, pheno in enumerate(phenos):\n",
    "    pheno_label = phenos_label[i]\n",
    "    for j, metric in enumerate(metrics):\n",
    "        metric_label = metrics_label[j]\n",
    "\n",
    "        # Get coefficients and p-vals for phenotype effects\n",
    "        coef = df_pheno_z.loc[pheno].filter(regex = metric, axis = 0)['coef'].values\n",
    "        p_vals = df_pheno_z.loc[pheno].filter(regex = metric, axis = 0)['p_perm_fdr'].values # only plot significant coefficients\n",
    "        sig = df_pheno_z.loc[pheno].filter(regex = metric, axis = 0)['sig_age_smse'].values\n",
    "        p_vals[~sig] = 1\n",
    "    \n",
    "        # Summarise phenotype effects over systems\n",
    "        # present mean effect in system\n",
    "        sys_summary = get_sys_summary(coef, p_vals, yeo_idx, method = 'mean', alpha = alpha, signed = False)\n",
    "        f, ax = prop_bar_plot(sys_summary, np.ones(sys_summary.shape), labels = '', which_colors = 'yeo17', axlim = 0.1, title_str = pheno_label + ': \\n' + metric_label, fig_size = [1.4,1.25])\n",
    "        f.savefig('corr_bar_' + pheno + '_' + metric + '_z.svg', dpi = 300, bbox_inches = 'tight', pad_inches = 0)"
   ]
  },
  {
   "cell_type": "markdown",
   "metadata": {},
   "source": [
    "## Brain plots nispat"
   ]
  },
  {
   "cell_type": "code",
   "execution_count": 46,
   "metadata": {},
   "outputs": [],
   "source": [
    "import matplotlib.image as mpimg\n",
    "from brain_plot_func import roi_to_vtx, brain_plot"
   ]
  },
  {
   "cell_type": "code",
   "execution_count": 47,
   "metadata": {},
   "outputs": [],
   "source": [
    "subject_id = 'fsaverage'"
   ]
  },
  {
   "cell_type": "code",
   "execution_count": 48,
   "metadata": {},
   "outputs": [
    {
     "name": "stdout",
     "output_type": "stream",
     "text": [
      "Populating the interactive namespace from numpy and matplotlib\n"
     ]
    },
    {
     "name": "stderr",
     "output_type": "stream",
     "text": [
      "/Users/lindenmp/.virtualenvs/NeuroDev_NetworkControl/lib/python3.7/site-packages/IPython/core/magics/pylab.py:160: UserWarning: pylab import has clobbered these variables: ['get_cmap', 'f']\n",
      "`%matplotlib` prevents importing * from pylab and numpy\n",
      "  \"\\n`%matplotlib` prevents importing * from pylab and numpy\"\n"
     ]
    }
   ],
   "source": [
    "%pylab qt"
   ]
  },
  {
   "cell_type": "markdown",
   "metadata": {},
   "source": [
    "## Brain plots nispat"
   ]
  },
  {
   "cell_type": "code",
   "execution_count": 49,
   "metadata": {},
   "outputs": [
    {
     "name": "stdout",
     "output_type": "stream",
     "text": [
      "Overall_Psychopathology ct\n",
      "0.07999227642865983\n",
      "colormap divergent: center=0.00e+00, [0.00e+00, 4.00e-02, 8.00e-02] (opaque)\n",
      "colormap divergent: center=0.00e+00, [0.00e+00, 4.00e-02, 8.00e-02] (opaque)\n",
      "Overall_Psychopathology ct\n",
      "0.0891836876394509\n",
      "colormap divergent: center=0.00e+00, [0.00e+00, 4.46e-02, 8.92e-02] (opaque)\n",
      "colormap divergent: center=0.00e+00, [0.00e+00, 4.46e-02, 8.92e-02] (opaque)\n",
      "Overall_Psychopathology vol\n",
      "0.08419630925633169\n",
      "colormap divergent: center=0.00e+00, [0.00e+00, 4.21e-02, 8.42e-02] (opaque)\n",
      "colormap divergent: center=0.00e+00, [0.00e+00, 4.21e-02, 8.42e-02] (opaque)\n",
      "Overall_Psychopathology vol\n",
      "0.09363594098796557\n",
      "colormap divergent: center=0.00e+00, [0.00e+00, 4.68e-02, 9.36e-02] (opaque)\n",
      "colormap divergent: center=0.00e+00, [0.00e+00, 4.68e-02, 9.36e-02] (opaque)\n",
      "Psychosis_Positive ct\n",
      "0.07673851228673956\n",
      "colormap divergent: center=0.00e+00, [0.00e+00, 3.84e-02, 7.67e-02] (opaque)\n",
      "colormap divergent: center=0.00e+00, [0.00e+00, 3.84e-02, 7.67e-02] (opaque)\n",
      "Psychosis_Positive ct\n",
      "0.12692931997350212\n",
      "colormap divergent: center=0.00e+00, [0.00e+00, 6.35e-02, 1.27e-01] (opaque)\n",
      "colormap divergent: center=0.00e+00, [0.00e+00, 6.35e-02, 1.27e-01] (opaque)\n",
      "Psychosis_Positive vol\n",
      "0.12751975066417476\n",
      "colormap divergent: center=0.00e+00, [0.00e+00, 6.38e-02, 1.28e-01] (opaque)\n",
      "colormap divergent: center=0.00e+00, [0.00e+00, 6.38e-02, 1.28e-01] (opaque)\n",
      "Psychosis_Positive vol\n",
      "0.14469957283354556\n",
      "colormap divergent: center=0.00e+00, [0.00e+00, 7.23e-02, 1.45e-01] (opaque)\n",
      "colormap divergent: center=0.00e+00, [0.00e+00, 7.23e-02, 1.45e-01] (opaque)\n",
      "Psychosis_NegativeDisorg ct\n",
      "0.04255621356614682\n",
      "colormap divergent: center=0.00e+00, [0.00e+00, 2.13e-02, 4.26e-02] (opaque)\n",
      "colormap divergent: center=0.00e+00, [0.00e+00, 2.13e-02, 4.26e-02] (opaque)\n",
      "Psychosis_NegativeDisorg ct\n",
      "0.053347597650445534\n",
      "colormap divergent: center=0.00e+00, [0.00e+00, 2.67e-02, 5.33e-02] (opaque)\n",
      "colormap divergent: center=0.00e+00, [0.00e+00, 2.67e-02, 5.33e-02] (opaque)\n",
      "Psychosis_NegativeDisorg vol\n",
      "0.08629844053494372\n",
      "colormap divergent: center=0.00e+00, [0.00e+00, 4.31e-02, 8.63e-02] (opaque)\n",
      "colormap divergent: center=0.00e+00, [0.00e+00, 4.31e-02, 8.63e-02] (opaque)\n",
      "Psychosis_NegativeDisorg vol\n",
      "0.08097664216892683\n",
      "colormap divergent: center=0.00e+00, [0.00e+00, 4.05e-02, 8.10e-02] (opaque)\n",
      "colormap divergent: center=0.00e+00, [0.00e+00, 4.05e-02, 8.10e-02] (opaque)\n",
      "AnxiousMisery ct\n",
      "0.060785767263083976\n",
      "colormap divergent: center=0.00e+00, [0.00e+00, 3.04e-02, 6.08e-02] (opaque)\n",
      "colormap divergent: center=0.00e+00, [0.00e+00, 3.04e-02, 6.08e-02] (opaque)\n",
      "AnxiousMisery ct\n",
      "0.05749517668427446\n",
      "colormap divergent: center=0.00e+00, [0.00e+00, 2.87e-02, 5.75e-02] (opaque)\n",
      "colormap divergent: center=0.00e+00, [0.00e+00, 2.87e-02, 5.75e-02] (opaque)\n",
      "AnxiousMisery vol\n",
      "0.10542242816166518\n",
      "colormap divergent: center=0.00e+00, [0.00e+00, 5.27e-02, 1.05e-01] (opaque)\n",
      "colormap divergent: center=0.00e+00, [0.00e+00, 5.27e-02, 1.05e-01] (opaque)\n",
      "AnxiousMisery vol\n",
      "0.06789291649006848\n",
      "colormap divergent: center=0.00e+00, [0.00e+00, 3.39e-02, 6.79e-02] (opaque)\n",
      "colormap divergent: center=0.00e+00, [0.00e+00, 3.39e-02, 6.79e-02] (opaque)\n",
      "Externalizing ct\n",
      "0.10224633432300223\n",
      "colormap divergent: center=0.00e+00, [0.00e+00, 5.11e-02, 1.02e-01] (opaque)\n",
      "colormap divergent: center=0.00e+00, [0.00e+00, 5.11e-02, 1.02e-01] (opaque)\n",
      "Externalizing ct\n",
      "0.12295435143957638\n",
      "colormap divergent: center=0.00e+00, [0.00e+00, 6.15e-02, 1.23e-01] (opaque)\n",
      "colormap divergent: center=0.00e+00, [0.00e+00, 6.15e-02, 1.23e-01] (opaque)\n",
      "Externalizing vol\n",
      "0.11511700382812076\n",
      "colormap divergent: center=0.00e+00, [0.00e+00, 5.76e-02, 1.15e-01] (opaque)\n",
      "colormap divergent: center=0.00e+00, [0.00e+00, 5.76e-02, 1.15e-01] (opaque)\n",
      "Externalizing vol\n",
      "0.09195335211001557\n",
      "colormap divergent: center=0.00e+00, [0.00e+00, 4.60e-02, 9.20e-02] (opaque)\n",
      "colormap divergent: center=0.00e+00, [0.00e+00, 4.60e-02, 9.20e-02] (opaque)\n",
      "Fear ct\n",
      "0.11769443714372792\n",
      "colormap divergent: center=0.00e+00, [0.00e+00, 5.88e-02, 1.18e-01] (opaque)\n",
      "colormap divergent: center=0.00e+00, [0.00e+00, 5.88e-02, 1.18e-01] (opaque)\n",
      "Fear ct\n",
      "0.10052587646540793\n",
      "colormap divergent: center=0.00e+00, [0.00e+00, 5.03e-02, 1.01e-01] (opaque)\n",
      "colormap divergent: center=0.00e+00, [0.00e+00, 5.03e-02, 1.01e-01] (opaque)\n",
      "Fear vol\n",
      "0.12312522562114657\n",
      "colormap divergent: center=0.00e+00, [0.00e+00, 6.16e-02, 1.23e-01] (opaque)\n",
      "colormap divergent: center=0.00e+00, [0.00e+00, 6.16e-02, 1.23e-01] (opaque)\n",
      "Fear vol\n",
      "0.11292751703200597\n",
      "colormap divergent: center=0.00e+00, [0.00e+00, 5.65e-02, 1.13e-01] (opaque)\n",
      "colormap divergent: center=0.00e+00, [0.00e+00, 5.65e-02, 1.13e-01] (opaque)\n"
     ]
    }
   ],
   "source": [
    "for pheno in phenos:\n",
    "    for metric in metrics:\n",
    "        for hemi in ('lh', 'rh'):\n",
    "            print(pheno, metric)\n",
    "            # Plots of univariate pheno correlation\n",
    "            fig_str = hemi + '_' + pheno + '_' + metric + '_z'\n",
    "            roi_data = df_pheno_z.loc[pheno].filter(regex = metric, axis = 0)['coef'].values\n",
    "            sig = df_pheno_z.loc[pheno].filter(regex = metric, axis = 0)['sig_age_smse']\n",
    "\n",
    "            roi_data[~sig] = -1000\n",
    "\n",
    "            if any(sig):\n",
    "                parc_file = os.path.join('/Users/lindenmp/Dropbox/Work/ResProjects/NormativeNeuroDev_CrossSec/figs_support/Parcellations/FreeSurfer5.3/fsaverage/label/',\n",
    "                                             hemi + '.Schaefer2018_' + str(parc_scale) + 'Parcels_17Networks_order.annot')\n",
    "                # project subject's data to vertices\n",
    "                brain_plot(roi_data, parcel_names, parc_file, fig_str, subject_id = subject_id, hemi = hemi)\n",
    "            else:\n",
    "                print('Nothing significant')"
   ]
  },
  {
   "cell_type": "code",
   "execution_count": 50,
   "metadata": {},
   "outputs": [],
   "source": [
    "%matplotlib inline"
   ]
  },
  {
   "cell_type": "markdown",
   "metadata": {},
   "source": [
    "Figure 4A"
   ]
  },
  {
   "cell_type": "code",
   "execution_count": 51,
   "metadata": {},
   "outputs": [
    {
     "name": "stdout",
     "output_type": "stream",
     "text": [
      "Overall_Psychopathology\n",
      "ct\n"
     ]
    },
    {
     "data": {
      "image/png": "[encoded data removed]",
      "text/plain": [
       "<Figure size 288x288 with 4 Axes>"
      ]
     },
     "metadata": {
      "needs_background": "light"
     },
     "output_type": "display_data"
    }
   ],
   "source": [
    "f, axes = plt.subplots(2, 2)\n",
    "f.set_figwidth(4)\n",
    "f.set_figheight(4)\n",
    "plt.subplots_adjust(wspace=0, hspace=0)\n",
    "\n",
    "pheno = phenos[0]; print(pheno)\n",
    "metric = metrics[0]; print(metric)\n",
    "# column 0:\n",
    "fig_str = 'lh_'+pheno+'_'+metric+'_z.png'\n",
    "try:\n",
    "#     axes[0,0].set_title('Thickness (left)')\n",
    "    image = mpimg.imread('lat_' + fig_str); axes[0,0].imshow(image); axes[0,0].axis('off')\n",
    "except FileNotFoundError: axes[0,0].axis('off')\n",
    "try:\n",
    "    image = mpimg.imread('med_' + fig_str); axes[1,0].imshow(image); axes[1,0].axis('off')\n",
    "except FileNotFoundError: axes[1,0].axis('off')\n",
    "    \n",
    "# column 1:\n",
    "fig_str = 'rh_'+pheno+'_'+metric+'_z.png'\n",
    "try:\n",
    "#     axes[0,1].set_title('Thickness (right)')\n",
    "    image = mpimg.imread('lat_' + fig_str); axes[0,1].imshow(image); axes[0,1].axis('off')\n",
    "except FileNotFoundError: axes[0,1].axis('off')\n",
    "try:\n",
    "    image = mpimg.imread('med_' + fig_str); axes[1,1].imshow(image); axes[1,1].axis('off')\n",
    "except FileNotFoundError: axes[1,1].axis('off')\n",
    "\n",
    "plt.show()\n",
    "f.savefig(metric+'_'+pheno+'_z.png', dpi = 300, bbox_inches = 'tight', pad_inches = 0)"
   ]
  }
 ],
 "metadata": {
  "kernelspec": {
   "display_name": "Python 3",
   "language": "python",
   "name": "python3"
  },
  "language_info": {
   "codemirror_mode": {
    "name": "ipython",
    "version": 3
   },
   "file_extension": ".py",
   "mimetype": "text/x-python",
   "name": "python",
   "nbconvert_exporter": "python",
   "pygments_lexer": "ipython3",
   "version": "3.7.3"
  }
 },
 "nbformat": 4,
 "nbformat_minor": 4
}
