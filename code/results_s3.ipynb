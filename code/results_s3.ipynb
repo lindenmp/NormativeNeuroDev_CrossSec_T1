{
 "cells": [
  {
   "cell_type": "markdown",
   "metadata": {},
   "source": [
    "# Results, section 3:"
   ]
  },
  {
   "cell_type": "code",
   "execution_count": 1,
   "metadata": {},
   "outputs": [],
   "source": [
    "import os, sys\n",
    "import pandas as pd\n",
    "import numpy as np\n",
    "import seaborn as sns\n",
    "import scipy as sp\n",
    "from scipy import stats\n",
    "import matplotlib.pyplot as plt\n",
    "plt.rcParams['svg.fonttype'] = 'none'\n",
    "import statsmodels.api as sm"
   ]
  },
  {
   "cell_type": "code",
   "execution_count": 2,
   "metadata": {},
   "outputs": [],
   "source": [
    "sys.path.append('/Users/lindenmp/Dropbox/Work/ResProjects/NormativeNeuroDev_CrossSec_T1/code/func/')\n",
    "from proj_environment import set_proj_env\n",
    "from func import run_corr, get_fdr_p, get_cmap, perc_dev, get_fdr_p_df"
   ]
  },
  {
   "cell_type": "code",
   "execution_count": 3,
   "metadata": {},
   "outputs": [],
   "source": [
    "train_test_str = 'squeakycleanExclude' # 'squeakycleanExclude' 'trte_psychopathology'\n",
    "exclude_str = 't1Exclude' # 't1Exclude' 'fsFinalExclude'\n",
    "parc_str = 'schaefer'\n",
    "parc_scale = 400\n",
    "primary_covariate = 'ageAtScan1_Years'\n",
    "parcel_names, parcel_loc, drop_parcels, num_parcels, yeo_idx, yeo_labels = set_proj_env(train_test_str = train_test_str, exclude_str = exclude_str,\n",
    "                                                                            parc_str = parc_str, parc_scale = parc_scale)"
   ]
  },
  {
   "cell_type": "code",
   "execution_count": 4,
   "metadata": {},
   "outputs": [
    {
     "data": {
      "text/plain": [
       "'/Users/lindenmp/Dropbox/Work/ResProjects/NormativeNeuroDev_CrossSec_T1/analysis/normative/t1Exclude/squeakycleanExclude/schaefer_400/ageAtScan1_Years+sex_adj'"
      ]
     },
     "execution_count": 4,
     "metadata": {},
     "output_type": "execute_result"
    }
   ],
   "source": [
    "os.environ['NORMATIVEDIR']"
   ]
  },
  {
   "cell_type": "code",
   "execution_count": 5,
   "metadata": {},
   "outputs": [],
   "source": [
    "metrics = ('ct', 'vol')\n",
    "phenos = ('Overall_Psychopathology','Psychosis_Positive','Psychosis_NegativeDisorg','AnxiousMisery','Externalizing','Fear')"
   ]
  },
  {
   "cell_type": "markdown",
   "metadata": {},
   "source": [
    "## Load data pre-nispat data"
   ]
  },
  {
   "cell_type": "code",
   "execution_count": 6,
   "metadata": {},
   "outputs": [
    {
     "name": "stdout",
     "output_type": "stream",
     "text": [
      "(410, 19)\n",
      "(983, 19)\n"
     ]
    }
   ],
   "source": [
    "# Train\n",
    "df_train = pd.read_csv(os.path.join(os.environ['NORMATIVEDIR'], 'train.csv'))\n",
    "df_train.set_index(['bblid', 'scanid'], inplace = True); print(df_train.shape)\n",
    "df_node_train = pd.read_csv(os.path.join(os.environ['NORMATIVEDIR'], 'resp_train.csv'))\n",
    "df_node_train.set_index(['bblid', 'scanid'], inplace = True)\n",
    "\n",
    "# Test\n",
    "df = pd.read_csv(os.path.join(os.environ['NORMATIVEDIR'], 'test.csv'))\n",
    "df.set_index(['bblid', 'scanid'], inplace = True); print(df.shape)\n",
    "df_node = pd.read_csv(os.path.join(os.environ['NORMATIVEDIR'], 'resp_test.csv'))\n",
    "df_node.set_index(['bblid', 'scanid'], inplace = True)"
   ]
  },
  {
   "cell_type": "markdown",
   "metadata": {},
   "source": [
    "## Age effects"
   ]
  },
  {
   "cell_type": "code",
   "execution_count": 7,
   "metadata": {},
   "outputs": [
    {
     "name": "stderr",
     "output_type": "stream",
     "text": [
      "/Users/lindenmp/.virtualenvs/NeuroDev_NetworkControl/lib/python3.7/site-packages/numpy/core/fromnumeric.py:2389: FutureWarning: Method .ptp is deprecated and will be removed in a future version. Use numpy.ptp instead.\n",
      "  return ptp(axis=axis, out=out, **kwargs)\n"
     ]
    }
   ],
   "source": [
    "# regress out sex\n",
    "df_nuis = df_train.loc[:,'sex_adj']\n",
    "df_nuis = sm.add_constant(df_nuis)\n",
    "\n",
    "cols = df_node_train.columns\n",
    "mdl = sm.OLS(df_node_train.loc[:,cols].astype(float), df_nuis.astype(float)).fit()\n",
    "y_pred = mdl.predict(df_nuis)\n",
    "y_pred.columns = cols\n",
    "df_node_train.loc[:,cols] = df_node_train.loc[:,cols] - y_pred"
   ]
  },
  {
   "cell_type": "code",
   "execution_count": 8,
   "metadata": {},
   "outputs": [],
   "source": [
    "# age effect on training set\n",
    "df_age_effect = run_corr(df_train[primary_covariate], df_node_train, typ = 'spearmanr'); df_age_effect['p_fdr'] = get_fdr_p(df_age_effect['p'])\n",
    "age_alpha = 0.05\n",
    "age_filter = df_age_effect['p_fdr'].values < age_alpha"
   ]
  },
  {
   "cell_type": "code",
   "execution_count": 9,
   "metadata": {},
   "outputs": [
    {
     "data": {
      "text/plain": [
       "618"
      ]
     },
     "execution_count": 9,
     "metadata": {},
     "output_type": "execute_result"
    }
   ],
   "source": [
    "age_filter.sum()"
   ]
  },
  {
   "cell_type": "markdown",
   "metadata": {},
   "source": [
    "## Load nispat outputs"
   ]
  },
  {
   "cell_type": "code",
   "execution_count": 10,
   "metadata": {},
   "outputs": [],
   "source": [
    "smse = np.loadtxt(os.path.join(os.environ['NORMATIVEDIR'], 'smse.txt'), delimiter = ' ').transpose()\n",
    "df_smse = pd.DataFrame(data = smse, index = df_node.columns)\n",
    "\n",
    "z = np.loadtxt(os.path.join(os.environ['NORMATIVEDIR'], 'Z.txt'), delimiter = ' ').transpose()\n",
    "df_z = pd.DataFrame(data = z, index = df_node.index, columns = df_node.columns)"
   ]
  },
  {
   "cell_type": "code",
   "execution_count": 11,
   "metadata": {},
   "outputs": [],
   "source": [
    "smse_thresh = 1\n",
    "smse_filter = df_smse.values < smse_thresh\n",
    "smse_filter = smse_filter.reshape(-1)"
   ]
  },
  {
   "cell_type": "code",
   "execution_count": 12,
   "metadata": {},
   "outputs": [
    {
     "data": {
      "text/plain": [
       "762"
      ]
     },
     "execution_count": 12,
     "metadata": {},
     "output_type": "execute_result"
    }
   ],
   "source": [
    "smse_filter.sum()"
   ]
  },
  {
   "cell_type": "code",
   "execution_count": 13,
   "metadata": {},
   "outputs": [
    {
     "data": {
      "text/plain": [
       "607"
      ]
     },
     "execution_count": 13,
     "metadata": {},
     "output_type": "execute_result"
    }
   ],
   "source": [
    "region_filter = np.logical_and(age_filter,smse_filter)\n",
    "region_filter.sum()"
   ]
  },
  {
   "cell_type": "markdown",
   "metadata": {},
   "source": [
    "### The interpretation of the z-deviations varies as a function of the age-effect from which the normative model is primarily derived.\n",
    "### For instance, if the normative model predicts a _decrease_ in y with age, then _positive deviations_ may be interpreted as a **_delay_** in this maturational reduction, wheras _negative deviations_ may be interpreted as an _advancement_ in this maturational reduction.\n",
    "### However, if the normative model predicts an _increase_ in y with age, then the interpretation of the deviations is reversed. That is:\n",
    "#### IF predicted change = negative: _positive deviations_ = **_delay_** || _negative deviations_ = **_advance_**\n",
    "#### IF predicted change = positive: _positive deviations_ = **_advance_** || _negative deviations_ = **_delay_**"
   ]
  },
  {
   "cell_type": "code",
   "execution_count": 14,
   "metadata": {},
   "outputs": [
    {
     "name": "stdout",
     "output_type": "stream",
     "text": [
      "Percentage of regions flipp by metric\n",
      "ct: 7.249999999999999\n",
      "vol: 12.0\n"
     ]
    }
   ],
   "source": [
    "# boolean that designates which regions carry with positive predicted change.\n",
    "nm_is_pos = df_age_effect['coef'] > 0\n",
    "print('Percentage of regions flipp by metric')\n",
    "for metric in metrics:\n",
    "    print(metric + ': ' + str(nm_is_pos.filter(regex = metric).sum() / num_parcels * 100))\n",
    "\n",
    "# flipping the z-stats in these regions has the effect of standardising their interpration across the brain to be inline\n",
    "# with the negative predicted change statement above\n",
    "df_z.loc[:,nm_is_pos] = df_z.loc[:,nm_is_pos] * -1"
   ]
  },
  {
   "cell_type": "markdown",
   "metadata": {},
   "source": [
    "## Get pheno-nispat relationships"
   ]
  },
  {
   "cell_type": "code",
   "execution_count": 15,
   "metadata": {},
   "outputs": [],
   "source": [
    "df_pheno_z = pd.read_csv(os.path.join(os.environ['NORMATIVEDIR'], 'df_corr_pheno_z.csv'))\n",
    "df_pheno_z.set_index(['pheno','node'], inplace = True)"
   ]
  },
  {
   "cell_type": "code",
   "execution_count": 16,
   "metadata": {},
   "outputs": [
    {
     "name": "stdout",
     "output_type": "stream",
     "text": [
      "478 significant effects (fdr)\n"
     ]
    }
   ],
   "source": [
    "print(str(np.sum(df_pheno_z['sig_age_smse'])) + ' significant effects (fdr)')"
   ]
  },
  {
   "cell_type": "code",
   "execution_count": 17,
   "metadata": {},
   "outputs": [
    {
     "name": "stdout",
     "output_type": "stream",
     "text": [
      "Overall_Psychopathology: 65 significant effects (fdr)\n",
      "Psychosis_Positive: 148 significant effects (fdr)\n",
      "Psychosis_NegativeDisorg: 97 significant effects (fdr)\n",
      "AnxiousMisery: 45 significant effects (fdr)\n",
      "Externalizing: 65 significant effects (fdr)\n",
      "Fear: 58 significant effects (fdr)\n"
     ]
    }
   ],
   "source": [
    "for pheno in phenos:\n",
    "    print(pheno + ': ' + str(np.sum(df_pheno_z.loc[pheno]['sig_age_smse'] == True)) + ' significant effects (fdr)')"
   ]
  },
  {
   "cell_type": "markdown",
   "metadata": {},
   "source": [
    "# Plots"
   ]
  },
  {
   "cell_type": "code",
   "execution_count": 18,
   "metadata": {},
   "outputs": [
    {
     "name": "stdout",
     "output_type": "stream",
     "text": [
      "('Overall_Psychopathology', 'Psychosis_Positive', 'Psychosis_NegativeDisorg', 'AnxiousMisery', 'Externalizing', 'Fear')\n",
      "('ct', 'vol')\n"
     ]
    }
   ],
   "source": [
    "if not os.path.exists(os.environ['FIGDIR']): os.makedirs(os.environ['FIGDIR'])\n",
    "os.chdir(os.environ['FIGDIR'])\n",
    "sns.set(style='white', context = 'paper', font_scale = 1)\n",
    "cmap = get_cmap('pair')\n",
    "\n",
    "phenos = ('Overall_Psychopathology','Psychosis_Positive','Psychosis_NegativeDisorg','AnxiousMisery','Externalizing','Fear')\n",
    "phenos_label_short = ('Ov. Psych.', 'Psy. (pos.)', 'Psy. (neg.)', 'Anx.-mis.', 'Ext.', 'Fear')\n",
    "phenos_label = ('Overall Psychopathology','Psychosis (Positive)','Psychosis (Negative)','Anxious-Misery','Externalizing','Fear')\n",
    "metrics = ('ct', 'vol')\n",
    "metrics_label_short = ('Thickness', 'Volume')\n",
    "metrics_label = ('Thickness', 'Volume')\n",
    "\n",
    "print(phenos)\n",
    "print(metrics)\n",
    "\n",
    "metrics_labels = list()\n",
    "for metric in metrics:\n",
    "    tmp_labels = [metric + '_' + str(i) for i in range(num_parcels)]\n",
    "    metrics_labels = metrics_labels + tmp_labels"
   ]
  },
  {
   "cell_type": "markdown",
   "metadata": {},
   "source": [
    "### Calculate node summary metrics"
   ]
  },
  {
   "cell_type": "code",
   "execution_count": 19,
   "metadata": {},
   "outputs": [],
   "source": [
    "z_thr = 2.6    \n",
    "# percent of supra-threshold (cf. Wolfers et al. JAMA Psych)\n",
    "node_z_perc_p = perc_dev(df_z.transpose(), thr = z_thr, sign = 'pos')\n",
    "node_z_perc_n = perc_dev(df_z.transpose(), thr = z_thr, sign = 'neg')"
   ]
  },
  {
   "cell_type": "code",
   "execution_count": 20,
   "metadata": {},
   "outputs": [
    {
     "name": "stdout",
     "output_type": "stream",
     "text": [
      "max +ve % for ct: 2.95\n",
      "count of +ve deviations >2% for ct: 6\n",
      "count of +ve deviations >1.5% for ct: 38\n",
      "max -ve % for ct: 2.44\n",
      "count of -ve deviations >2% for ct: 2\n",
      "count of -ve deviations >1.5% for ct: 17\n",
      "\n",
      "max +ve % for vol: 2.14\n",
      "count of +ve deviations >2% for vol: 1\n",
      "count of +ve deviations >1.5% for vol: 14\n",
      "max -ve % for vol: 2.34\n",
      "count of -ve deviations >2% for vol: 1\n",
      "count of -ve deviations >1.5% for vol: 5\n",
      "\n"
     ]
    }
   ],
   "source": [
    "for metric in metrics:\n",
    "    roi_data = node_z_perc_p[region_filter].filter(regex = metric)\n",
    "    print('max +ve % for ' + metric + ': ' + str(np.round(roi_data.max(),2)))\n",
    "    print('count of +ve deviations >2% for ' + metric + ': ' + str(np.sum(roi_data > 2)))\n",
    "    print('count of +ve deviations >1.5% for ' + metric + ': ' + str(np.sum(roi_data > 1.5)))\n",
    "    roi_data = node_z_perc_n[region_filter].filter(regex = metric)\n",
    "    print('max -ve % for ' + metric + ': ' + str(np.round(roi_data.max(),2)))\n",
    "    print('count of -ve deviations >2% for ' + metric + ': ' + str(np.sum(roi_data > 2)))\n",
    "    print('count of -ve deviations >1.5% for ' + metric + ': ' + str(np.sum(roi_data > 1.5)))\n",
    "    print()"
   ]
  },
  {
   "cell_type": "code",
   "execution_count": 21,
   "metadata": {},
   "outputs": [
    {
     "name": "stdout",
     "output_type": "stream",
     "text": [
      "ct: -0.28, 0.0\n",
      "vol: -0.24, 0.0\n"
     ]
    }
   ],
   "source": [
    "for metric in metrics:\n",
    "    r = sp.stats.spearmanr(node_z_perc_p[region_filter].filter(regex = metric), node_z_perc_n[region_filter].filter(regex = metric))\n",
    "    if r[1] < .001:\n",
    "        print(metric + ': ' + str(np.round(r[0],2)) + ', ' + str(np.round(r[1],3)))"
   ]
  },
  {
   "cell_type": "code",
   "execution_count": 22,
   "metadata": {},
   "outputs": [],
   "source": [
    "r = pd.DataFrame(index = metrics, columns = phenos)\n",
    "p = pd.DataFrame(index = metrics, columns = phenos)\n",
    "\n",
    "for pheno in phenos:\n",
    "    for metric in metrics:\n",
    "        pheno_data = df_pheno_z.loc[pheno].loc[region_filter,'coef'].filter(regex = metric)\n",
    "        roi_data = node_z_perc_p[region_filter].filter(regex = metric)\n",
    "#         roi_data = node_z_perc_n[region_filter].filter(regex = metric)\n",
    "        r.loc[metric,pheno] = sp.stats.spearmanr(pheno_data, roi_data)[0]\n",
    "        p.loc[metric,pheno] = sp.stats.spearmanr(pheno_data, roi_data)[1]\n",
    "p = get_fdr_p_df(p, alpha = 0.05)"
   ]
  },
  {
   "cell_type": "code",
   "execution_count": 23,
   "metadata": {},
   "outputs": [
    {
     "data": {
      "text/html": [
       "<div>\n",
       "<style scoped>\n",
       "    .dataframe tbody tr th:only-of-type {\n",
       "        vertical-align: middle;\n",
       "    }\n",
       "\n",
       "    .dataframe tbody tr th {\n",
       "        vertical-align: top;\n",
       "    }\n",
       "\n",
       "    .dataframe thead th {\n",
       "        text-align: right;\n",
       "    }\n",
       "</style>\n",
       "<table border=\"1\" class=\"dataframe\">\n",
       "  <thead>\n",
       "    <tr style=\"text-align: right;\">\n",
       "      <th></th>\n",
       "      <th>Overall_Psychopathology</th>\n",
       "      <th>Psychosis_Positive</th>\n",
       "      <th>Psychosis_NegativeDisorg</th>\n",
       "      <th>AnxiousMisery</th>\n",
       "      <th>Externalizing</th>\n",
       "      <th>Fear</th>\n",
       "    </tr>\n",
       "  </thead>\n",
       "  <tbody>\n",
       "    <tr>\n",
       "      <th>ct</th>\n",
       "      <td>NaN</td>\n",
       "      <td>NaN</td>\n",
       "      <td>NaN</td>\n",
       "      <td>NaN</td>\n",
       "      <td>NaN</td>\n",
       "      <td>0.333475</td>\n",
       "    </tr>\n",
       "    <tr>\n",
       "      <th>vol</th>\n",
       "      <td>NaN</td>\n",
       "      <td>NaN</td>\n",
       "      <td>NaN</td>\n",
       "      <td>NaN</td>\n",
       "      <td>NaN</td>\n",
       "      <td>NaN</td>\n",
       "    </tr>\n",
       "  </tbody>\n",
       "</table>\n",
       "</div>"
      ],
      "text/plain": [
       "    Overall_Psychopathology Psychosis_Positive Psychosis_NegativeDisorg  \\\n",
       "ct                      NaN                NaN                      NaN   \n",
       "vol                     NaN                NaN                      NaN   \n",
       "\n",
       "    AnxiousMisery Externalizing      Fear  \n",
       "ct            NaN           NaN  0.333475  \n",
       "vol           NaN           NaN       NaN  "
      ]
     },
     "execution_count": 23,
     "metadata": {},
     "output_type": "execute_result"
    }
   ],
   "source": [
    "r[p<.05]"
   ]
  },
  {
   "cell_type": "code",
   "execution_count": 24,
   "metadata": {},
   "outputs": [
    {
     "name": "stderr",
     "output_type": "stream",
     "text": [
      "/Users/lindenmp/.virtualenvs/NeuroDev_NetworkControl/lib/python3.7/site-packages/seaborn/axisgrid.py:1847: UserWarning: JointGrid annotation is deprecated and will be removed in a future release.\n",
      "  warnings.warn(UserWarning(msg))\n"
     ]
    },
    {
     "data": {
      "image/png": "[encoded data removed]",
      "text/plain": [
       "<Figure size 234x234 with 3 Axes>"
      ]
     },
     "metadata": {},
     "output_type": "display_data"
    }
   ],
   "source": [
    "pheno = 'Fear'\n",
    "metric = 'ct'\n",
    "pheno_data = df_pheno_z.loc[pheno].loc[region_filter,'coef'].filter(regex = metric)\n",
    "roi_data = node_z_perc_p[region_filter].filter(regex = metric)\n",
    "\n",
    "f = sns.jointplot(x = pheno_data, y = roi_data, kind=\"kde\")\n",
    "f.fig.set_figwidth(3.25)\n",
    "f.fig.set_figheight(3.25)\n",
    "f.set_axis_labels('Regional $\\\\rho$ value', 'Regional percentage of extreme delay')\n",
    "f.annotate(sp.stats.spearmanr)\n",
    "f.plot_joint(plt.scatter, c = \"k\", s = 3, linewidth = 2, marker = \".\", alpha = 0.25)\n",
    "f.ax_joint.collections[0].set_alpha(0)\n",
    "f.savefig('corr_spatial_' + pheno + '_' + metric + '_z.svg', dpi = 300, bbox_inches = 'tight', pad_inches = 0)"
   ]
  },
  {
   "cell_type": "markdown",
   "metadata": {},
   "source": [
    "## Overlap between individuals"
   ]
  },
  {
   "cell_type": "markdown",
   "metadata": {},
   "source": [
    "### Calculate subject summary metrics"
   ]
  },
  {
   "cell_type": "code",
   "execution_count": 25,
   "metadata": {},
   "outputs": [],
   "source": [
    "# percent of supra-threshold (cf. Wolfers et al. JAMA Psych)\n",
    "for metric in metrics:\n",
    "    # percent of supra-threshold (cf. Wolfers et al. JAMA Psych)\n",
    "    df[metric + '_z_perc-p'] = perc_dev(df_z.filter(regex = metric), thr = z_thr, sign = 'pos')\n",
    "    df[metric + '_z_perc-n'] = perc_dev(df_z.filter(regex = metric), thr = z_thr, sign = 'neg')"
   ]
  },
  {
   "cell_type": "code",
   "execution_count": 26,
   "metadata": {},
   "outputs": [
    {
     "data": {
      "text/plain": [
       "0.5927654609101517"
      ]
     },
     "execution_count": 26,
     "metadata": {},
     "output_type": "execute_result"
    }
   ],
   "source": [
    "pos_bol = df['ct_z_perc-p'] > 0 # vectors of people with non-zero 0 percentages extreme positive deviations\n",
    "neg_bol = df['ct_z_perc-n'] > 0 # vectors of people with non-zero 0 percentages extreme negative deviations\n",
    "sp.spatial.distance.jaccard(pos_bol, neg_bol)"
   ]
  },
  {
   "cell_type": "code",
   "execution_count": 27,
   "metadata": {},
   "outputs": [
    {
     "data": {
      "text/plain": [
       "0.5094972067039106"
      ]
     },
     "execution_count": 27,
     "metadata": {},
     "output_type": "execute_result"
    }
   ],
   "source": [
    "pos_bol = df['vol_z_perc-p'] > 0 # vectors of people with non-zero 0 percentages extreme positive deviations\n",
    "neg_bol = df['vol_z_perc-n'] > 0 # vectors of people with non-zero 0 percentages extreme negative deviations\n",
    "sp.spatial.distance.jaccard(pos_bol, neg_bol)"
   ]
  },
  {
   "cell_type": "markdown",
   "metadata": {},
   "source": [
    "## Brain plots nispat"
   ]
  },
  {
   "cell_type": "code",
   "execution_count": 28,
   "metadata": {},
   "outputs": [],
   "source": [
    "import matplotlib.image as mpimg\n",
    "from brain_plot_func import roi_to_vtx, brain_plot"
   ]
  },
  {
   "cell_type": "code",
   "execution_count": 29,
   "metadata": {},
   "outputs": [],
   "source": [
    "subject_id = 'fsaverage'"
   ]
  },
  {
   "cell_type": "code",
   "execution_count": 30,
   "metadata": {},
   "outputs": [
    {
     "name": "stdout",
     "output_type": "stream",
     "text": [
      "Populating the interactive namespace from numpy and matplotlib\n"
     ]
    },
    {
     "name": "stderr",
     "output_type": "stream",
     "text": [
      "/Users/lindenmp/.virtualenvs/NeuroDev_NetworkControl/lib/python3.7/site-packages/IPython/core/magics/pylab.py:160: UserWarning: pylab import has clobbered these variables: ['get_cmap', 'f']\n",
      "`%matplotlib` prevents importing * from pylab and numpy\n",
      "  \"\\n`%matplotlib` prevents importing * from pylab and numpy\"\n"
     ]
    }
   ],
   "source": [
    "%pylab qt"
   ]
  },
  {
   "cell_type": "markdown",
   "metadata": {},
   "source": [
    "## Brain plots - overlap maps"
   ]
  },
  {
   "cell_type": "code",
   "execution_count": 31,
   "metadata": {},
   "outputs": [
    {
     "name": "stdout",
     "output_type": "stream",
     "text": [
      "colormap sequential: [0.00e+00, 1.25e+00, 2.50e+00] (opaque)\n",
      "colormap sequential: [0.00e+00, 1.25e+00, 2.50e+00] (opaque)\n",
      "colormap sequential: [0.00e+00, 1.25e+00, 2.50e+00] (opaque)\n",
      "colormap sequential: [0.00e+00, 1.25e+00, 2.50e+00] (opaque)\n",
      "colormap sequential: [0.00e+00, 1.25e+00, 2.50e+00] (opaque)\n",
      "colormap sequential: [0.00e+00, 1.25e+00, 2.50e+00] (opaque)\n",
      "colormap sequential: [0.00e+00, 1.25e+00, 2.50e+00] (opaque)\n",
      "colormap sequential: [0.00e+00, 1.25e+00, 2.50e+00] (opaque)\n",
      "colormap sequential: [0.00e+00, 1.25e+00, 2.50e+00] (opaque)\n",
      "colormap sequential: [0.00e+00, 1.25e+00, 2.50e+00] (opaque)\n",
      "colormap sequential: [0.00e+00, 1.25e+00, 2.50e+00] (opaque)\n",
      "colormap sequential: [0.00e+00, 1.25e+00, 2.50e+00] (opaque)\n",
      "colormap sequential: [0.00e+00, 1.25e+00, 2.50e+00] (opaque)\n",
      "colormap sequential: [0.00e+00, 1.25e+00, 2.50e+00] (opaque)\n",
      "colormap sequential: [0.00e+00, 1.25e+00, 2.50e+00] (opaque)\n",
      "colormap sequential: [0.00e+00, 1.25e+00, 2.50e+00] (opaque)\n"
     ]
    }
   ],
   "source": [
    "for metric in metrics:\n",
    "    cut_pos = node_z_perc_p.filter(regex = metric).mean()\n",
    "    cut_neg = node_z_perc_n.filter(regex = metric).mean()\n",
    "    \n",
    "    for hemi in ('lh', 'rh'):\n",
    "        for i in range(2):\n",
    "\n",
    "            if i == 0:\n",
    "                fig_str = hemi + '_' + metric + '_z_perc_p'\n",
    "                roi_data = node_z_perc_p.filter(regex = metric).values\n",
    "            elif i == 1:\n",
    "                fig_str = hemi + '_' + metric + '_z_perc_n'\n",
    "                roi_data = node_z_perc_n.filter(regex = metric).values\n",
    "\n",
    "            parc_file = os.path.join('/Users/lindenmp/Dropbox/Work/ResProjects/NeuroDev_NetworkControl/figs/Parcellations/FreeSurfer5.3/fsaverage/label/',\n",
    "                                     hemi + '.Schaefer2018_' + str(parc_scale) + 'Parcels_17Networks_order.annot')\n",
    "\n",
    "            age_filt = df_age_effect.filter(regex = metric, axis = 0)['p_fdr'].values < age_alpha\n",
    "            smse_filt = df_smse.filter(regex = metric, axis = 0).values < smse_thresh\n",
    "            smse_filt = smse_filt.reshape(-1)\n",
    "            region_filt = np.logical_and(age_filt,smse_filt)\n",
    "\n",
    "            # Threshold\n",
    "            roi_data[roi_data == 0] = -1000\n",
    "            roi_data[~region_filt] = -1000\n",
    "            if metric == 'ct':\n",
    "                center_anchor = 2.5\n",
    "            elif metric == 'vol':\n",
    "                center_anchor = 2.5\n",
    "\n",
    "            if np.var(roi_data) > 0:\n",
    "                # project subject's data to vertices\n",
    "                brain_plot(roi_data, parcel_names, parc_file, fig_str, subject_id = subject_id, hemi = hemi, color = 'hot', center_anchor = center_anchor)\n",
    "            else:\n",
    "                print('Nothing significant')"
   ]
  },
  {
   "cell_type": "code",
   "execution_count": 32,
   "metadata": {},
   "outputs": [],
   "source": [
    "%matplotlib inline"
   ]
  },
  {
   "cell_type": "markdown",
   "metadata": {},
   "source": [
    "Figure 4"
   ]
  },
  {
   "cell_type": "code",
   "execution_count": 33,
   "metadata": {},
   "outputs": [
    {
     "data": {
      "image/png": "[encoded data removed]",
      "text/plain": [
       "<Figure size 576x216 with 8 Axes>"
      ]
     },
     "metadata": {
      "needs_background": "light"
     },
     "output_type": "display_data"
    }
   ],
   "source": [
    "f, axes = plt.subplots(2, 4)\n",
    "f.set_figwidth(8)\n",
    "f.set_figheight(3)\n",
    "plt.subplots_adjust(wspace=0, hspace=0)\n",
    "\n",
    "# column 0:\n",
    "hemi = 'lh'\n",
    "fig_str = hemi + '_ct_z_perc_p.png'\n",
    "try:\n",
    "#     axes[0,0].set_title('Thickness (END)')\n",
    "    image = mpimg.imread('lat_' + fig_str); axes[0,0].imshow(image); axes[0,0].axis('off')\n",
    "except FileNotFoundError: axes[0,0].axis('off')\n",
    "try:\n",
    "    image = mpimg.imread('med_' + fig_str); axes[1,0].imshow(image); axes[1,0].axis('off')\n",
    "except FileNotFoundError: axes[1,0].axis('off')\n",
    "    \n",
    "# column 1:\n",
    "fig_str = hemi + '_ct_z_perc_n.png'\n",
    "try:\n",
    "#     axes[0,1].set_title('Thickness (EPD)')\n",
    "    image = mpimg.imread('lat_' + fig_str); axes[0,1].imshow(image); axes[0,1].axis('off')\n",
    "except FileNotFoundError: axes[0,1].axis('off')\n",
    "try:\n",
    "    image = mpimg.imread('med_' + fig_str); axes[1,1].imshow(image); axes[1,1].axis('off')\n",
    "except FileNotFoundError: axes[1,1].axis('off')\n",
    "    \n",
    "# column 2:\n",
    "fig_str = hemi + '_vol_z_perc_p.png'\n",
    "try:\n",
    "#     axes[0,2].set_title('Strength (END)')\n",
    "    image = mpimg.imread('lat_' + fig_str); axes[0,2].imshow(image); axes[0,2].axis('off')\n",
    "except FileNotFoundError: axes[0,2].axis('off')\n",
    "try:\n",
    "    image = mpimg.imread('med_' + fig_str); axes[1,2].imshow(image); axes[1,2].axis('off')\n",
    "except FileNotFoundError: axes[1,2].axis('off')\n",
    "    \n",
    "# column 3:\n",
    "fig_str = hemi + '_vol_z_perc_n.png'\n",
    "try:\n",
    "#     axes[0,3].set_title('Strength (EPD)')\n",
    "    image = mpimg.imread('lat_' + fig_str); axes[0,3].imshow(image); axes[0,3].axis('off')\n",
    "except FileNotFoundError: axes[0,3].axis('off')\n",
    "try:\n",
    "    image = mpimg.imread('med_' + fig_str); axes[1,3].imshow(image); axes[1,3].axis('off')\n",
    "except FileNotFoundError: axes[1,3].axis('off')\n",
    "\n",
    "plt.show()\n",
    "# f.savefig('brain_plot_tiled_perc_pn_'+hemi+'.png', dpi = 600, bbox_inches = 'tight', pad_inches = 0)\n",
    "f.savefig('brain_plot_tiled_perc_pn_'+hemi+'.svg', dpi = 1200, bbox_inches = 'tight', pad_inches = 0)"
   ]
  }
 ],
 "metadata": {
  "kernelspec": {
   "display_name": "Python 3",
   "language": "python",
   "name": "python3"
  },
  "language_info": {
   "codemirror_mode": {
    "name": "ipython",
    "version": 3
   },
   "file_extension": ".py",
   "mimetype": "text/x-python",
   "name": "python",
   "nbconvert_exporter": "python",
   "pygments_lexer": "ipython3",
   "version": "3.7.3"
  }
 },
 "nbformat": 4,
 "nbformat_minor": 4
}
